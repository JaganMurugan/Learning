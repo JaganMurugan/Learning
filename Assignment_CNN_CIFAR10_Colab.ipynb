{
  "nbformat": 4,
  "nbformat_minor": 0,
  "metadata": {
    "accelerator": "GPU",
    "colab": {
      "provenance": [],
      "toc_visible": true,
      "include_colab_link": true
    },
    "kernelspec": {
      "display_name": "Python 3",
      "language": "python",
      "name": "python3"
    },
    "language_info": {
      "codemirror_mode": {
        "name": "ipython",
        "version": 3
      },
      "file_extension": ".py",
      "mimetype": "text/x-python",
      "name": "python",
      "nbconvert_exporter": "python",
      "pygments_lexer": "ipython3",
      "version": "3.6.9"
    }
  },
  "cells": [
    {
      "cell_type": "markdown",
      "metadata": {
        "id": "view-in-github",
        "colab_type": "text"
      },
      "source": [
        "<a href=\"https://colab.research.google.com/github/JaganMurugan/Learning/blob/main/Assignment_CNN_CIFAR10_Colab.ipynb\" target=\"_parent\"><img src=\"https://colab.research.google.com/assets/colab-badge.svg\" alt=\"Open In Colab\"/></a>"
      ]
    },
    {
      "cell_type": "markdown",
      "metadata": {
        "id": "uW9Bg8A-JGaY",
        "nbgrader": {
          "grade": false,
          "locked": true,
          "solution": false
        }
      },
      "source": [
        "# <font style=\"color:blue\">Assignment: Implement a CNN for Image Classification on CIFAR10 dataset</font>\n",
        "\n",
        "We have seen how to implement a CNN (LeNet5 and LeNet with the batch norm) in the last section. We used MNIST and Fashion MNIST dataset which are grayscale or single channel datasets. In this assignment, you will implement a CNN Model ( similar to LeNet ) for classifying objects in the `CIFAR10` dataset.\n",
        "\n",
        "The CIFAR10 dataset has the following properties\n",
        "1. It has `10` classes.  \n",
        "1. It has colored images, so it has `3-channels`.\n",
        "1. The image shape is `32 x 32`.\n",
        "\n",
        "Samples of CIFAR10- dataset ([source](https://pytorch.org/tutorials/beginner/blitz/cifar10_tutorial.html?highlight=cifar)):\n",
        "\n",
        "<img src=\"https://www.learnopencv.com/wp-content/uploads/2020/01/c3_w3_cirar10.png\" width=700>\n",
        "\n",
        "\n",
        "# <font color='blue'>Marking Scheme</font>\n",
        "\n",
        "### <font style=\"color:green\">Maximum Points: 30\n",
        "\n",
        "<div>\n",
        "    <table>\n",
        "        <tr><td><h3>Sr. no.</h3></td> <td><h3>Problem</h3></td> <td><h3>Points</h3></td> </tr>\n",
        "        <tr><td><h3>1</h3></td> <td><h3>Implement the CNN Model</h3></td> <td><h3>10</h3></td> </tr>\n",
        "        <tr><td><h3>2</h3></td> <td><h3>Find Mean and Std of Training Data</h3></td> <td><h3>5</h3></td> </tr>\n",
        "        <tr><td><h3>3</h3></td> <td><h3>Model Training & Accuracy</h3></td> <td><h3>15</h3></td> </tr>\n",
        "    </table>\n",
        "</div>\n",
        "\n",
        "\n",
        "# <font color='blue'>Problem Description</font>\n",
        "\n",
        "### <font color='blue'>1. Implement the CNN Model</font>\n",
        "Since the task is to classify objects in a dataset of color images, you need to implement a CNN with 10 output classes. **Also, your model must use `Conv2d`, `BatchNorm2d`, and `ReLU`.**\n",
        "\n",
        "**You need to define the model architecture in the function: `MyModel` ( Step 1 )**\n",
        "\n",
        "Hint: For color images you need to use an input shape that is different than the ones we have been using till now, so that it accepts 3 channel inputs.\n",
        "\n",
        "### <font color='blue'>2. Find Mean and Std of Training Data</font>\n",
        "\n",
        "It is a good practice to normalize the training data. To normalize the data, we need to compute mean and std. As the dataset has colored images, it has `3-channel` (RGB or BGR). We have to find mean and std per channel using training data.\n",
        "\n",
        "**You need to compute the mean and std for the dataset in the function: `get_mean_std_train_data` ( Step 3 )**\n",
        "\n",
        "### <font color='blue'>3. Model Training and Accuracy</font>\n",
        "\n",
        "Once you have defined the model, you can train it. To get better accuracy, you need to play around the training configuration **( Step 5 )** and even the model architecture. You can check the accuracy by running the training loop in `Step 11`.\n",
        "\n",
        "Here are a few hints on how you can improve the accuracy:\n",
        "- Train for longer duration\n",
        "- Try with different learning rate\n",
        "- Try to add more convolutional layers to the architecture\n",
        "- Try to add more nodes in the layers.\n",
        "\n",
        "You need to achieve **75% accuracy** ( See Step11 ) in order to get full marks for this part.\n",
        "\n",
        "**You do not need to implement anything for this, just changing the parameters as mentioned above and running the Notebook will give you the accuracy. ( Step 5 and Step 11 )**"
      ]
    },
    {
      "cell_type": "code",
      "metadata": {
        "id": "zJmbahxxJGah",
        "nbgrader": {
          "grade": false,
          "locked": true,
          "solution": false
        }
      },
      "source": [
        "required_training = True"
      ],
      "execution_count": 2,
      "outputs": []
    },
    {
      "cell_type": "code",
      "metadata": {
        "id": "T6H2Qu9FJGak",
        "nbgrader": {
          "grade": false,
          "locked": true,
          "solution": false
        }
      },
      "source": [
        "%matplotlib inline"
      ],
      "execution_count": 3,
      "outputs": []
    },
    {
      "cell_type": "code",
      "metadata": {
        "id": "_mzyIelRJGao",
        "nbgrader": {
          "grade": false,
          "locked": true,
          "solution": false
        }
      },
      "source": [
        "import matplotlib.pyplot as plt  # one of the best graphics library for python"
      ],
      "execution_count": 4,
      "outputs": []
    },
    {
      "cell_type": "code",
      "metadata": {
        "id": "GUx0pTPAJGar",
        "nbgrader": {
          "grade": false,
          "locked": true,
          "solution": false
        }
      },
      "source": [
        "import os\n",
        "import time\n",
        "\n",
        "from typing import Iterable\n",
        "from dataclasses import dataclass\n",
        "\n",
        "import numpy as np\n",
        "import torch\n",
        "import torch.nn as nn\n",
        "import torch.optim as optim\n",
        "import torch.nn.functional as F\n",
        "\n",
        "from torchvision import datasets, transforms\n",
        "import torchvision"
      ],
      "execution_count": 5,
      "outputs": []
    },
    {
      "cell_type": "markdown",
      "metadata": {
        "id": "nOLoiGVlJGav"
      },
      "source": [
        "# <font style=\"color:blue\">1. CNN Model Architecture [10 Points]</font>\n",
        "\n",
        "You have to write the model code here. You can take reference from LeNet code.\n",
        "\n",
        "If you do not get higher accuracy, here are a few hints:\n",
        "- Try to add more convolutional layers to the architecture\n",
        "- Try to add more nodes in the layers.\n"
      ]
    },
    {
      "cell_type": "code",
      "metadata": {
        "id": "ZJygcZSaJGav"
      },
      "source": [
        "class MyModel(nn.Module):\n",
        "    def __init__(self):\n",
        "        super().__init__()\n",
        "\n",
        "        ### BEGIN SOLUTION\n",
        "        self._body = nn.Sequential(\n",
        "            nn.Conv2d(in_channels=3, out_channels=16, kernel_size=3),\n",
        "            nn.BatchNorm2d(16),\n",
        "            nn.ReLU(inplace=True),\n",
        "\n",
        "            nn.Conv2d(in_channels=16, out_channels=32, kernel_size=3),\n",
        "            nn.BatchNorm2d(32),\n",
        "            nn.ReLU(inplace=True),\n",
        "            nn.MaxPool2d(2),\n",
        "\n",
        "            nn.Conv2d(in_channels=32, out_channels=64, kernel_size=5),\n",
        "            nn.BatchNorm2d(64),\n",
        "            nn.ReLU(inplace=True),\n",
        "            nn.MaxPool2d(2),\n",
        "        )\n",
        "\n",
        "        self._head = nn.Sequential(\n",
        "            nn.Linear(in_features=64*5*5, out_features=120),\n",
        "            nn.ReLU(inplace=True),\n",
        "            nn.Linear(in_features=120, out_features=84),\n",
        "            nn.ReLU(inplace=True),\n",
        "            nn.Linear(in_features=84, out_features=10)\n",
        "        )\n",
        "\n",
        "        ### END SOLUTION\n",
        "\n",
        "    def forward(self, x):\n",
        "        ### BEGIN SOLUTION\n",
        "\n",
        "        x = self._body(x)\n",
        "\n",
        "        x = x.view(x.size()[0],-1)\n",
        "\n",
        "        x = self._head(x)\n",
        "\n",
        "\n",
        "\n",
        "\n",
        "\n",
        "        ### END SOLUTION\n",
        "\n",
        "        return x"
      ],
      "execution_count": 32,
      "outputs": []
    },
    {
      "cell_type": "markdown",
      "metadata": {
        "id": "hq46PTjsJGaz",
        "nbgrader": {
          "grade": false,
          "locked": true,
          "solution": false
        }
      },
      "source": [
        "# <font style=\"color:blue\">2. Display the Network</font>"
      ]
    },
    {
      "cell_type": "code",
      "metadata": {
        "id": "SDEEFkVoJGa0",
        "nbgrader": {
          "grade": false,
          "locked": true,
          "solution": false
        },
        "outputId": "6740a991-af67-4108-d7eb-a4dba655462a",
        "colab": {
          "base_uri": "https://localhost:8080/"
        }
      },
      "source": [
        "my_model = MyModel()\n",
        "print(my_model)"
      ],
      "execution_count": 33,
      "outputs": [
        {
          "output_type": "stream",
          "name": "stdout",
          "text": [
            "MyModel(\n",
            "  (_body): Sequential(\n",
            "    (0): Conv2d(3, 16, kernel_size=(3, 3), stride=(1, 1))\n",
            "    (1): BatchNorm2d(16, eps=1e-05, momentum=0.1, affine=True, track_running_stats=True)\n",
            "    (2): ReLU(inplace=True)\n",
            "    (3): Conv2d(16, 32, kernel_size=(3, 3), stride=(1, 1))\n",
            "    (4): BatchNorm2d(32, eps=1e-05, momentum=0.1, affine=True, track_running_stats=True)\n",
            "    (5): ReLU(inplace=True)\n",
            "    (6): MaxPool2d(kernel_size=2, stride=2, padding=0, dilation=1, ceil_mode=False)\n",
            "    (7): Conv2d(32, 64, kernel_size=(5, 5), stride=(1, 1))\n",
            "    (8): BatchNorm2d(64, eps=1e-05, momentum=0.1, affine=True, track_running_stats=True)\n",
            "    (9): ReLU(inplace=True)\n",
            "    (10): MaxPool2d(kernel_size=2, stride=2, padding=0, dilation=1, ceil_mode=False)\n",
            "  )\n",
            "  (_head): Sequential(\n",
            "    (0): Linear(in_features=1600, out_features=120, bias=True)\n",
            "    (1): ReLU(inplace=True)\n",
            "    (2): Linear(in_features=120, out_features=84, bias=True)\n",
            "    (3): ReLU(inplace=True)\n",
            "    (4): Linear(in_features=84, out_features=10, bias=True)\n",
            "  )\n",
            ")\n"
          ]
        }
      ]
    },
    {
      "cell_type": "markdown",
      "metadata": {
        "id": "2qR75AnbJGa3",
        "lines_to_next_cell": 2,
        "nbgrader": {
          "grade": false,
          "locked": true,
          "solution": false
        }
      },
      "source": [
        "# <font style=\"color:blue\">3. Find Mean and STD of CIFAR10 Data [5 Points]</font>\n",
        "\n",
        "Function **`get_mean_std_train_data`** should `return` `mean` and `std` of training data. You can refer to the code used in the previous section for finding the mean and std of the training data.\n",
        "\n"
      ]
    },
    {
      "cell_type": "code",
      "metadata": {
        "id": "CW7B7G5cJGa4",
        "nbgrader": {
          "grade": false,
          "locked": false,
          "solution": false
        }
      },
      "source": [
        "def get_mean_std_train_data(data_root):\n",
        "\n",
        "    train_transform = transforms.Compose([transforms.ToTensor()])\n",
        "    train_set = datasets.CIFAR10(root=data_root, train=True, download=True, transform=train_transform)\n",
        "\n",
        "    # return mean (numpy.ndarray) and std (numpy.ndarray)\n",
        "    mean = np.array([0.5, 0.5, 0.5])\n",
        "    std = np.array([0.5, 0.5, 0.5])\n",
        "\n",
        "    ### BEGIN SOLUTION\n",
        "\n",
        "    data = train_set.data.astype(np.float32)/255.0\n",
        "    mean = np.mean(data, axis=(0,1,2))\n",
        "    std = np.std(data, axis=(0,1,2))\n",
        "\n",
        "\n",
        "    ### END SOLUTION\n",
        "\n",
        "    return mean, std\n",
        "\n"
      ],
      "execution_count": 8,
      "outputs": []
    },
    {
      "cell_type": "code",
      "metadata": {
        "id": "zsnJTJNXJGa7",
        "nbgrader": {
          "grade": false,
          "locked": true,
          "solution": false
        }
      },
      "source": [
        "def get_data(batch_size, data_root, num_workers=1):\n",
        "\n",
        "\n",
        "    try:\n",
        "        mean, std = get_mean_std_train_data(data_root)\n",
        "        assert len(mean) == len(std) == 3\n",
        "    except:\n",
        "        mean = np.array([0.5, 0.5, 0.5])\n",
        "        std = np.array([0.5, 0.5, 0.5])\n",
        "\n",
        "\n",
        "    train_test_transforms = transforms.Compose([\n",
        "        # this re-scale image tensor values between 0-1. image_tensor /= 255\n",
        "        transforms.ToTensor(),\n",
        "        # subtract mean and divide by variance.\n",
        "        transforms.Normalize(mean, std)\n",
        "    ])\n",
        "\n",
        "    # train dataloader\n",
        "    train_loader = torch.utils.data.DataLoader(\n",
        "        datasets.CIFAR10(root=data_root, train=True, download=False, transform=train_test_transforms),\n",
        "        batch_size=batch_size,\n",
        "        shuffle=True,\n",
        "        num_workers=num_workers\n",
        "    )\n",
        "\n",
        "    # test dataloader\n",
        "    test_loader = torch.utils.data.DataLoader(\n",
        "        datasets.CIFAR10(root=data_root, train=False, download=False, transform=train_test_transforms),\n",
        "        batch_size=batch_size,\n",
        "        shuffle=False,\n",
        "        num_workers=num_workers\n",
        "    )\n",
        "    return train_loader, test_loader"
      ],
      "execution_count": 9,
      "outputs": []
    },
    {
      "cell_type": "markdown",
      "metadata": {
        "id": "03-ZuoXfJGa-",
        "nbgrader": {
          "grade": false,
          "locked": true,
          "solution": false
        }
      },
      "source": [
        "# <font style=\"color:blue\">4. System Configuration</font>\n"
      ]
    },
    {
      "cell_type": "code",
      "metadata": {
        "id": "u4LsyamkJGa_",
        "nbgrader": {
          "grade": false,
          "locked": true,
          "solution": false
        }
      },
      "source": [
        "@dataclass\n",
        "class SystemConfiguration:\n",
        "    '''\n",
        "    Describes the common system setting needed for reproducible training\n",
        "    '''\n",
        "    seed: int = 42  # seed number to set the state of all random number generators\n",
        "    cudnn_benchmark_enabled: bool = True  # enable CuDNN benchmark for the sake of performance\n",
        "    cudnn_deterministic: bool = True  # make cudnn deterministic (reproducible training)"
      ],
      "execution_count": 10,
      "outputs": []
    },
    {
      "cell_type": "markdown",
      "metadata": {
        "id": "HIIgMKe8JGbC",
        "nbgrader": {
          "grade": false,
          "locked": true,
          "solution": false
        }
      },
      "source": [
        "# <font style=\"color:blue\">5. Training Configuration [15 Points]</font>\n",
        "All training parameters are defined here. So,\n",
        "This is where you can improve your accuracy, apart from improving the architecture.\n",
        "\n",
        "Here are a few hints on how you can improve the accuracy:\n",
        "- Train for longer duration\n",
        "- Try with different learning rate\n",
        "\n",
        "**You need to achieve 75% accuracy in order to get full marks for this part.**\n",
        "\n",
        "**You will see the effect of these changes when you run Step 11**"
      ]
    },
    {
      "cell_type": "code",
      "metadata": {
        "id": "8qESDffIJGbD",
        "nbgrader": {
          "grade": false,
          "locked": false,
          "solution": false
        }
      },
      "source": [
        "@dataclass\n",
        "class TrainingConfiguration:\n",
        "    '''\n",
        "    Describes configuration of the training process\n",
        "    '''\n",
        "    batch_size: int = 16  # amount of data to pass through the network at each forward-backward iteration\n",
        "    epochs_count: int = 2  # number of times the whole dataset will be passed through the network\n",
        "    learning_rate: float = 0.1  # determines the speed of network's weights update\n",
        "\n",
        "    log_interval: int = 100  # how many batches to wait between logging training status\n",
        "    test_interval: int = 1  # how many epochs to wait before another test. Set to 1 to get val loss at each epoch\n",
        "    data_root: str = \"./\"  # folder to save data\n",
        "    num_workers: int = 10  # number of concurrent processes using to prepare data\n",
        "    device: str = 'cuda'  # device to use for training.\n",
        "    # update changed parameters in blow coding block.\n",
        "    # Please do not change \"data_root\"\n",
        "\n",
        "    ### BEGIN SOLUTION\n",
        "    epochs_count: int = 20\n",
        "    learning_rate: float = 0.01\n",
        "    batch_size: int = 32\n",
        "    ### END SOLUTION\n"
      ],
      "execution_count": 34,
      "outputs": []
    },
    {
      "cell_type": "markdown",
      "metadata": {
        "id": "ZAQE-iZMJGbG",
        "nbgrader": {
          "grade": false,
          "locked": true,
          "solution": false
        }
      },
      "source": [
        "# <font style=\"color:blue\">6. System Setup</font>\n"
      ]
    },
    {
      "cell_type": "code",
      "metadata": {
        "id": "wdl_GzCqJGbG",
        "nbgrader": {
          "grade": false,
          "locked": true,
          "solution": false
        }
      },
      "source": [
        "def setup_system(system_config: SystemConfiguration) -> None:\n",
        "    torch.manual_seed(system_config.seed)\n",
        "    if torch.cuda.is_available():\n",
        "        torch.backends.cudnn_benchmark_enabled = system_config.cudnn_benchmark_enabled\n",
        "        torch.backends.cudnn.deterministic = system_config.cudnn_deterministic"
      ],
      "execution_count": 24,
      "outputs": []
    },
    {
      "cell_type": "markdown",
      "metadata": {
        "id": "R3OIPd3IJGbJ",
        "nbgrader": {
          "grade": false,
          "locked": true,
          "solution": false
        }
      },
      "source": [
        "# <font style=\"color:blue\">7. Training</font>\n",
        "We are familiar with the training pipeline used in PyTorch. The following steps are performed in the code below:\n",
        "\n",
        "1. Send the data to the required device ( CPU/GPU )\n",
        "1. Make a forward pass using the forward method.\n",
        "1. Find the loss using the Cross_Entropy function.\n",
        "1. Find the gradients using the backward function.\n",
        "1. Update the weights using the optimizer.\n",
        "1. Find the accuracy of the model\n",
        "\n",
        "Repeat the above for the specified number of epochs."
      ]
    },
    {
      "cell_type": "code",
      "metadata": {
        "id": "6EEHzywxJGbK",
        "nbgrader": {
          "grade": false,
          "locked": true,
          "solution": false
        }
      },
      "source": [
        "def train(\n",
        "    train_config: TrainingConfiguration, model: nn.Module, optimizer: torch.optim.Optimizer,\n",
        "    train_loader: torch.utils.data.DataLoader, epoch_idx: int\n",
        ") -> None:\n",
        "\n",
        "    # change model in training mood\n",
        "    model.train()\n",
        "\n",
        "    # to get batch loss\n",
        "    batch_loss = np.array([])\n",
        "\n",
        "    # to get batch accuracy\n",
        "    batch_acc = np.array([])\n",
        "\n",
        "    for batch_idx, (data, target) in enumerate(train_loader):\n",
        "\n",
        "        # clone target\n",
        "        indx_target = target.clone()\n",
        "        # send data to device (its is medatory if GPU has to be used)\n",
        "        data = data.to(train_config.device)\n",
        "        # send target to device\n",
        "        target = target.to(train_config.device)\n",
        "\n",
        "        # reset parameters gradient to zero\n",
        "        optimizer.zero_grad()\n",
        "\n",
        "        # forward pass to the model\n",
        "        output = model(data)\n",
        "\n",
        "        # cross entropy loss\n",
        "        loss = F.cross_entropy(output, target)\n",
        "\n",
        "        # find gradients w.r.t training parameters\n",
        "        loss.backward()\n",
        "        # Update parameters using gardients\n",
        "        optimizer.step()\n",
        "\n",
        "        batch_loss = np.append(batch_loss, [loss.item()])\n",
        "\n",
        "        # Score to probability using softmax\n",
        "        prob = F.softmax(output, dim=1)\n",
        "\n",
        "        # get the index of the max probability\n",
        "        pred = prob.data.max(dim=1)[1]\n",
        "\n",
        "        # correct prediction\n",
        "        correct = pred.cpu().eq(indx_target).sum()\n",
        "\n",
        "        # accuracy\n",
        "        acc = float(correct) / float(len(data))\n",
        "\n",
        "        batch_acc = np.append(batch_acc, [acc])\n",
        "\n",
        "        if batch_idx % train_config.log_interval == 0 and batch_idx > 0:\n",
        "            print(\n",
        "                'Train Epoch: {} [{}/{}] Loss: {:.6f} Acc: {:.4f}'.format(\n",
        "                    epoch_idx, batch_idx * len(data), len(train_loader.dataset), loss.item(), acc\n",
        "                )\n",
        "            )\n",
        "\n",
        "    epoch_loss = batch_loss.mean()\n",
        "    epoch_acc = batch_acc.mean()\n",
        "    return epoch_loss, epoch_acc"
      ],
      "execution_count": 25,
      "outputs": []
    },
    {
      "cell_type": "markdown",
      "metadata": {
        "id": "HQD5e4MvJGbN",
        "nbgrader": {
          "grade": false,
          "locked": true,
          "solution": false
        }
      },
      "source": [
        "# <font style=\"color:blue\">8. Validation</font>\n",
        "\n",
        "After every few epochs **`validation`** will be called with the `trained model` and `test_loader` to get validation loss and accuracy."
      ]
    },
    {
      "cell_type": "code",
      "metadata": {
        "id": "xfYIabotJGbO",
        "nbgrader": {
          "grade": false,
          "locked": true,
          "solution": false
        }
      },
      "source": [
        "def validate(\n",
        "    train_config: TrainingConfiguration,\n",
        "    model: nn.Module,\n",
        "    test_loader: torch.utils.data.DataLoader,\n",
        ") -> float:\n",
        "    model.eval()\n",
        "    test_loss = 0\n",
        "    count_corect_predictions = 0\n",
        "    for data, target in test_loader:\n",
        "        indx_target = target.clone()\n",
        "        data = data.to(train_config.device)\n",
        "\n",
        "        target = target.to(train_config.device)\n",
        "\n",
        "        output = model(data)\n",
        "        # add loss for each mini batch\n",
        "        test_loss += F.cross_entropy(output, target).item()\n",
        "\n",
        "        # Score to probability using softmax\n",
        "        prob = F.softmax(output, dim=1)\n",
        "\n",
        "        # get the index of the max probability\n",
        "        pred = prob.data.max(dim=1)[1]\n",
        "\n",
        "        # add correct prediction count\n",
        "        count_corect_predictions += pred.cpu().eq(indx_target).sum()\n",
        "\n",
        "    # average over number of mini-batches\n",
        "    test_loss = test_loss / len(test_loader)\n",
        "\n",
        "    # average over number of dataset\n",
        "    accuracy = 100. * count_corect_predictions / len(test_loader.dataset)\n",
        "\n",
        "    print(\n",
        "        '\\nTest set: Average loss: {:.4f}, Accuracy: {}/{} ({:.0f}%)\\n'.format(\n",
        "            test_loss, count_corect_predictions, len(test_loader.dataset), accuracy\n",
        "        )\n",
        "    )\n",
        "    return test_loss, accuracy/100.0"
      ],
      "execution_count": 26,
      "outputs": []
    },
    {
      "cell_type": "markdown",
      "metadata": {
        "id": "kllVaLMYJGbV",
        "nbgrader": {
          "grade": false,
          "locked": true,
          "solution": false
        }
      },
      "source": [
        "# <font style=\"color:blue\">9. Saving the Model</font>"
      ]
    },
    {
      "cell_type": "code",
      "metadata": {
        "id": "nX_5qui4JGbW",
        "nbgrader": {
          "grade": false,
          "locked": true,
          "solution": false
        }
      },
      "source": [
        "def save_model(model, device, model_dir='models', model_file_name='cifar10_cnn_model.pt'):\n",
        "\n",
        "\n",
        "    if not os.path.exists(model_dir):\n",
        "        os.makedirs(model_dir)\n",
        "\n",
        "    model_path = os.path.join(model_dir, model_file_name)\n",
        "\n",
        "    # make sure you transfer the model to cpu.\n",
        "    if device == 'cuda':\n",
        "        model.to('cpu')\n",
        "\n",
        "    # save the state_dict\n",
        "    torch.save(model.state_dict(), model_path)\n",
        "\n",
        "    if device == 'cuda':\n",
        "        model.to('cuda')\n",
        "\n",
        "    return"
      ],
      "execution_count": 27,
      "outputs": []
    },
    {
      "cell_type": "markdown",
      "metadata": {
        "id": "eb-Z4XiHJGbZ",
        "nbgrader": {
          "grade": false,
          "locked": true,
          "solution": false
        }
      },
      "source": [
        "# <font style=\"color:blue\">10. Main</font>\n",
        "\n",
        "In this section of code, we use the configuration parameters defined above and start the training. Here are the important actions being taken in the code below:\n",
        "\n",
        "1. Set up system parameters like CPU/GPU, number of threads etc\n",
        "1. Load the data using dataloaders\n",
        "1. Create an instance of the LeNet model\n",
        "1. Specify optimizer to use.\n",
        "1. Set up variables to track loss and accuracy and start training.\n",
        "1. If loss decreases, saving the model"
      ]
    },
    {
      "cell_type": "code",
      "metadata": {
        "id": "iOKDxgpfJGbZ",
        "nbgrader": {
          "grade": false,
          "locked": true,
          "solution": false
        }
      },
      "source": [
        "def main(system_configuration=SystemConfiguration(), training_configuration=TrainingConfiguration()):\n",
        "\n",
        "    # system configuration\n",
        "    setup_system(system_configuration)\n",
        "\n",
        "    # batch size\n",
        "    batch_size_to_set = training_configuration.batch_size\n",
        "    # num_workers\n",
        "    num_workers_to_set = training_configuration.num_workers\n",
        "    # epochs\n",
        "    epoch_num_to_set = training_configuration.epochs_count\n",
        "\n",
        "    # if GPU is available use training config,\n",
        "    # else lowers batch_size, num_workers and epochs count\n",
        "    if torch.cuda.is_available():\n",
        "        device = \"cuda\"\n",
        "    else:\n",
        "        device = \"cpu\"\n",
        "        num_workers_to_set = 2\n",
        "\n",
        "    # data loader\n",
        "    train_loader, test_loader = get_data(\n",
        "        batch_size=training_configuration.batch_size,\n",
        "        data_root=training_configuration.data_root,\n",
        "        num_workers=num_workers_to_set\n",
        "    )\n",
        "\n",
        "    # Update training configuration\n",
        "    training_configuration = TrainingConfiguration(\n",
        "        device=device,\n",
        "        num_workers=num_workers_to_set\n",
        "    )\n",
        "\n",
        "    # initiate model\n",
        "    model = MyModel()\n",
        "\n",
        "    print(\"Training on {}\".format(training_configuration.device))\n",
        "\n",
        "    # send model to device (GPU/CPU)\n",
        "    model.to(training_configuration.device)\n",
        "\n",
        "    # optimizer\n",
        "    optimizer = optim.SGD(\n",
        "        model.parameters(),\n",
        "        lr=training_configuration.learning_rate\n",
        "    )\n",
        "\n",
        "    best_loss = torch.tensor(np.inf)\n",
        "    best_accuracy = torch.tensor(0)\n",
        "\n",
        "    # epoch train/test loss\n",
        "    epoch_train_loss = np.array([])\n",
        "    epoch_test_loss = np.array([])\n",
        "\n",
        "    # epch train/test accuracy\n",
        "    epoch_train_acc = np.array([])\n",
        "    epoch_test_acc = np.array([])\n",
        "\n",
        "    # trainig time measurement\n",
        "    t_begin = time.time()\n",
        "    for epoch in range(training_configuration.epochs_count):\n",
        "\n",
        "        train_loss, train_acc = train(training_configuration, model, optimizer, train_loader, epoch)\n",
        "\n",
        "        epoch_train_loss = np.append(epoch_train_loss, [train_loss])\n",
        "\n",
        "        epoch_train_acc = np.append(epoch_train_acc, [train_acc])\n",
        "\n",
        "        elapsed_time = time.time() - t_begin\n",
        "        speed_epoch = elapsed_time / (epoch + 1)\n",
        "        speed_batch = speed_epoch / len(train_loader)\n",
        "        eta = speed_epoch * training_configuration.epochs_count - elapsed_time\n",
        "\n",
        "        print(\n",
        "            \"Elapsed {:.2f}s, {:.2f} s/epoch, {:.2f} s/batch, ets {:.2f}s\".format(\n",
        "                elapsed_time, speed_epoch, speed_batch, eta\n",
        "            )\n",
        "        )\n",
        "\n",
        "        if epoch % training_configuration.test_interval == 0:\n",
        "            current_loss, current_accuracy = validate(training_configuration, model, test_loader)\n",
        "\n",
        "            epoch_test_loss = np.append(epoch_test_loss, [current_loss])\n",
        "\n",
        "            epoch_test_acc = np.append(epoch_test_acc, [current_accuracy])\n",
        "\n",
        "            if current_loss < best_loss:\n",
        "                best_loss = current_loss\n",
        "\n",
        "            if current_accuracy > best_accuracy:\n",
        "                best_accuracy = current_accuracy\n",
        "                print('Accuracy improved, saving the model.\\n')\n",
        "                save_model(model, device)\n",
        "\n",
        "\n",
        "    print(\"Total time: {:.2f}, Best Loss: {:.3f}, Best Accuracy: {:.3f}\".format(time.time() - t_begin, best_loss,\n",
        "                                                                                best_accuracy))\n",
        "\n",
        "    return model, epoch_train_loss, epoch_train_acc, epoch_test_loss, epoch_test_acc"
      ],
      "execution_count": 28,
      "outputs": []
    },
    {
      "cell_type": "markdown",
      "metadata": {
        "id": "zll4UE--JGbd"
      },
      "source": [
        "# <font style=\"color:blue\">Step 11: Start Training</font>\n",
        "This is where you start the training. You may see that the training does not converge or does not give a good accuracy. You need to change\n",
        "- In Step 1: the network architecture and add a few more layers or more nodes to the already existing layers\n",
        "- In Step 5: training parameters such as learning rate or batch_size or epochs so that the network converges or run the network for longer so that it gets more time to fit the data\n",
        "\n",
        "**You need to make sure that the accuracy at the end is at least 75%.**"
      ]
    },
    {
      "cell_type": "code",
      "metadata": {
        "id": "X13F4qQCJGbe",
        "nbgrader": {
          "grade": false,
          "locked": true,
          "solution": false
        },
        "scrolled": true,
        "outputId": "6807df2c-88e7-4b27-f35c-9924b24595fe",
        "colab": {
          "base_uri": "https://localhost:8080/"
        }
      },
      "source": [
        "if required_training:\n",
        "    model, epoch_train_loss, epoch_train_acc, epoch_test_loss, epoch_test_acc = main()"
      ],
      "execution_count": 35,
      "outputs": [
        {
          "output_type": "stream",
          "name": "stdout",
          "text": [
            "Training on cuda\n",
            "Train Epoch: 0 [3200/50000] Loss: 2.181423 Acc: 0.1562\n",
            "Train Epoch: 0 [6400/50000] Loss: 1.913289 Acc: 0.3750\n",
            "Train Epoch: 0 [9600/50000] Loss: 1.873082 Acc: 0.4375\n",
            "Train Epoch: 0 [12800/50000] Loss: 1.785005 Acc: 0.3125\n",
            "Train Epoch: 0 [16000/50000] Loss: 1.732604 Acc: 0.4062\n",
            "Train Epoch: 0 [19200/50000] Loss: 1.512636 Acc: 0.3750\n",
            "Train Epoch: 0 [22400/50000] Loss: 1.266829 Acc: 0.5938\n",
            "Train Epoch: 0 [25600/50000] Loss: 1.518582 Acc: 0.3750\n",
            "Train Epoch: 0 [28800/50000] Loss: 1.304083 Acc: 0.5000\n",
            "Train Epoch: 0 [32000/50000] Loss: 1.296995 Acc: 0.5000\n",
            "Train Epoch: 0 [35200/50000] Loss: 1.406387 Acc: 0.3750\n",
            "Train Epoch: 0 [38400/50000] Loss: 1.048729 Acc: 0.6250\n",
            "Train Epoch: 0 [41600/50000] Loss: 1.137151 Acc: 0.6250\n",
            "Train Epoch: 0 [44800/50000] Loss: 1.103457 Acc: 0.6250\n",
            "Train Epoch: 0 [48000/50000] Loss: 1.377062 Acc: 0.5312\n",
            "Elapsed 19.67s, 19.67 s/epoch, 0.01 s/batch, ets 373.65s\n",
            "\n",
            "Test set: Average loss: 1.2534, Accuracy: 5511/10000 (55%)\n",
            "\n",
            "Accuracy improved, saving the model.\n",
            "\n",
            "Train Epoch: 1 [3200/50000] Loss: 1.110166 Acc: 0.5938\n",
            "Train Epoch: 1 [6400/50000] Loss: 0.729694 Acc: 0.8125\n",
            "Train Epoch: 1 [9600/50000] Loss: 1.235133 Acc: 0.5938\n",
            "Train Epoch: 1 [12800/50000] Loss: 1.010824 Acc: 0.6250\n",
            "Train Epoch: 1 [16000/50000] Loss: 0.758136 Acc: 0.8750\n",
            "Train Epoch: 1 [19200/50000] Loss: 1.026105 Acc: 0.5625\n",
            "Train Epoch: 1 [22400/50000] Loss: 1.156351 Acc: 0.5000\n",
            "Train Epoch: 1 [25600/50000] Loss: 0.895408 Acc: 0.6562\n",
            "Train Epoch: 1 [28800/50000] Loss: 1.078662 Acc: 0.6250\n",
            "Train Epoch: 1 [32000/50000] Loss: 1.017924 Acc: 0.5938\n",
            "Train Epoch: 1 [35200/50000] Loss: 1.356382 Acc: 0.5938\n",
            "Train Epoch: 1 [38400/50000] Loss: 0.972135 Acc: 0.6250\n",
            "Train Epoch: 1 [41600/50000] Loss: 1.101333 Acc: 0.5938\n",
            "Train Epoch: 1 [44800/50000] Loss: 1.135079 Acc: 0.5625\n",
            "Train Epoch: 1 [48000/50000] Loss: 1.190561 Acc: 0.5938\n",
            "Elapsed 41.61s, 20.80 s/epoch, 0.01 s/batch, ets 374.45s\n",
            "\n",
            "Test set: Average loss: 1.0223, Accuracy: 6414/10000 (64%)\n",
            "\n",
            "Accuracy improved, saving the model.\n",
            "\n",
            "Train Epoch: 2 [3200/50000] Loss: 1.265506 Acc: 0.5625\n",
            "Train Epoch: 2 [6400/50000] Loss: 1.136451 Acc: 0.5938\n",
            "Train Epoch: 2 [9600/50000] Loss: 0.884578 Acc: 0.6875\n",
            "Train Epoch: 2 [12800/50000] Loss: 1.014102 Acc: 0.6562\n",
            "Train Epoch: 2 [16000/50000] Loss: 0.901375 Acc: 0.6875\n",
            "Train Epoch: 2 [19200/50000] Loss: 1.183539 Acc: 0.5938\n",
            "Train Epoch: 2 [22400/50000] Loss: 0.855994 Acc: 0.6875\n",
            "Train Epoch: 2 [25600/50000] Loss: 0.601679 Acc: 0.7188\n",
            "Train Epoch: 2 [28800/50000] Loss: 1.174046 Acc: 0.5000\n",
            "Train Epoch: 2 [32000/50000] Loss: 0.818432 Acc: 0.6875\n",
            "Train Epoch: 2 [35200/50000] Loss: 0.798213 Acc: 0.7500\n",
            "Train Epoch: 2 [38400/50000] Loss: 0.617572 Acc: 0.8125\n",
            "Train Epoch: 2 [41600/50000] Loss: 0.873296 Acc: 0.6562\n",
            "Train Epoch: 2 [44800/50000] Loss: 1.029960 Acc: 0.5938\n",
            "Train Epoch: 2 [48000/50000] Loss: 0.732199 Acc: 0.8125\n",
            "Elapsed 63.41s, 21.14 s/epoch, 0.01 s/batch, ets 359.30s\n",
            "\n",
            "Test set: Average loss: 0.9618, Accuracy: 6669/10000 (67%)\n",
            "\n",
            "Accuracy improved, saving the model.\n",
            "\n",
            "Train Epoch: 3 [3200/50000] Loss: 0.702467 Acc: 0.7188\n",
            "Train Epoch: 3 [6400/50000] Loss: 0.860546 Acc: 0.7188\n",
            "Train Epoch: 3 [9600/50000] Loss: 0.872725 Acc: 0.7812\n",
            "Train Epoch: 3 [12800/50000] Loss: 0.558027 Acc: 0.8125\n",
            "Train Epoch: 3 [16000/50000] Loss: 1.096943 Acc: 0.6562\n",
            "Train Epoch: 3 [19200/50000] Loss: 0.903399 Acc: 0.6875\n",
            "Train Epoch: 3 [22400/50000] Loss: 0.886741 Acc: 0.6875\n",
            "Train Epoch: 3 [25600/50000] Loss: 1.111598 Acc: 0.7188\n",
            "Train Epoch: 3 [28800/50000] Loss: 0.764052 Acc: 0.7188\n",
            "Train Epoch: 3 [32000/50000] Loss: 0.974573 Acc: 0.6250\n",
            "Train Epoch: 3 [35200/50000] Loss: 0.933882 Acc: 0.6875\n",
            "Train Epoch: 3 [38400/50000] Loss: 0.609212 Acc: 0.7812\n",
            "Train Epoch: 3 [41600/50000] Loss: 0.887746 Acc: 0.6562\n",
            "Train Epoch: 3 [44800/50000] Loss: 1.084215 Acc: 0.6875\n",
            "Train Epoch: 3 [48000/50000] Loss: 0.815934 Acc: 0.6562\n",
            "Elapsed 87.31s, 21.83 s/epoch, 0.01 s/batch, ets 349.25s\n",
            "\n",
            "Test set: Average loss: 0.9270, Accuracy: 6781/10000 (68%)\n",
            "\n",
            "Accuracy improved, saving the model.\n",
            "\n",
            "Train Epoch: 4 [3200/50000] Loss: 0.650526 Acc: 0.8438\n",
            "Train Epoch: 4 [6400/50000] Loss: 0.517655 Acc: 0.7812\n",
            "Train Epoch: 4 [9600/50000] Loss: 0.433991 Acc: 0.8750\n",
            "Train Epoch: 4 [12800/50000] Loss: 0.802466 Acc: 0.6875\n",
            "Train Epoch: 4 [16000/50000] Loss: 0.595842 Acc: 0.8438\n",
            "Train Epoch: 4 [19200/50000] Loss: 1.117447 Acc: 0.5938\n",
            "Train Epoch: 4 [22400/50000] Loss: 0.900831 Acc: 0.7188\n",
            "Train Epoch: 4 [25600/50000] Loss: 0.664221 Acc: 0.7812\n",
            "Train Epoch: 4 [28800/50000] Loss: 0.576553 Acc: 0.7500\n",
            "Train Epoch: 4 [32000/50000] Loss: 0.629545 Acc: 0.7500\n",
            "Train Epoch: 4 [35200/50000] Loss: 0.676979 Acc: 0.7500\n",
            "Train Epoch: 4 [38400/50000] Loss: 0.957755 Acc: 0.7188\n",
            "Train Epoch: 4 [41600/50000] Loss: 1.067706 Acc: 0.6250\n",
            "Train Epoch: 4 [44800/50000] Loss: 0.785039 Acc: 0.5938\n",
            "Train Epoch: 4 [48000/50000] Loss: 0.772114 Acc: 0.7812\n",
            "Elapsed 109.90s, 21.98 s/epoch, 0.01 s/batch, ets 329.69s\n",
            "\n",
            "Test set: Average loss: 0.8684, Accuracy: 7006/10000 (70%)\n",
            "\n",
            "Accuracy improved, saving the model.\n",
            "\n",
            "Train Epoch: 5 [3200/50000] Loss: 0.741927 Acc: 0.7812\n",
            "Train Epoch: 5 [6400/50000] Loss: 0.796924 Acc: 0.7188\n",
            "Train Epoch: 5 [9600/50000] Loss: 0.591910 Acc: 0.7812\n",
            "Train Epoch: 5 [12800/50000] Loss: 0.626245 Acc: 0.8125\n",
            "Train Epoch: 5 [16000/50000] Loss: 0.642648 Acc: 0.7812\n",
            "Train Epoch: 5 [19200/50000] Loss: 0.765484 Acc: 0.8125\n",
            "Train Epoch: 5 [22400/50000] Loss: 0.744576 Acc: 0.7500\n",
            "Train Epoch: 5 [25600/50000] Loss: 0.488931 Acc: 0.8125\n",
            "Train Epoch: 5 [28800/50000] Loss: 0.688860 Acc: 0.7500\n",
            "Train Epoch: 5 [32000/50000] Loss: 0.659034 Acc: 0.8125\n",
            "Train Epoch: 5 [35200/50000] Loss: 0.538453 Acc: 0.8438\n",
            "Train Epoch: 5 [38400/50000] Loss: 0.699399 Acc: 0.7500\n",
            "Train Epoch: 5 [41600/50000] Loss: 0.506868 Acc: 0.7812\n",
            "Train Epoch: 5 [44800/50000] Loss: 0.563113 Acc: 0.8438\n",
            "Train Epoch: 5 [48000/50000] Loss: 0.720513 Acc: 0.7188\n",
            "Elapsed 131.61s, 21.94 s/epoch, 0.01 s/batch, ets 307.10s\n",
            "\n",
            "Test set: Average loss: 0.7713, Accuracy: 7303/10000 (73%)\n",
            "\n",
            "Accuracy improved, saving the model.\n",
            "\n",
            "Train Epoch: 6 [3200/50000] Loss: 0.445698 Acc: 0.8438\n",
            "Train Epoch: 6 [6400/50000] Loss: 0.876810 Acc: 0.7188\n",
            "Train Epoch: 6 [9600/50000] Loss: 0.359998 Acc: 0.9062\n",
            "Train Epoch: 6 [12800/50000] Loss: 0.671759 Acc: 0.7500\n",
            "Train Epoch: 6 [16000/50000] Loss: 0.563411 Acc: 0.7500\n",
            "Train Epoch: 6 [19200/50000] Loss: 0.805969 Acc: 0.7812\n",
            "Train Epoch: 6 [22400/50000] Loss: 0.520694 Acc: 0.8125\n",
            "Train Epoch: 6 [25600/50000] Loss: 0.528646 Acc: 0.7500\n",
            "Train Epoch: 6 [28800/50000] Loss: 0.642643 Acc: 0.8438\n",
            "Train Epoch: 6 [32000/50000] Loss: 0.515137 Acc: 0.8125\n",
            "Train Epoch: 6 [35200/50000] Loss: 0.525565 Acc: 0.8125\n",
            "Train Epoch: 6 [38400/50000] Loss: 0.683549 Acc: 0.6875\n",
            "Train Epoch: 6 [41600/50000] Loss: 0.589712 Acc: 0.8438\n",
            "Train Epoch: 6 [44800/50000] Loss: 0.931305 Acc: 0.6875\n",
            "Train Epoch: 6 [48000/50000] Loss: 0.643133 Acc: 0.7188\n",
            "Elapsed 153.08s, 21.87 s/epoch, 0.01 s/batch, ets 284.28s\n",
            "\n",
            "Test set: Average loss: 0.8161, Accuracy: 7213/10000 (72%)\n",
            "\n",
            "Train Epoch: 7 [3200/50000] Loss: 0.541670 Acc: 0.8438\n",
            "Train Epoch: 7 [6400/50000] Loss: 0.548907 Acc: 0.7188\n",
            "Train Epoch: 7 [9600/50000] Loss: 0.385695 Acc: 0.8750\n",
            "Train Epoch: 7 [12800/50000] Loss: 0.737976 Acc: 0.6875\n",
            "Train Epoch: 7 [16000/50000] Loss: 0.418096 Acc: 0.8438\n",
            "Train Epoch: 7 [19200/50000] Loss: 0.565260 Acc: 0.9062\n",
            "Train Epoch: 7 [22400/50000] Loss: 0.867043 Acc: 0.6875\n",
            "Train Epoch: 7 [25600/50000] Loss: 0.801861 Acc: 0.7500\n",
            "Train Epoch: 7 [28800/50000] Loss: 0.597614 Acc: 0.7812\n",
            "Train Epoch: 7 [32000/50000] Loss: 0.458081 Acc: 0.7812\n",
            "Train Epoch: 7 [35200/50000] Loss: 0.493249 Acc: 0.8125\n",
            "Train Epoch: 7 [38400/50000] Loss: 0.781461 Acc: 0.7812\n",
            "Train Epoch: 7 [41600/50000] Loss: 0.237393 Acc: 0.9375\n",
            "Train Epoch: 7 [44800/50000] Loss: 0.810594 Acc: 0.6562\n",
            "Train Epoch: 7 [48000/50000] Loss: 0.467022 Acc: 0.8750\n",
            "Elapsed 175.47s, 21.93 s/epoch, 0.01 s/batch, ets 263.21s\n",
            "\n",
            "Test set: Average loss: 0.8808, Accuracy: 7128/10000 (71%)\n",
            "\n",
            "Train Epoch: 8 [3200/50000] Loss: 0.688266 Acc: 0.8125\n",
            "Train Epoch: 8 [6400/50000] Loss: 0.738474 Acc: 0.6875\n",
            "Train Epoch: 8 [9600/50000] Loss: 0.444231 Acc: 0.7812\n",
            "Train Epoch: 8 [12800/50000] Loss: 0.462890 Acc: 0.8125\n",
            "Train Epoch: 8 [16000/50000] Loss: 0.737563 Acc: 0.7188\n",
            "Train Epoch: 8 [19200/50000] Loss: 0.542265 Acc: 0.8438\n",
            "Train Epoch: 8 [22400/50000] Loss: 0.579277 Acc: 0.8125\n",
            "Train Epoch: 8 [25600/50000] Loss: 0.538250 Acc: 0.7812\n",
            "Train Epoch: 8 [28800/50000] Loss: 0.495568 Acc: 0.8750\n",
            "Train Epoch: 8 [32000/50000] Loss: 0.516723 Acc: 0.7812\n",
            "Train Epoch: 8 [35200/50000] Loss: 0.451840 Acc: 0.8438\n",
            "Train Epoch: 8 [38400/50000] Loss: 0.300867 Acc: 0.9375\n",
            "Train Epoch: 8 [41600/50000] Loss: 0.462510 Acc: 0.9062\n",
            "Train Epoch: 8 [44800/50000] Loss: 0.460721 Acc: 0.7812\n",
            "Train Epoch: 8 [48000/50000] Loss: 0.360462 Acc: 0.8438\n",
            "Elapsed 197.72s, 21.97 s/epoch, 0.01 s/batch, ets 241.66s\n",
            "\n",
            "Test set: Average loss: 0.9259, Accuracy: 6949/10000 (69%)\n",
            "\n",
            "Train Epoch: 9 [3200/50000] Loss: 0.393932 Acc: 0.8750\n",
            "Train Epoch: 9 [6400/50000] Loss: 0.545458 Acc: 0.8438\n",
            "Train Epoch: 9 [9600/50000] Loss: 0.546652 Acc: 0.8750\n",
            "Train Epoch: 9 [12800/50000] Loss: 0.392304 Acc: 0.8750\n",
            "Train Epoch: 9 [16000/50000] Loss: 0.445947 Acc: 0.8750\n",
            "Train Epoch: 9 [19200/50000] Loss: 0.384450 Acc: 0.8125\n",
            "Train Epoch: 9 [22400/50000] Loss: 0.714193 Acc: 0.7188\n",
            "Train Epoch: 9 [25600/50000] Loss: 0.833567 Acc: 0.7500\n",
            "Train Epoch: 9 [28800/50000] Loss: 0.598629 Acc: 0.7188\n",
            "Train Epoch: 9 [32000/50000] Loss: 0.393546 Acc: 0.8438\n",
            "Train Epoch: 9 [35200/50000] Loss: 0.338605 Acc: 0.9062\n",
            "Train Epoch: 9 [38400/50000] Loss: 0.437253 Acc: 0.8125\n",
            "Train Epoch: 9 [41600/50000] Loss: 0.339723 Acc: 0.8750\n",
            "Train Epoch: 9 [44800/50000] Loss: 0.773288 Acc: 0.7188\n",
            "Train Epoch: 9 [48000/50000] Loss: 0.599887 Acc: 0.7500\n",
            "Elapsed 218.97s, 21.90 s/epoch, 0.01 s/batch, ets 218.97s\n",
            "\n",
            "Test set: Average loss: 0.7406, Accuracy: 7517/10000 (75%)\n",
            "\n",
            "Accuracy improved, saving the model.\n",
            "\n",
            "Train Epoch: 10 [3200/50000] Loss: 0.247118 Acc: 0.9375\n",
            "Train Epoch: 10 [6400/50000] Loss: 0.228197 Acc: 0.9375\n",
            "Train Epoch: 10 [9600/50000] Loss: 0.323031 Acc: 0.8750\n",
            "Train Epoch: 10 [12800/50000] Loss: 0.475570 Acc: 0.9375\n",
            "Train Epoch: 10 [16000/50000] Loss: 0.572475 Acc: 0.8750\n",
            "Train Epoch: 10 [19200/50000] Loss: 0.599901 Acc: 0.7500\n",
            "Train Epoch: 10 [22400/50000] Loss: 0.387953 Acc: 0.8125\n",
            "Train Epoch: 10 [25600/50000] Loss: 0.513255 Acc: 0.8438\n",
            "Train Epoch: 10 [28800/50000] Loss: 0.481207 Acc: 0.8750\n",
            "Train Epoch: 10 [32000/50000] Loss: 0.317725 Acc: 0.8750\n",
            "Train Epoch: 10 [35200/50000] Loss: 0.565813 Acc: 0.8438\n",
            "Train Epoch: 10 [38400/50000] Loss: 0.501784 Acc: 0.7500\n",
            "Train Epoch: 10 [41600/50000] Loss: 0.354239 Acc: 0.8750\n",
            "Train Epoch: 10 [44800/50000] Loss: 0.543053 Acc: 0.8125\n",
            "Train Epoch: 10 [48000/50000] Loss: 0.446042 Acc: 0.8438\n",
            "Elapsed 241.86s, 21.99 s/epoch, 0.01 s/batch, ets 197.88s\n",
            "\n",
            "Test set: Average loss: 0.9722, Accuracy: 7005/10000 (70%)\n",
            "\n",
            "Train Epoch: 11 [3200/50000] Loss: 0.416711 Acc: 0.8438\n",
            "Train Epoch: 11 [6400/50000] Loss: 0.376692 Acc: 0.8125\n",
            "Train Epoch: 11 [9600/50000] Loss: 0.178782 Acc: 0.9375\n",
            "Train Epoch: 11 [12800/50000] Loss: 0.399631 Acc: 0.7812\n",
            "Train Epoch: 11 [16000/50000] Loss: 0.390987 Acc: 0.8750\n",
            "Train Epoch: 11 [19200/50000] Loss: 0.481894 Acc: 0.8438\n",
            "Train Epoch: 11 [22400/50000] Loss: 0.382014 Acc: 0.8125\n",
            "Train Epoch: 11 [25600/50000] Loss: 0.872085 Acc: 0.7188\n",
            "Train Epoch: 11 [28800/50000] Loss: 0.348612 Acc: 0.8750\n",
            "Train Epoch: 11 [32000/50000] Loss: 0.263141 Acc: 0.9062\n",
            "Train Epoch: 11 [35200/50000] Loss: 0.464112 Acc: 0.7500\n",
            "Train Epoch: 11 [38400/50000] Loss: 0.327386 Acc: 0.9062\n",
            "Train Epoch: 11 [41600/50000] Loss: 0.428044 Acc: 0.9062\n",
            "Train Epoch: 11 [44800/50000] Loss: 0.584128 Acc: 0.7500\n",
            "Train Epoch: 11 [48000/50000] Loss: 0.314794 Acc: 0.9062\n",
            "Elapsed 264.33s, 22.03 s/epoch, 0.01 s/batch, ets 176.22s\n",
            "\n",
            "Test set: Average loss: 0.8836, Accuracy: 7260/10000 (73%)\n",
            "\n",
            "Train Epoch: 12 [3200/50000] Loss: 0.248472 Acc: 0.9062\n",
            "Train Epoch: 12 [6400/50000] Loss: 0.484000 Acc: 0.8438\n",
            "Train Epoch: 12 [9600/50000] Loss: 0.298163 Acc: 0.9062\n",
            "Train Epoch: 12 [12800/50000] Loss: 0.129902 Acc: 1.0000\n",
            "Train Epoch: 12 [16000/50000] Loss: 0.245493 Acc: 0.9062\n",
            "Train Epoch: 12 [19200/50000] Loss: 0.363781 Acc: 0.8750\n",
            "Train Epoch: 12 [22400/50000] Loss: 0.403205 Acc: 0.8125\n",
            "Train Epoch: 12 [25600/50000] Loss: 0.295080 Acc: 0.9375\n",
            "Train Epoch: 12 [28800/50000] Loss: 0.330401 Acc: 0.8750\n",
            "Train Epoch: 12 [32000/50000] Loss: 0.270238 Acc: 0.9688\n",
            "Train Epoch: 12 [35200/50000] Loss: 0.229397 Acc: 0.9375\n",
            "Train Epoch: 12 [38400/50000] Loss: 0.434962 Acc: 0.8125\n",
            "Train Epoch: 12 [41600/50000] Loss: 0.182949 Acc: 0.9375\n",
            "Train Epoch: 12 [44800/50000] Loss: 0.330299 Acc: 0.8438\n",
            "Train Epoch: 12 [48000/50000] Loss: 0.456655 Acc: 0.8125\n",
            "Elapsed 286.19s, 22.01 s/epoch, 0.01 s/batch, ets 154.10s\n",
            "\n",
            "Test set: Average loss: 0.9744, Accuracy: 7077/10000 (71%)\n",
            "\n",
            "Train Epoch: 13 [3200/50000] Loss: 0.255376 Acc: 0.9375\n",
            "Train Epoch: 13 [6400/50000] Loss: 0.319157 Acc: 0.9062\n",
            "Train Epoch: 13 [9600/50000] Loss: 0.357578 Acc: 0.8750\n",
            "Train Epoch: 13 [12800/50000] Loss: 0.179823 Acc: 0.9688\n",
            "Train Epoch: 13 [16000/50000] Loss: 0.172025 Acc: 0.9375\n",
            "Train Epoch: 13 [19200/50000] Loss: 0.257634 Acc: 0.9062\n",
            "Train Epoch: 13 [22400/50000] Loss: 0.267144 Acc: 0.9375\n",
            "Train Epoch: 13 [25600/50000] Loss: 0.636506 Acc: 0.7500\n",
            "Train Epoch: 13 [28800/50000] Loss: 0.307185 Acc: 0.8750\n",
            "Train Epoch: 13 [32000/50000] Loss: 0.457610 Acc: 0.8125\n",
            "Train Epoch: 13 [35200/50000] Loss: 0.176091 Acc: 0.9375\n",
            "Train Epoch: 13 [38400/50000] Loss: 0.237993 Acc: 0.9062\n",
            "Train Epoch: 13 [41600/50000] Loss: 0.276107 Acc: 0.8750\n",
            "Train Epoch: 13 [44800/50000] Loss: 0.317651 Acc: 0.8750\n",
            "Train Epoch: 13 [48000/50000] Loss: 0.216909 Acc: 0.9375\n",
            "Elapsed 308.09s, 22.01 s/epoch, 0.01 s/batch, ets 132.04s\n",
            "\n",
            "Test set: Average loss: 0.8219, Accuracy: 7451/10000 (75%)\n",
            "\n",
            "Train Epoch: 14 [3200/50000] Loss: 0.121868 Acc: 0.9688\n",
            "Train Epoch: 14 [6400/50000] Loss: 0.367489 Acc: 0.8750\n",
            "Train Epoch: 14 [9600/50000] Loss: 0.200214 Acc: 0.9062\n",
            "Train Epoch: 14 [12800/50000] Loss: 0.315213 Acc: 0.8750\n",
            "Train Epoch: 14 [16000/50000] Loss: 0.207246 Acc: 0.9688\n",
            "Train Epoch: 14 [19200/50000] Loss: 0.426251 Acc: 0.8438\n",
            "Train Epoch: 14 [22400/50000] Loss: 0.176090 Acc: 0.9375\n",
            "Train Epoch: 14 [25600/50000] Loss: 0.329865 Acc: 0.9375\n",
            "Train Epoch: 14 [28800/50000] Loss: 0.181880 Acc: 0.9375\n",
            "Train Epoch: 14 [32000/50000] Loss: 0.307561 Acc: 0.9062\n",
            "Train Epoch: 14 [35200/50000] Loss: 0.130533 Acc: 0.9688\n",
            "Train Epoch: 14 [38400/50000] Loss: 0.169727 Acc: 0.9375\n",
            "Train Epoch: 14 [41600/50000] Loss: 0.361897 Acc: 0.9375\n",
            "Train Epoch: 14 [44800/50000] Loss: 0.503469 Acc: 0.8750\n",
            "Train Epoch: 14 [48000/50000] Loss: 0.281957 Acc: 0.9062\n",
            "Elapsed 331.76s, 22.12 s/epoch, 0.01 s/batch, ets 110.59s\n",
            "\n",
            "Test set: Average loss: 1.1950, Accuracy: 6717/10000 (67%)\n",
            "\n",
            "Train Epoch: 15 [3200/50000] Loss: 0.110051 Acc: 0.9688\n",
            "Train Epoch: 15 [6400/50000] Loss: 0.322022 Acc: 0.8750\n",
            "Train Epoch: 15 [9600/50000] Loss: 0.190628 Acc: 0.9062\n",
            "Train Epoch: 15 [12800/50000] Loss: 0.153593 Acc: 0.9375\n",
            "Train Epoch: 15 [16000/50000] Loss: 0.127977 Acc: 1.0000\n",
            "Train Epoch: 15 [19200/50000] Loss: 0.168581 Acc: 0.9688\n",
            "Train Epoch: 15 [22400/50000] Loss: 0.302260 Acc: 0.9062\n",
            "Train Epoch: 15 [25600/50000] Loss: 0.166214 Acc: 0.9688\n",
            "Train Epoch: 15 [28800/50000] Loss: 0.142946 Acc: 0.9375\n",
            "Train Epoch: 15 [32000/50000] Loss: 0.320127 Acc: 0.8438\n",
            "Train Epoch: 15 [35200/50000] Loss: 0.675862 Acc: 0.7500\n",
            "Train Epoch: 15 [38400/50000] Loss: 0.287683 Acc: 0.8750\n",
            "Train Epoch: 15 [41600/50000] Loss: 0.180223 Acc: 0.9688\n",
            "Train Epoch: 15 [44800/50000] Loss: 0.533879 Acc: 0.8438\n",
            "Train Epoch: 15 [48000/50000] Loss: 0.210667 Acc: 0.9375\n",
            "Elapsed 354.29s, 22.14 s/epoch, 0.01 s/batch, ets 88.57s\n",
            "\n",
            "Test set: Average loss: 0.8909, Accuracy: 7440/10000 (74%)\n",
            "\n",
            "Train Epoch: 16 [3200/50000] Loss: 0.152113 Acc: 1.0000\n",
            "Train Epoch: 16 [6400/50000] Loss: 0.171661 Acc: 0.9375\n",
            "Train Epoch: 16 [9600/50000] Loss: 0.088690 Acc: 1.0000\n",
            "Train Epoch: 16 [12800/50000] Loss: 0.107005 Acc: 1.0000\n",
            "Train Epoch: 16 [16000/50000] Loss: 0.243420 Acc: 0.8750\n",
            "Train Epoch: 16 [19200/50000] Loss: 0.227673 Acc: 0.8750\n",
            "Train Epoch: 16 [22400/50000] Loss: 0.233738 Acc: 0.8750\n",
            "Train Epoch: 16 [25600/50000] Loss: 0.226376 Acc: 0.9062\n",
            "Train Epoch: 16 [28800/50000] Loss: 0.130394 Acc: 0.9375\n",
            "Train Epoch: 16 [32000/50000] Loss: 0.355285 Acc: 0.9062\n",
            "Train Epoch: 16 [35200/50000] Loss: 0.202710 Acc: 0.9375\n",
            "Train Epoch: 16 [38400/50000] Loss: 0.175707 Acc: 0.9375\n",
            "Train Epoch: 16 [41600/50000] Loss: 0.220619 Acc: 0.8750\n",
            "Train Epoch: 16 [44800/50000] Loss: 0.297761 Acc: 0.8750\n",
            "Train Epoch: 16 [48000/50000] Loss: 0.233135 Acc: 0.9375\n",
            "Elapsed 375.46s, 22.09 s/epoch, 0.01 s/batch, ets 66.26s\n",
            "\n",
            "Test set: Average loss: 0.8842, Accuracy: 7554/10000 (76%)\n",
            "\n",
            "Accuracy improved, saving the model.\n",
            "\n",
            "Train Epoch: 17 [3200/50000] Loss: 0.086218 Acc: 0.9688\n",
            "Train Epoch: 17 [6400/50000] Loss: 0.136090 Acc: 0.9375\n",
            "Train Epoch: 17 [9600/50000] Loss: 0.143223 Acc: 0.9688\n",
            "Train Epoch: 17 [12800/50000] Loss: 0.235484 Acc: 0.9062\n",
            "Train Epoch: 17 [16000/50000] Loss: 0.120871 Acc: 1.0000\n",
            "Train Epoch: 17 [19200/50000] Loss: 0.217938 Acc: 0.9375\n",
            "Train Epoch: 17 [22400/50000] Loss: 0.250034 Acc: 0.9688\n",
            "Train Epoch: 17 [25600/50000] Loss: 0.141580 Acc: 0.9375\n",
            "Train Epoch: 17 [28800/50000] Loss: 0.309211 Acc: 0.8438\n",
            "Train Epoch: 17 [32000/50000] Loss: 0.298682 Acc: 0.9062\n",
            "Train Epoch: 17 [35200/50000] Loss: 0.189716 Acc: 0.9375\n",
            "Train Epoch: 17 [38400/50000] Loss: 0.108703 Acc: 0.9688\n",
            "Train Epoch: 17 [41600/50000] Loss: 0.204048 Acc: 0.8750\n",
            "Train Epoch: 17 [44800/50000] Loss: 0.351778 Acc: 0.8750\n",
            "Train Epoch: 17 [48000/50000] Loss: 0.425426 Acc: 0.8438\n",
            "Elapsed 397.77s, 22.10 s/epoch, 0.01 s/batch, ets 44.20s\n",
            "\n",
            "Test set: Average loss: 1.0050, Accuracy: 7402/10000 (74%)\n",
            "\n",
            "Train Epoch: 18 [3200/50000] Loss: 0.264569 Acc: 0.8750\n",
            "Train Epoch: 18 [6400/50000] Loss: 0.319081 Acc: 0.9062\n",
            "Train Epoch: 18 [9600/50000] Loss: 0.169445 Acc: 0.9375\n",
            "Train Epoch: 18 [12800/50000] Loss: 0.109939 Acc: 0.9375\n",
            "Train Epoch: 18 [16000/50000] Loss: 0.301171 Acc: 0.8750\n",
            "Train Epoch: 18 [19200/50000] Loss: 0.364635 Acc: 0.8438\n",
            "Train Epoch: 18 [22400/50000] Loss: 0.164660 Acc: 0.9062\n",
            "Train Epoch: 18 [25600/50000] Loss: 0.166945 Acc: 0.9375\n",
            "Train Epoch: 18 [28800/50000] Loss: 0.230281 Acc: 0.9375\n",
            "Train Epoch: 18 [32000/50000] Loss: 0.193162 Acc: 0.9688\n",
            "Train Epoch: 18 [35200/50000] Loss: 0.085358 Acc: 0.9688\n",
            "Train Epoch: 18 [38400/50000] Loss: 0.161481 Acc: 0.9375\n",
            "Train Epoch: 18 [41600/50000] Loss: 0.156139 Acc: 0.9375\n",
            "Train Epoch: 18 [44800/50000] Loss: 0.238250 Acc: 0.9062\n",
            "Train Epoch: 18 [48000/50000] Loss: 0.487817 Acc: 0.7812\n",
            "Elapsed 420.21s, 22.12 s/epoch, 0.01 s/batch, ets 22.12s\n",
            "\n",
            "Test set: Average loss: 1.0052, Accuracy: 7345/10000 (73%)\n",
            "\n",
            "Train Epoch: 19 [3200/50000] Loss: 0.166896 Acc: 0.9375\n",
            "Train Epoch: 19 [6400/50000] Loss: 0.531407 Acc: 0.9062\n",
            "Train Epoch: 19 [9600/50000] Loss: 0.206735 Acc: 0.9375\n",
            "Train Epoch: 19 [12800/50000] Loss: 0.052431 Acc: 1.0000\n",
            "Train Epoch: 19 [16000/50000] Loss: 0.164582 Acc: 0.9688\n",
            "Train Epoch: 19 [19200/50000] Loss: 0.086124 Acc: 1.0000\n",
            "Train Epoch: 19 [22400/50000] Loss: 0.120326 Acc: 0.9688\n",
            "Train Epoch: 19 [25600/50000] Loss: 0.248848 Acc: 0.9375\n",
            "Train Epoch: 19 [28800/50000] Loss: 0.092077 Acc: 0.9688\n",
            "Train Epoch: 19 [32000/50000] Loss: 0.281406 Acc: 0.9062\n",
            "Train Epoch: 19 [35200/50000] Loss: 0.149107 Acc: 0.9375\n",
            "Train Epoch: 19 [38400/50000] Loss: 0.154873 Acc: 0.9375\n",
            "Train Epoch: 19 [41600/50000] Loss: 0.113432 Acc: 0.9688\n",
            "Train Epoch: 19 [44800/50000] Loss: 0.148554 Acc: 0.9375\n",
            "Train Epoch: 19 [48000/50000] Loss: 0.235099 Acc: 0.9062\n",
            "Elapsed 442.18s, 22.11 s/epoch, 0.01 s/batch, ets 0.00s\n",
            "\n",
            "Test set: Average loss: 1.0760, Accuracy: 7412/10000 (74%)\n",
            "\n",
            "Total time: 445.55, Best Loss: 0.741, Best Accuracy: 0.755\n"
          ]
        }
      ]
    },
    {
      "cell_type": "markdown",
      "metadata": {
        "id": "jAy0TSpHJGbi",
        "nbgrader": {
          "grade": false,
          "locked": true,
          "solution": false
        }
      },
      "source": [
        "# <font style=\"color:blue\">12. Plot Loss</font>"
      ]
    },
    {
      "cell_type": "code",
      "metadata": {
        "id": "usF5DnpSJGbi",
        "lines_to_next_cell": 2,
        "nbgrader": {
          "grade": false,
          "locked": true,
          "solution": false
        },
        "outputId": "e61dc33d-9b23-4e05-e309-a0dd9faa91fa",
        "colab": {
          "base_uri": "https://localhost:8080/",
          "height": 564
        }
      },
      "source": [
        "# Plot loss\n",
        "plt.rcParams[\"figure.figsize\"] = (10, 6)\n",
        "x = range(len(epoch_train_loss))\n",
        "\n",
        "\n",
        "plt.figure\n",
        "plt.plot(x, epoch_train_loss, color='r', label=\"train loss\")\n",
        "plt.plot(x, epoch_test_loss, color='b', label=\"validation loss\")\n",
        "plt.xlabel('epoch no.')\n",
        "plt.ylabel('loss')\n",
        "plt.legend(loc='upper right')\n",
        "plt.title('Training and Validation Loss')\n",
        "plt.show()"
      ],
      "execution_count": 36,
      "outputs": [
        {
          "output_type": "display_data",
          "data": {
            "text/plain": [
              "<Figure size 1000x600 with 1 Axes>"
            ],
            "image/png": "[encoded data removed]"
          },
          "metadata": {}
        }
      ]
    },
    {
      "cell_type": "markdown",
      "metadata": {
        "id": "my7EZy1MJGbl",
        "nbgrader": {
          "grade": false,
          "locked": true,
          "solution": false
        }
      },
      "source": [
        "# <font style=\"color:blue\">13. Plot Accuracy</font>"
      ]
    },
    {
      "cell_type": "code",
      "metadata": {
        "id": "N_LPC69oJGbm",
        "nbgrader": {
          "grade": false,
          "locked": true,
          "solution": false
        },
        "outputId": "3e1acbef-dac0-4632-93ad-67bc385b661e",
        "colab": {
          "base_uri": "https://localhost:8080/",
          "height": 564
        }
      },
      "source": [
        "# Plot loss\n",
        "plt.rcParams[\"figure.figsize\"] = (10, 6)\n",
        "x = range(len(epoch_train_loss))\n",
        "\n",
        "\n",
        "plt.figure\n",
        "plt.plot(x, epoch_train_acc, color='r', label=\"train accuracy\")\n",
        "plt.plot(x, epoch_test_acc, color='b', label=\"validation accuracy\")\n",
        "plt.xlabel('epoch no.')\n",
        "plt.ylabel('accuracy')\n",
        "plt.legend(loc='center right')\n",
        "plt.title('Training and Validation Accuracy')\n",
        "plt.show()"
      ],
      "execution_count": 37,
      "outputs": [
        {
          "output_type": "display_data",
          "data": {
            "text/plain": [
              "<Figure size 1000x600 with 1 Axes>"
            ],
            "image/png": "[encoded data removed]"
          },
          "metadata": {}
        }
      ]
    },
    {
      "cell_type": "markdown",
      "metadata": {
        "id": "W_q1qekQJGbp",
        "nbgrader": {
          "grade": false,
          "locked": true,
          "solution": false
        }
      },
      "source": [
        "# <font style=\"color:blue\">14. Loading the Model </font>\n"
      ]
    },
    {
      "cell_type": "code",
      "metadata": {
        "id": "WM-icBgDJGbp",
        "nbgrader": {
          "grade": false,
          "locked": true,
          "solution": false
        }
      },
      "source": [
        "# initialize the model\n",
        "cnn_model = MyModel()\n",
        "\n",
        "models = 'models'\n",
        "\n",
        "model_file_name = 'cifar10_cnn_model.pt'\n",
        "\n",
        "model_path = os.path.join(models, model_file_name)\n",
        "\n",
        "# loading the model and getting model parameters by using load_state_dict\n",
        "cnn_model.load_state_dict(torch.load(model_path))"
      ],
      "execution_count": null,
      "outputs": []
    },
    {
      "cell_type": "markdown",
      "metadata": {
        "id": "nF5uuusgJGbs",
        "nbgrader": {
          "grade": false,
          "locked": true,
          "solution": false
        }
      },
      "source": [
        "# <font style=\"color:blue\">15. Model Prediction</font>\n"
      ]
    },
    {
      "cell_type": "code",
      "metadata": {
        "id": "hyAmSgK2JGbs",
        "nbgrader": {
          "grade": false,
          "locked": true,
          "solution": false
        }
      },
      "source": [
        "def prediction(model, train_config, batch_input):\n",
        "\n",
        "    # send model to cpu/cuda according to your system configuration\n",
        "    model.to(train_config.device)\n",
        "\n",
        "    # it is important to do model.eval() before prediction\n",
        "    model.eval()\n",
        "\n",
        "    data = batch_input.to(train_config.device)\n",
        "\n",
        "    output = model(data)\n",
        "\n",
        "    # Score to probability using softmax\n",
        "    prob = F.softmax(output, dim=1)\n",
        "\n",
        "    # get the max probability\n",
        "    pred_prob = prob.data.max(dim=1)[0]\n",
        "\n",
        "    # get the index of the max probability\n",
        "    pred_index = prob.data.max(dim=1)[1]\n",
        "\n",
        "    return pred_index.cpu().numpy(), pred_prob.cpu().numpy()"
      ],
      "execution_count": null,
      "outputs": []
    },
    {
      "cell_type": "markdown",
      "metadata": {
        "id": "iaGRXs4HJGbx",
        "nbgrader": {
          "grade": false,
          "locked": true,
          "solution": false
        }
      },
      "source": [
        "# <font style=\"color:blue\">16. Perform Inference on sample images </font>\n",
        "\n",
        "For prediction, we need to transform the data in the same way as we have done during training."
      ]
    },
    {
      "cell_type": "code",
      "metadata": {
        "id": "0L5ecPKtJGbx",
        "lines_to_next_cell": 2,
        "nbgrader": {
          "grade": false,
          "locked": true,
          "solution": false
        }
      },
      "source": [
        "classes = ('plane', 'car', 'bird', 'cat', 'deer', 'dog', 'frog', 'horse', 'ship', 'truck')\n",
        "\n",
        "batch_size = 5\n",
        "train_config = TrainingConfiguration()\n",
        "\n",
        "if torch.cuda.is_available():\n",
        "    train_config.device = \"cuda\"\n",
        "else:\n",
        "    train_config.device = \"cpu\"\n",
        "\n",
        "\n",
        "\n",
        "# load test data without image transformation\n",
        "test = torch.utils.data.DataLoader(\n",
        "    datasets.CIFAR10(root=train_config.data_root, train=False, download=False,\n",
        "                   transform=transforms.functional.to_tensor),\n",
        "    batch_size=batch_size,\n",
        "    shuffle=False,\n",
        "    num_workers=1\n",
        "    )\n",
        "\n",
        "try:\n",
        "    mean, std = get_mean_std_train_data(data_root)\n",
        "    assert len(mean) == len(std) == 3\n",
        "except:\n",
        "    mean = (0.5, 0.5, 0.5)\n",
        "    std = (0.5, 0.5, 0.5)\n",
        "\n",
        "# load testdata with image transformation\n",
        "image_transforms = transforms.Compose([\n",
        "    transforms.ToTensor(),\n",
        "    transforms.Normalize(mean, std)\n",
        "    ])\n",
        "\n",
        "test_trans = torch.utils.data.DataLoader(\n",
        "    datasets.CIFAR10(root=train_config.data_root, train=False, download=False, transform=image_transforms),\n",
        "    batch_size=batch_size,\n",
        "    shuffle=False,\n",
        "    num_workers=1\n",
        "    )\n",
        "\n",
        "for data, _ in test_trans:\n",
        "    # pass the loaded model\n",
        "    pred, prob = prediction(cnn_model, train_config, data)\n",
        "    break\n",
        "\n",
        "\n",
        "plt.rcParams[\"figure.figsize\"] = (3, 3)\n",
        "for images, label in test:\n",
        "    for i, img in enumerate(images):\n",
        "        img = transforms.functional.to_pil_image(img)\n",
        "        plt.imshow(img)\n",
        "        plt.gca().set_title('Pred: {0}({1:0.2}), Label: {2}'.format(classes[pred[i]], prob[i], classes[label[i]]))\n",
        "        plt.show()\n",
        "    break"
      ],
      "execution_count": null,
      "outputs": []
    },
    {
      "cell_type": "markdown",
      "metadata": {
        "id": "nvMswVmpJGb1"
      },
      "source": [
        "# <font style=\"color:blue\">17. Report your findings</font>\n",
        "-\n",
        "-"
      ]
    },
    {
      "cell_type": "markdown",
      "metadata": {
        "id": "yTVSVzjFJGb2",
        "nbgrader": {
          "grade": false,
          "locked": true,
          "solution": false
        }
      },
      "source": [
        "# <font style=\"color:blue\">References</font>\n",
        "\n",
        "1. https://pytorch.org/tutorials/beginner/data_loading_tutorial.html\n",
        "1. https://pytorch.org/tutorials/beginner/saving_loading_models.html"
      ]
    }
  ]
}