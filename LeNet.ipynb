{
  "nbformat": 4,
  "nbformat_minor": 0,
  "metadata": {
    "colab": {
      "provenance": [],
      "authorship_tag": "ABX9TyNWt571bL5mmK/8ytN5EMpv",
      "include_colab_link": true
    },
    "kernelspec": {
      "name": "python3",
      "display_name": "Python 3"
    },
    "language_info": {
      "name": "python"
    }
  },
  "cells": [
    {
      "cell_type": "markdown",
      "metadata": {
        "id": "view-in-github",
        "colab_type": "text"
      },
      "source": [
        "<a href=\"https://colab.research.google.com/github/JaganMurugan/Learning/blob/main/LeNet.ipynb\" target=\"_parent\"><img src=\"https://colab.research.google.com/assets/colab-badge.svg\" alt=\"Open In Colab\"/></a>"
      ]
    },
    {
      "cell_type": "code",
      "execution_count": null,
      "metadata": {
        "id": "vAh9Lb2h0tVx"
      },
      "outputs": [],
      "source": [
        "import torch"
      ]
    },
    {
      "cell_type": "code",
      "source": [],
      "metadata": {
        "id": "tWHZAO9cnjwe"
      },
      "execution_count": null,
      "outputs": []
    },
    {
      "cell_type": "code",
      "source": [
        "%matplotlib inline"
      ],
      "metadata": {
        "id": "uz80wrJ10zjU"
      },
      "execution_count": null,
      "outputs": []
    },
    {
      "cell_type": "code",
      "source": [
        "import matplotlib.pyplot as plt"
      ],
      "metadata": {
        "id": "81zK83ke1iXC"
      },
      "execution_count": null,
      "outputs": []
    },
    {
      "cell_type": "code",
      "source": [
        "import time\n",
        "\n",
        "\"\"\"\n",
        "print(time.time())\n",
        "\n",
        "time.sleep(2)\n",
        "\n",
        "start = time.time()\n",
        "\n",
        "time.sleep(2)\n",
        "\n",
        "end = time.time()\n",
        "\n",
        "print(\"Elapsed time:\", end - start)\n",
        "\"\"\""
      ],
      "metadata": {
        "colab": {
          "base_uri": "https://localhost:8080/",
          "height": 35
        },
        "id": "rDSRJiux83Lc",
        "outputId": "9574bb82-a688-46ab-a06b-4799d6c247dd"
      },
      "execution_count": null,
      "outputs": [
        {
          "output_type": "execute_result",
          "data": {
            "text/plain": [
              "'\\nprint(time.time())\\n\\ntime.sleep(2)\\n\\nstart = time.time()\\n\\ntime.sleep(2)\\n\\nend = time.time()\\n\\nprint(\"Elapsed time:\", end - start)\\n'"
            ],
            "application/vnd.google.colaboratory.intrinsic+json": {
              "type": "string"
            }
          },
          "metadata": {},
          "execution_count": 4
        }
      ]
    },
    {
      "cell_type": "code",
      "source": [
        "from typing import Iterable, Tuple\n",
        "from dataclasses import dataclass\n",
        "\n",
        "import numpy as np\n",
        "import torch\n",
        "import torch.nn as nn\n",
        "import torch.optim as optim\n",
        "import torch.nn.functional as F\n",
        "\n",
        "from torchvision import datasets, transforms"
      ],
      "metadata": {
        "id": "wo_hFFXn9gPI"
      },
      "execution_count": null,
      "outputs": []
    },
    {
      "cell_type": "code",
      "source": [],
      "metadata": {
        "id": "r4WFwn-pgSA0"
      },
      "execution_count": null,
      "outputs": []
    },
    {
      "cell_type": "code",
      "source": [
        "class LeNet5(nn.Module):\n",
        "  def __init__(self):\n",
        "    super().__init__()\n",
        "\n",
        "    self._body = nn.Sequential(\n",
        "        nn.Conv2d(in_channels=1, out_channels=6, kernel_size=5),\n",
        "        nn.ReLU(inplace=True),\n",
        "        nn.MaxPool2d(kernel_size=2),\n",
        "\n",
        "        nn.Conv2d(in_channels=6, out_channels=16, kernel_size=5),\n",
        "        nn.ReLU(inplace=True),\n",
        "        nn.MaxPool2d(kernel_size=2)\n",
        "    )\n",
        "\n",
        "    self._head = nn.Sequential(\n",
        "        nn.Linear(in_features=16*5*5, out_features=120),\n",
        "        nn.ReLU(inplace=True),\n",
        "        nn.Linear(in_features=120, out_features=84),\n",
        "        nn.ReLU(inplace=True),\n",
        "        nn.Linear(in_features=84, out_features=10)\n",
        "    )\n",
        "\n",
        "  def forward(self, x):\n",
        "    x = self._body(x)\n",
        "    x = x.view(x.size()[0], -1)\n",
        "    x = self._head(x)\n",
        "\n",
        "    return x"
      ],
      "metadata": {
        "id": "22HkE5_2gfcm"
      },
      "execution_count": null,
      "outputs": []
    },
    {
      "cell_type": "code",
      "source": [
        "lenet = LeNet5()\n",
        "print(lenet)"
      ],
      "metadata": {
        "colab": {
          "base_uri": "https://localhost:8080/"
        },
        "id": "nyuxD2Q0BgsH",
        "outputId": "9bd2fd30-ac1b-4fc2-a4dd-25748a81d09f"
      },
      "execution_count": null,
      "outputs": [
        {
          "output_type": "stream",
          "name": "stdout",
          "text": [
            "LeNet5(\n",
            "  (_body): Sequential(\n",
            "    (0): Conv2d(1, 6, kernel_size=(5, 5), stride=(1, 1))\n",
            "    (1): ReLU(inplace=True)\n",
            "    (2): MaxPool2d(kernel_size=2, stride=2, padding=0, dilation=1, ceil_mode=False)\n",
            "    (3): Conv2d(6, 16, kernel_size=(5, 5), stride=(1, 1))\n",
            "    (4): ReLU(inplace=True)\n",
            "    (5): MaxPool2d(kernel_size=2, stride=2, padding=0, dilation=1, ceil_mode=False)\n",
            "  )\n",
            "  (_head): Sequential(\n",
            "    (0): Linear(in_features=400, out_features=120, bias=True)\n",
            "    (1): ReLU(inplace=True)\n",
            "    (2): Linear(in_features=120, out_features=84, bias=True)\n",
            "    (3): ReLU(inplace=True)\n",
            "    (4): Linear(in_features=84, out_features=10, bias=True)\n",
            "  )\n",
            ")\n"
          ]
        }
      ]
    },
    {
      "cell_type": "code",
      "source": [
        "def get_data(batch_size, data_root='data',num_workers=1):\n",
        "\n",
        "  train_test_transforms = transforms.Compose([\n",
        "      transforms.Resize(32, 32),\n",
        "      transforms.ToTensor(),\n",
        "      transforms.Normalize((0.1307), (0.3081))\n",
        "  ])\n",
        "\n",
        "  train_loader = torch.utils.data.DataLoader(\n",
        "      datasets.MNIST(root=data_root, train=True, download=False, transform=train_test_transforms),\n",
        "      batch_size=batch_size,\n",
        "      shuffle=True,\n",
        "      num_workers=num_workers\n",
        "  )\n",
        "\n",
        "  test_loader = torch.utils.data.DataLoader(\n",
        "      datasets.MNIST(root=data_root, train=False, download=False, transform=train_test_transforms),\n",
        "      batch_size=batch_size,\n",
        "      shuffle=True,\n",
        "      num_workers=num_workers\n",
        "  )"
      ],
      "metadata": {
        "id": "sJbvklSPB0tt"
      },
      "execution_count": null,
      "outputs": []
    },
    {
      "cell_type": "code",
      "source": [
        "@dataclass\n",
        "class SystemConfiuration:\n",
        "  seed: int = 42\n",
        "  cudnn_benchmark_enabled: bool = True,\n",
        "  cudnn_determinisitic: bool = True\n",
        "\n"
      ],
      "metadata": {
        "id": "LjFN7NRtDmgP"
      },
      "execution_count": null,
      "outputs": []
    },
    {
      "cell_type": "code",
      "source": [
        "@dataclass\n",
        "class TrainingConfiguration:\n",
        "\n",
        "  batch_size: int = 32\n",
        "\n",
        "  learning_rate: float = 0.01"
      ],
      "metadata": {
        "id": "tZjaj8cuEUMs"
      },
      "execution_count": null,
      "outputs": []
    },
    {
      "cell_type": "code",
      "source": [
        "import numpy as np\n",
        "\n",
        "class NearestNeighbor:\n",
        "  def __init__():\n",
        "    pass\n",
        "\n",
        "  def train(self, X, y):\n",
        "    self.Xtr = X\n",
        "    self.ytr = y\n",
        "\n",
        "  def predict(self, X):\n",
        "    num_rows = X.shape()[0]\n",
        "\n",
        "    for i in range(num_rows)\n",
        "      distances = np.sum(np.abs(self.Xtr - X[i,:]), axis=1)\n",
        "      min_index = np.argmin(distances)\n",
        "      Ypred ="
      ],
      "metadata": {
        "id": "uoNTOtDJnlO-"
      },
      "execution_count": null,
      "outputs": []
    }
  ]
}