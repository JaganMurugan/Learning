{
  "cells": [
    {
      "cell_type": "markdown",
      "metadata": {
        "id": "view-in-github",
        "colab_type": "text"
      },
      "source": [
        "<a href=\"https://colab.research.google.com/github/JaganMurugan/Learning/blob/main/LeNet.ipynb\" target=\"_parent\"><img src=\"https://colab.research.google.com/assets/colab-badge.svg\" alt=\"Open In Colab\"/></a>"
      ]
    },
    {
      "cell_type": "code",
      "execution_count": null,
      "metadata": {
        "id": "vAh9Lb2h0tVx"
      },
      "outputs": [],
      "source": [
        "import torch"
      ]
    },
    {
      "cell_type": "code",
      "source": [
        "import torch"
      ],
      "metadata": {
        "id": "UuLgzlzqhju5"
      },
      "execution_count": 1,
      "outputs": []
    },
    {
      "cell_type": "code",
      "execution_count": null,
      "metadata": {
        "id": "9kJ8eEOVEVot"
      },
      "outputs": [],
      "source": [
        "import torch"
      ]
    },
    {
      "cell_type": "code",
      "execution_count": null,
      "metadata": {
        "id": "tWHZAO9cnjwe"
      },
      "outputs": [],
      "source": []
    },
    {
      "cell_type": "code",
      "source": [],
      "metadata": {
        "id": "0dIdvTO6iETk"
      },
      "execution_count": null,
      "outputs": []
    },
    {
      "cell_type": "code",
      "source": [
        "import torch"
      ],
      "metadata": {
        "id": "quYpf44qiFHO"
      },
      "execution_count": 2,
      "outputs": []
    },
    {
      "cell_type": "code",
      "execution_count": null,
      "metadata": {
        "id": "uz80wrJ10zjU"
      },
      "outputs": [],
      "source": [
        "%matplotlib inline"
      ]
    },
    {
      "cell_type": "code",
      "execution_count": null,
      "metadata": {
        "id": "81zK83ke1iXC"
      },
      "outputs": [],
      "source": [
        "import matplotlib.pyplot as plt"
      ]
    },
    {
      "cell_type": "code",
      "execution_count": null,
      "metadata": {
        "colab": {
          "base_uri": "https://localhost:8080/",
          "height": 35
        },
        "id": "rDSRJiux83Lc",
        "outputId": "a59b6d7b-7aaf-4451-bf5f-cdebf57bb9e5"
      },
      "outputs": [
        {
          "output_type": "execute_result",
          "data": {
            "text/plain": [
              "'\\nprint(time.time())\\n\\ntime.sleep(2)\\n\\nstart = time.time()\\n\\ntime.sleep(2)\\n\\nend = time.time()\\n\\nprint(\"Elapsed time:\", end - start)\\n'"
            ],
            "application/vnd.google.colaboratory.intrinsic+json": {
              "type": "string"
            }
          },
          "metadata": {},
          "execution_count": 14
        }
      ],
      "source": [
        "import time\n",
        "\n",
        "\"\"\"\n",
        "print(time.time())\n",
        "\n",
        "time.sleep(2)\n",
        "\n",
        "start = time.time()\n",
        "\n",
        "time.sleep(2)\n",
        "\n",
        "end = time.time()\n",
        "\n",
        "print(\"Elapsed time:\", end - start)\n",
        "\"\"\""
      ]
    },
    {
      "cell_type": "code",
      "execution_count": null,
      "metadata": {
        "id": "wo_hFFXn9gPI"
      },
      "outputs": [],
      "source": [
        "from typing import Iterable, Tuple\n",
        "from dataclasses import dataclass\n",
        "\n",
        "import numpy as np\n",
        "import torch\n",
        "import torch.nn as nn\n",
        "import torch.optim as optim\n",
        "import torch.nn.functional as F\n",
        "\n",
        "from torchvision import datasets, transforms"
      ]
    },
    {
      "cell_type": "code",
      "execution_count": null,
      "metadata": {
        "id": "r4WFwn-pgSA0"
      },
      "outputs": [],
      "source": []
    },
    {
      "cell_type": "code",
      "execution_count": null,
      "metadata": {
        "id": "22HkE5_2gfcm"
      },
      "outputs": [],
      "source": [
        "class LeNet5(nn.Module):\n",
        "  def __init__(self):\n",
        "    super().__init__()\n",
        "\n",
        "    self._body = nn.Sequential(\n",
        "        nn.Conv2d(in_channels=1, out_channels=6, kernel_size=5),\n",
        "        nn.ReLU(inplace=True),\n",
        "        nn.MaxPool2d(kernel_size=2),\n",
        "\n",
        "        nn.Conv2d(in_channels=6, out_channels=16, kernel_size=5),\n",
        "        nn.ReLU(inplace=True),\n",
        "        nn.MaxPool2d(kernel_size=2)\n",
        "    )\n",
        "\n",
        "    self._head = nn.Sequential(\n",
        "        nn.Linear(in_features=16*5*5, out_features=120),\n",
        "        nn.ReLU(inplace=True),\n",
        "        nn.Linear(in_features=120, out_features=84),\n",
        "        nn.ReLU(inplace=True),\n",
        "        nn.Linear(in_features=84, out_features=10)\n",
        "    )\n",
        "\n",
        "  def forward(self, x):\n",
        "    x = self._body(x)\n",
        "    x = x.view(x.size()[0], -1)\n",
        "    x = self._head(x)\n",
        "\n",
        "    return x"
      ]
    },
    {
      "cell_type": "code",
      "execution_count": null,
      "metadata": {
        "colab": {
          "base_uri": "https://localhost:8080/"
        },
        "id": "nyuxD2Q0BgsH",
        "outputId": "51a3e46b-7c8b-4fd8-f2e7-370342e8dc63"
      },
      "outputs": [
        {
          "output_type": "stream",
          "name": "stdout",
          "text": [
            "LeNet5(\n",
            "  (_body): Sequential(\n",
            "    (0): Conv2d(1, 6, kernel_size=(5, 5), stride=(1, 1))\n",
            "    (1): ReLU(inplace=True)\n",
            "    (2): MaxPool2d(kernel_size=2, stride=2, padding=0, dilation=1, ceil_mode=False)\n",
            "    (3): Conv2d(6, 16, kernel_size=(5, 5), stride=(1, 1))\n",
            "    (4): ReLU(inplace=True)\n",
            "    (5): MaxPool2d(kernel_size=2, stride=2, padding=0, dilation=1, ceil_mode=False)\n",
            "  )\n",
            "  (_head): Sequential(\n",
            "    (0): Linear(in_features=400, out_features=120, bias=True)\n",
            "    (1): ReLU(inplace=True)\n",
            "    (2): Linear(in_features=120, out_features=84, bias=True)\n",
            "    (3): ReLU(inplace=True)\n",
            "    (4): Linear(in_features=84, out_features=10, bias=True)\n",
            "  )\n",
            ")\n"
          ]
        }
      ],
      "source": [
        "lenet = LeNet5()\n",
        "print(lenet)"
      ]
    },
    {
      "cell_type": "code",
      "execution_count": null,
      "metadata": {
        "id": "sJbvklSPB0tt"
      },
      "outputs": [],
      "source": [
        "def get_data(batch_size, data_root='data',num_workers=1):\n",
        "\n",
        "  train_test_transforms = transforms.Compose([\n",
        "      transforms.Resize((32, 32)),\n",
        "      transforms.ToTensor(),\n",
        "      transforms.Normalize((0.1307), (0.3081))\n",
        "  ])\n",
        "\n",
        "  train_loader = torch.utils.data.DataLoader(\n",
        "      datasets.MNIST(root=data_root, train=True, download=True, transform=train_test_transforms),\n",
        "      batch_size=batch_size,\n",
        "      shuffle=True,\n",
        "      num_workers=num_workers\n",
        "  )\n",
        "\n",
        "  test_loader = torch.utils.data.DataLoader(\n",
        "      datasets.MNIST(root=data_root, train=False, download=True, transform=train_test_transforms),\n",
        "      batch_size=batch_size,\n",
        "      shuffle=False,\n",
        "      num_workers=num_workers\n",
        "  )\n",
        "\n",
        "  return train_loader, test_loader"
      ]
    },
    {
      "cell_type": "code",
      "execution_count": null,
      "metadata": {
        "id": "LjFN7NRtDmgP"
      },
      "outputs": [],
      "source": [
        "@dataclass\n",
        "class SystemConfiguration:\n",
        "  seed: int = 42\n",
        "  cudnn_benchmark_enabled: bool = True,\n",
        "  cudnn_determinisitic: bool = True\n",
        "\n"
      ]
    },
    {
      "cell_type": "code",
      "execution_count": null,
      "metadata": {
        "id": "tZjaj8cuEUMs"
      },
      "outputs": [],
      "source": [
        "@dataclass\n",
        "class TrainingConfiguration:\n",
        "  batch_size: int = 32  # amount of data to pass through the network at each forward-backward iteration\n",
        "  epochs_count: int = 1  # number of times the whole dataset will be passed through the network\n",
        "  learning_rate: float = 0.01  # determines the speed of network's weights update\n",
        "  log_interval: int = 100  # how many batches to wait between logging training status\n",
        "  test_interval: int = 1  # how many epochs to wait before another test. Set to 1 to get val loss at each epoch\n",
        "  data_root: str = \"data\"  # folder to save MNIST data (default: data/mnist-data)\n",
        "  num_workers: int = 10  # number of concurrent processes used to prepare data\n",
        "  device: str = 'cuda'  # device to use for training."
      ]
    },
    {
      "cell_type": "code",
      "execution_count": null,
      "metadata": {
        "id": "uoNTOtDJnlO-"
      },
      "outputs": [],
      "source": [
        "import numpy as np\n",
        "\n",
        "class NearestNeighbor:\n",
        "  def __init__(self):\n",
        "    pass\n",
        "\n",
        "  def train(self, X, y):\n",
        "    self.Xtr = X\n",
        "    self.ytr = y\n",
        "\n",
        "  def predict(self, X):\n",
        "    num_test = X.shape[0]\n",
        "    Ypred = np.zeros(num_test, dtype=self.ytr.dtype)\n",
        "\n",
        "    for i in range(num_test):\n",
        "      distances = np.sum(np.abs(self.Xtr - X[i,:]), axis=1)\n",
        "      min_index = np.argmin(distances)\n",
        "      Ypred[i] = self.ytr[min_index]\n",
        "\n",
        "    return Ypred"
      ]
    },
    {
      "cell_type": "code",
      "execution_count": null,
      "metadata": {
        "id": "UEHrnP5zhWDO"
      },
      "outputs": [],
      "source": [
        "import torch"
      ]
    },
    {
      "cell_type": "code",
      "execution_count": null,
      "metadata": {
        "id": "XKe54dz5ziK6"
      },
      "outputs": [],
      "source": [
        "import torch"
      ]
    },
    {
      "cell_type": "code",
      "execution_count": null,
      "metadata": {
        "id": "KSmmc43x5GNF"
      },
      "outputs": [],
      "source": [
        "\n",
        "def train(\n",
        "    train_config: TrainingConfiguration, model: nn.Module, optimizer: torch.optim.Optimizer,\n",
        "    train_loader: torch.utils.data.DataLoader, epoch_idx: int\n",
        ") -> Tuple[float, float]:\n",
        "  model.train()\n",
        "\n",
        "  batch_loss = np.array([])\n",
        "\n",
        "  batch_acc = np.array([])\n",
        "\n",
        "  for batch_idx, (data, target) in enumerate(train_loader):\n",
        "       indx_target = target.clone()\n",
        "\n",
        "       data = data.to(train_config.device)\n",
        "\n",
        "       target = target.to(train_config.device)\n",
        "\n",
        "       optimizer.zero_grad()\n",
        "\n",
        "       output = model(data)\n",
        "\n",
        "       loss = F.cross_entropy(output, target)\n",
        "\n",
        "       loss.backward()\n",
        "\n",
        "       optimizer.step()\n",
        "\n",
        "       batch_loss = np.append(batch_loss, [loss.item()])\n",
        "\n",
        "       prob = F.softmax(output, dim=1)\n",
        "\n",
        "       pred = prob.data.max(dim=1)[1]\n",
        "\n",
        "       correct = pred.cpu().eq(indx_target).sum()\n",
        "\n",
        "       acc = float(correct) / float(len(data))\n",
        "\n",
        "       batch_acc = np.append(batch_acc, [acc])\n",
        "\n",
        "       if batch_idx % train_config.log_interval == 0 and batch_idx > 0:\n",
        "        print(\n",
        "            'Train Epoch: {} [{}/{}] Loss: {:.6f} Acc: {:.4f}'.format(\n",
        "            epoch_idx, batch_idx * len(data), len(train_loader.dataset), loss.item(), acc)\n",
        "        )\n",
        "  epoch_loss = batch_loss.mean()\n",
        "  epoch_acc = batch_acc.mean()\n",
        "  return epoch_loss, epoch_acc\n",
        "\n",
        "\n",
        "\n",
        "\n"
      ]
    },
    {
      "cell_type": "code",
      "execution_count": null,
      "metadata": {
        "id": "F6T8i0B6qOdx"
      },
      "outputs": [],
      "source": [
        "import torch.nn.functional as F\n",
        "\n",
        "loss = F.cross_entropy(torch.tensor([5.0, 6.0, 7.0]), torch.tensor([5.0, 7.0, 7.0]))"
      ]
    },
    {
      "cell_type": "code",
      "execution_count": null,
      "metadata": {
        "colab": {
          "base_uri": "https://localhost:8080/"
        },
        "id": "me2R-tda7_8g",
        "outputId": "4702c15e-5b53-44d0-a1fc-da5cece8d8f7"
      },
      "outputs": [
        {
          "output_type": "execute_result",
          "data": {
            "text/plain": [
              "24.744510650634766"
            ]
          },
          "metadata": {},
          "execution_count": 41
        }
      ],
      "source": [
        "loss.item()"
      ]
    },
    {
      "cell_type": "code",
      "execution_count": null,
      "metadata": {
        "colab": {
          "base_uri": "https://localhost:8080/"
        },
        "id": "TudFpzTU8RhF",
        "outputId": "9705cc5a-50af-4dd4-ce5b-90969148558d"
      },
      "outputs": [
        {
          "output_type": "execute_result",
          "data": {
            "text/plain": [
              "tensor([[0.0900, 0.2447, 0.6652],\n",
              "        [0.0900, 0.2447, 0.6652]])"
            ]
          },
          "metadata": {},
          "execution_count": 42
        }
      ],
      "source": [
        "F.softmax(torch.tensor([[5.0, 6.0, 7.0], [5.0, 6.0, 7.0]]), dim=1)"
      ]
    },
    {
      "cell_type": "code",
      "execution_count": null,
      "metadata": {
        "id": "SK-_XFvGLful"
      },
      "outputs": [],
      "source": [
        "import torch"
      ]
    },
    {
      "cell_type": "code",
      "execution_count": null,
      "metadata": {
        "id": "RD5uSM5qLi1v"
      },
      "outputs": [],
      "source": [
        "import torch"
      ]
    },
    {
      "cell_type": "code",
      "execution_count": null,
      "metadata": {
        "id": "yLnSx8yWEjWp"
      },
      "outputs": [],
      "source": [
        "import numpy as np"
      ]
    },
    {
      "cell_type": "code",
      "execution_count": null,
      "metadata": {
        "id": "ARgbBDDLE4Gu"
      },
      "outputs": [],
      "source": [
        "class NearestNeighbor:\n",
        "  def __init__(self):\n",
        "    pass\n",
        "\n",
        "  def train(self, X, y):\n",
        "    \"\"\" X is N x D where each row is an example. Y is 1-dimension of size N\"\"\"\n",
        "    self.Xtr = X\n",
        "    self.ytr = y\n",
        "\n",
        "  def predict(self, X):\n",
        "    num_test = X.shape[0]\n",
        "\n",
        "    Ypred = np.zeros(num_test, dtype = self.ytr.dtype)\n",
        "\n",
        "    for i in range(num_test):\n",
        "      distances = np.sum(np.abs(self.Xtr - X[i,:]), axis = 1)\n",
        "      min_index = np.argmin(distances)\n",
        "      Ypred[i] = self.ytr[min_index]\n",
        "\n",
        "    return Ypred\n"
      ]
    },
    {
      "cell_type": "code",
      "execution_count": null,
      "metadata": {
        "id": "VwAfPDHdH67u"
      },
      "outputs": [],
      "source": [
        "def validate(\n",
        "    train_config: TrainingConfiguration,\n",
        "    model: nn.Module,\n",
        "    test_loader: torch.utils.data.DataLoader,\n",
        ") -> Tuple[float, float]:\n",
        "  model.eval()\n",
        "  test_loss = 0\n",
        "  count_correct_predictions = 0\n",
        "\n",
        "  with torch.no_grad():\n",
        "\n",
        "    for data, target in test_loader:\n",
        "      indx_target = target.clone()\n",
        "      data = data.to(train_config.device)\n",
        "\n",
        "      target = target.to(train_config.device)\n",
        "\n",
        "      output = model(data)\n",
        "\n",
        "      test_loss += F.cross_entropy(output, target).item()\n",
        "\n",
        "      prob = F.softmax(output, dim=1)\n",
        "\n",
        "      pred = prob.data.max(dim=1)[1]\n",
        "\n",
        "      count_correct_predictions += pred.cpu().eq(indx_target).sum()\n",
        "\n",
        "    test_loss = test_loss / len(test_loader)\n",
        "\n",
        "    accuracy = 100 * count_correct_predictions /len(test_loader.dataset)\n",
        "\n",
        "    print(\n",
        "        '\\nTest set: Average loss: {:.4f}, Accuracy: {}/{} ({:.0f}%)\\n'.format(\n",
        "            test_loss, count_correct_predictions, len(test_loader.dataset), accuracy\n",
        "        )\n",
        "    )\n",
        "\n",
        "    return test_loss, accuracy/100."
      ]
    },
    {
      "cell_type": "code",
      "source": [
        "def setup_system(system_config: SystemConfiguration) -> None:\n",
        "    torch.manual_seed(system_config.seed)\n",
        "    if torch.cuda.is_available():\n",
        "        torch.backends.cudnn_benchmark_enabled = system_config.cudnn_benchmark_enabled\n",
        "        torch.backends.cudnn.deterministic = system_config.cudnn_deterministic"
      ],
      "metadata": {
        "id": "A-ltnDxW6Grz"
      },
      "execution_count": null,
      "outputs": []
    },
    {
      "cell_type": "code",
      "source": [
        "def main(system_configuration=SystemConfiguration(), training_configuration=TrainingConfiguration()):\n",
        "\n",
        "    # system configuration\n",
        "    setup_system(system_configuration)\n",
        "\n",
        "    # batch size\n",
        "    batch_size_to_set = training_configuration.batch_size\n",
        "    # num_workers\n",
        "    num_workers_to_set = training_configuration.num_workers\n",
        "    # epochs\n",
        "    epoch_num_to_set = training_configuration.epochs_count\n",
        "\n",
        "    # if GPU is available use training config,\n",
        "    # else lower batch_size, num_workers and epochs count\n",
        "    if torch.cuda.is_available():\n",
        "        device = \"cuda\"\n",
        "    else:\n",
        "        device = \"cpu\"\n",
        "        batch_size_to_set = 16\n",
        "        num_workers_to_set = 2\n",
        "        epoch_num_to_set = 5\n",
        "\n",
        "    # data loader\n",
        "    train_loader, test_loader = get_data(\n",
        "        batch_size=batch_size_to_set,\n",
        "        data_root=training_configuration.data_root,\n",
        "        num_workers=num_workers_to_set\n",
        "    )\n",
        "\n",
        "    # Update training configuration\n",
        "    training_configuration = TrainingConfiguration(\n",
        "        device=device,\n",
        "        epochs_count=epoch_num_to_set,\n",
        "        batch_size=batch_size_to_set,\n",
        "        num_workers=num_workers_to_set\n",
        "    )\n",
        "\n",
        "    # initiate model\n",
        "    model = LeNet5()\n",
        "\n",
        "    # send model to device (GPU/CPU)\n",
        "    model.to(training_configuration.device)\n",
        "\n",
        "    # optimizer\n",
        "    optimizer = optim.SGD(\n",
        "        model.parameters(),\n",
        "        lr=training_configuration.learning_rate\n",
        "    )\n",
        "\n",
        "    best_loss = torch.tensor(np.inf)\n",
        "\n",
        "    # epoch train/test loss\n",
        "    epoch_train_loss = np.array([])\n",
        "    epoch_test_loss = np.array([])\n",
        "\n",
        "    # epoch train/test accuracy\n",
        "    epoch_train_acc = np.array([])\n",
        "    epoch_test_acc = np.array([])\n",
        "\n",
        "    # training time measurement\n",
        "    t_begin = time.time()\n",
        "    for epoch in range(training_configuration.epochs_count):\n",
        "\n",
        "        train_loss, train_acc = train(training_configuration, model, optimizer, train_loader, epoch)\n",
        "\n",
        "        epoch_train_loss = np.append(epoch_train_loss, [train_loss])\n",
        "\n",
        "        epoch_train_acc = np.append(epoch_train_acc, [train_acc])\n",
        "\n",
        "        elapsed_time = time.time() - t_begin\n",
        "        speed_epoch = elapsed_time / (epoch + 1)\n",
        "        speed_batch = speed_epoch / len(train_loader)\n",
        "        eta = speed_epoch * training_configuration.epochs_count - elapsed_time\n",
        "\n",
        "        print(\n",
        "            \"Elapsed {:.2f}s, {:.2f} s/epoch, {:.2f} s/batch, ets {:.2f}s\".format(\n",
        "                elapsed_time, speed_epoch, speed_batch, eta\n",
        "            )\n",
        "        )\n",
        "\n",
        "        if epoch % training_configuration.test_interval == 0:\n",
        "            current_loss, current_accuracy = validate(training_configuration, model, test_loader)\n",
        "\n",
        "            epoch_test_loss = np.append(epoch_test_loss, [current_loss])\n",
        "\n",
        "            epoch_test_acc = np.append(epoch_test_acc, [current_accuracy])\n",
        "\n",
        "            if current_loss < best_loss:\n",
        "                best_loss = current_loss\n",
        "\n",
        "    print(\"Total time: {:.2f}, Best Loss: {:.3f}\".format(time.time() - t_begin, best_loss))\n",
        "\n",
        "    return model, epoch_train_loss, epoch_train_acc, epoch_test_loss, epoch_test_acc"
      ],
      "metadata": {
        "id": "jehVtpZNUYZa"
      },
      "execution_count": null,
      "outputs": []
    },
    {
      "cell_type": "code",
      "source": [
        "import time"
      ],
      "metadata": {
        "id": "UtcGOv8Ufgxo"
      },
      "execution_count": null,
      "outputs": []
    },
    {
      "cell_type": "code",
      "source": [
        "model, epoch_train_loss, epoch_train_acc, epoch_test_loss, epoch_test_acc = main()"
      ],
      "metadata": {
        "colab": {
          "base_uri": "https://localhost:8080/"
        },
        "id": "ohj6Hl005hA4",
        "outputId": "b33a08a5-c1ce-4e82-f9f7-2b114dca4537"
      },
      "execution_count": null,
      "outputs": [
        {
          "output_type": "stream",
          "name": "stdout",
          "text": [
            "Train Epoch: 0 [1600/60000] Loss: 2.304386 Acc: 0.0625\n",
            "Train Epoch: 0 [3200/60000] Loss: 2.020136 Acc: 0.3750\n",
            "Train Epoch: 0 [4800/60000] Loss: 0.966735 Acc: 0.6250\n",
            "Train Epoch: 0 [6400/60000] Loss: 1.003069 Acc: 0.5625\n",
            "Train Epoch: 0 [8000/60000] Loss: 1.318518 Acc: 0.6875\n",
            "Train Epoch: 0 [9600/60000] Loss: 0.402901 Acc: 0.8125\n",
            "Train Epoch: 0 [11200/60000] Loss: 0.196657 Acc: 1.0000\n",
            "Train Epoch: 0 [12800/60000] Loss: 0.104711 Acc: 1.0000\n",
            "Train Epoch: 0 [14400/60000] Loss: 0.796018 Acc: 0.7500\n",
            "Train Epoch: 0 [16000/60000] Loss: 0.345478 Acc: 0.8750\n",
            "Train Epoch: 0 [17600/60000] Loss: 0.345221 Acc: 0.8750\n",
            "Train Epoch: 0 [19200/60000] Loss: 0.066517 Acc: 1.0000\n",
            "Train Epoch: 0 [20800/60000] Loss: 0.303622 Acc: 0.8750\n",
            "Train Epoch: 0 [22400/60000] Loss: 0.713501 Acc: 0.8750\n",
            "Train Epoch: 0 [24000/60000] Loss: 0.120694 Acc: 0.9375\n",
            "Train Epoch: 0 [25600/60000] Loss: 0.173603 Acc: 0.9375\n",
            "Train Epoch: 0 [27200/60000] Loss: 0.154132 Acc: 0.8750\n",
            "Train Epoch: 0 [28800/60000] Loss: 0.264477 Acc: 0.8750\n",
            "Train Epoch: 0 [30400/60000] Loss: 0.084507 Acc: 0.9375\n",
            "Train Epoch: 0 [32000/60000] Loss: 0.125648 Acc: 0.8750\n",
            "Train Epoch: 0 [33600/60000] Loss: 0.135723 Acc: 0.9375\n",
            "Train Epoch: 0 [35200/60000] Loss: 0.142108 Acc: 0.9375\n",
            "Train Epoch: 0 [36800/60000] Loss: 0.044763 Acc: 1.0000\n",
            "Train Epoch: 0 [38400/60000] Loss: 0.600377 Acc: 0.8125\n",
            "Train Epoch: 0 [40000/60000] Loss: 0.037168 Acc: 1.0000\n",
            "Train Epoch: 0 [41600/60000] Loss: 0.082630 Acc: 1.0000\n",
            "Train Epoch: 0 [43200/60000] Loss: 0.181535 Acc: 0.9375\n",
            "Train Epoch: 0 [44800/60000] Loss: 0.410227 Acc: 0.8750\n",
            "Train Epoch: 0 [46400/60000] Loss: 0.045085 Acc: 1.0000\n",
            "Train Epoch: 0 [48000/60000] Loss: 0.015739 Acc: 1.0000\n",
            "Train Epoch: 0 [49600/60000] Loss: 0.369870 Acc: 0.8750\n",
            "Train Epoch: 0 [51200/60000] Loss: 0.012503 Acc: 1.0000\n",
            "Train Epoch: 0 [52800/60000] Loss: 0.056448 Acc: 1.0000\n",
            "Train Epoch: 0 [54400/60000] Loss: 0.044088 Acc: 1.0000\n",
            "Train Epoch: 0 [56000/60000] Loss: 0.148977 Acc: 0.9375\n",
            "Train Epoch: 0 [57600/60000] Loss: 0.081393 Acc: 1.0000\n",
            "Train Epoch: 0 [59200/60000] Loss: 0.387485 Acc: 0.9375\n",
            "Elapsed 45.07s, 45.07 s/epoch, 0.01 s/batch, ets 180.29s\n",
            "\n",
            "Test set: Average loss: 0.1006, Accuracy: 9679/10000 (97%)\n",
            "\n",
            "Train Epoch: 1 [1600/60000] Loss: 0.074914 Acc: 1.0000\n",
            "Train Epoch: 1 [3200/60000] Loss: 0.212574 Acc: 0.9375\n",
            "Train Epoch: 1 [4800/60000] Loss: 0.041174 Acc: 1.0000\n",
            "Train Epoch: 1 [6400/60000] Loss: 0.015974 Acc: 1.0000\n",
            "Train Epoch: 1 [8000/60000] Loss: 0.422335 Acc: 0.8125\n",
            "Train Epoch: 1 [9600/60000] Loss: 0.067128 Acc: 1.0000\n",
            "Train Epoch: 1 [11200/60000] Loss: 0.003421 Acc: 1.0000\n",
            "Train Epoch: 1 [12800/60000] Loss: 0.115814 Acc: 0.9375\n",
            "Train Epoch: 1 [14400/60000] Loss: 0.042668 Acc: 1.0000\n",
            "Train Epoch: 1 [16000/60000] Loss: 0.080927 Acc: 0.9375\n",
            "Train Epoch: 1 [17600/60000] Loss: 0.352253 Acc: 0.9375\n",
            "Train Epoch: 1 [19200/60000] Loss: 0.046208 Acc: 1.0000\n",
            "Train Epoch: 1 [20800/60000] Loss: 0.183184 Acc: 0.9375\n",
            "Train Epoch: 1 [22400/60000] Loss: 0.003847 Acc: 1.0000\n",
            "Train Epoch: 1 [24000/60000] Loss: 0.355568 Acc: 0.8750\n",
            "Train Epoch: 1 [25600/60000] Loss: 0.212950 Acc: 0.9375\n",
            "Train Epoch: 1 [27200/60000] Loss: 0.240361 Acc: 0.9375\n",
            "Train Epoch: 1 [28800/60000] Loss: 0.034064 Acc: 1.0000\n",
            "Train Epoch: 1 [30400/60000] Loss: 0.008337 Acc: 1.0000\n",
            "Train Epoch: 1 [32000/60000] Loss: 0.115123 Acc: 0.9375\n",
            "Train Epoch: 1 [33600/60000] Loss: 0.003089 Acc: 1.0000\n",
            "Train Epoch: 1 [35200/60000] Loss: 0.019673 Acc: 1.0000\n",
            "Train Epoch: 1 [36800/60000] Loss: 0.004310 Acc: 1.0000\n",
            "Train Epoch: 1 [38400/60000] Loss: 0.262841 Acc: 0.8750\n",
            "Train Epoch: 1 [40000/60000] Loss: 0.120612 Acc: 0.9375\n",
            "Train Epoch: 1 [41600/60000] Loss: 0.117656 Acc: 0.8750\n",
            "Train Epoch: 1 [43200/60000] Loss: 0.062504 Acc: 1.0000\n",
            "Train Epoch: 1 [44800/60000] Loss: 0.005953 Acc: 1.0000\n",
            "Train Epoch: 1 [46400/60000] Loss: 0.011235 Acc: 1.0000\n",
            "Train Epoch: 1 [48000/60000] Loss: 0.018865 Acc: 1.0000\n",
            "Train Epoch: 1 [49600/60000] Loss: 0.024447 Acc: 1.0000\n",
            "Train Epoch: 1 [51200/60000] Loss: 0.337404 Acc: 0.9375\n",
            "Train Epoch: 1 [52800/60000] Loss: 0.001704 Acc: 1.0000\n",
            "Train Epoch: 1 [54400/60000] Loss: 0.072004 Acc: 0.9375\n",
            "Train Epoch: 1 [56000/60000] Loss: 0.051343 Acc: 1.0000\n",
            "Train Epoch: 1 [57600/60000] Loss: 0.006595 Acc: 1.0000\n",
            "Train Epoch: 1 [59200/60000] Loss: 0.024969 Acc: 1.0000\n",
            "Elapsed 96.99s, 48.49 s/epoch, 0.01 s/batch, ets 145.48s\n",
            "\n",
            "Test set: Average loss: 0.0635, Accuracy: 9790/10000 (98%)\n",
            "\n",
            "Train Epoch: 2 [1600/60000] Loss: 0.007201 Acc: 1.0000\n",
            "Train Epoch: 2 [3200/60000] Loss: 0.074591 Acc: 0.9375\n",
            "Train Epoch: 2 [4800/60000] Loss: 0.002865 Acc: 1.0000\n",
            "Train Epoch: 2 [6400/60000] Loss: 0.041931 Acc: 1.0000\n",
            "Train Epoch: 2 [8000/60000] Loss: 0.005149 Acc: 1.0000\n",
            "Train Epoch: 2 [9600/60000] Loss: 0.003052 Acc: 1.0000\n",
            "Train Epoch: 2 [11200/60000] Loss: 0.025903 Acc: 1.0000\n",
            "Train Epoch: 2 [12800/60000] Loss: 0.023022 Acc: 1.0000\n",
            "Train Epoch: 2 [14400/60000] Loss: 0.029533 Acc: 1.0000\n",
            "Train Epoch: 2 [16000/60000] Loss: 0.001166 Acc: 1.0000\n",
            "Train Epoch: 2 [17600/60000] Loss: 0.004253 Acc: 1.0000\n",
            "Train Epoch: 2 [19200/60000] Loss: 0.002570 Acc: 1.0000\n",
            "Train Epoch: 2 [20800/60000] Loss: 0.008832 Acc: 1.0000\n",
            "Train Epoch: 2 [22400/60000] Loss: 0.014101 Acc: 1.0000\n",
            "Train Epoch: 2 [24000/60000] Loss: 0.005005 Acc: 1.0000\n",
            "Train Epoch: 2 [25600/60000] Loss: 0.003316 Acc: 1.0000\n",
            "Train Epoch: 2 [27200/60000] Loss: 0.010068 Acc: 1.0000\n",
            "Train Epoch: 2 [28800/60000] Loss: 0.012681 Acc: 1.0000\n",
            "Train Epoch: 2 [30400/60000] Loss: 0.011098 Acc: 1.0000\n",
            "Train Epoch: 2 [32000/60000] Loss: 0.508633 Acc: 0.9375\n",
            "Train Epoch: 2 [33600/60000] Loss: 0.026821 Acc: 1.0000\n",
            "Train Epoch: 2 [35200/60000] Loss: 0.126060 Acc: 0.9375\n",
            "Train Epoch: 2 [36800/60000] Loss: 0.212241 Acc: 0.9375\n",
            "Train Epoch: 2 [38400/60000] Loss: 0.049719 Acc: 1.0000\n",
            "Train Epoch: 2 [40000/60000] Loss: 0.474460 Acc: 0.9375\n",
            "Train Epoch: 2 [41600/60000] Loss: 0.007876 Acc: 1.0000\n",
            "Train Epoch: 2 [43200/60000] Loss: 0.002834 Acc: 1.0000\n",
            "Train Epoch: 2 [44800/60000] Loss: 0.003921 Acc: 1.0000\n",
            "Train Epoch: 2 [46400/60000] Loss: 0.314372 Acc: 0.9375\n",
            "Train Epoch: 2 [48000/60000] Loss: 0.010003 Acc: 1.0000\n",
            "Train Epoch: 2 [49600/60000] Loss: 0.003528 Acc: 1.0000\n",
            "Train Epoch: 2 [51200/60000] Loss: 0.051086 Acc: 0.9375\n",
            "Train Epoch: 2 [52800/60000] Loss: 0.078420 Acc: 0.9375\n",
            "Train Epoch: 2 [54400/60000] Loss: 0.002695 Acc: 1.0000\n",
            "Train Epoch: 2 [56000/60000] Loss: 0.007019 Acc: 1.0000\n",
            "Train Epoch: 2 [57600/60000] Loss: 0.012241 Acc: 1.0000\n",
            "Train Epoch: 2 [59200/60000] Loss: 0.643221 Acc: 0.8750\n",
            "Elapsed 147.47s, 49.16 s/epoch, 0.01 s/batch, ets 98.31s\n",
            "\n",
            "Test set: Average loss: 0.0488, Accuracy: 9842/10000 (98%)\n",
            "\n",
            "Train Epoch: 3 [1600/60000] Loss: 0.043118 Acc: 1.0000\n",
            "Train Epoch: 3 [3200/60000] Loss: 0.018535 Acc: 1.0000\n",
            "Train Epoch: 3 [4800/60000] Loss: 0.045148 Acc: 1.0000\n",
            "Train Epoch: 3 [6400/60000] Loss: 0.019817 Acc: 1.0000\n",
            "Train Epoch: 3 [8000/60000] Loss: 0.096246 Acc: 0.9375\n",
            "Train Epoch: 3 [9600/60000] Loss: 0.001380 Acc: 1.0000\n",
            "Train Epoch: 3 [11200/60000] Loss: 0.020444 Acc: 1.0000\n",
            "Train Epoch: 3 [12800/60000] Loss: 0.005644 Acc: 1.0000\n",
            "Train Epoch: 3 [14400/60000] Loss: 0.000759 Acc: 1.0000\n",
            "Train Epoch: 3 [16000/60000] Loss: 0.002291 Acc: 1.0000\n",
            "Train Epoch: 3 [17600/60000] Loss: 0.001306 Acc: 1.0000\n",
            "Train Epoch: 3 [19200/60000] Loss: 0.008182 Acc: 1.0000\n",
            "Train Epoch: 3 [20800/60000] Loss: 0.000948 Acc: 1.0000\n",
            "Train Epoch: 3 [22400/60000] Loss: 0.008799 Acc: 1.0000\n",
            "Train Epoch: 3 [24000/60000] Loss: 0.153157 Acc: 0.9375\n",
            "Train Epoch: 3 [25600/60000] Loss: 0.001227 Acc: 1.0000\n",
            "Train Epoch: 3 [27200/60000] Loss: 0.004290 Acc: 1.0000\n",
            "Train Epoch: 3 [28800/60000] Loss: 0.148700 Acc: 0.8750\n",
            "Train Epoch: 3 [30400/60000] Loss: 0.003290 Acc: 1.0000\n",
            "Train Epoch: 3 [32000/60000] Loss: 0.001035 Acc: 1.0000\n",
            "Train Epoch: 3 [33600/60000] Loss: 0.004377 Acc: 1.0000\n",
            "Train Epoch: 3 [35200/60000] Loss: 0.008573 Acc: 1.0000\n",
            "Train Epoch: 3 [36800/60000] Loss: 0.017760 Acc: 1.0000\n",
            "Train Epoch: 3 [38400/60000] Loss: 0.007296 Acc: 1.0000\n",
            "Train Epoch: 3 [40000/60000] Loss: 0.008869 Acc: 1.0000\n",
            "Train Epoch: 3 [41600/60000] Loss: 0.033026 Acc: 1.0000\n",
            "Train Epoch: 3 [43200/60000] Loss: 0.020482 Acc: 1.0000\n",
            "Train Epoch: 3 [44800/60000] Loss: 0.117358 Acc: 0.9375\n",
            "Train Epoch: 3 [46400/60000] Loss: 0.010878 Acc: 1.0000\n",
            "Train Epoch: 3 [48000/60000] Loss: 0.002411 Acc: 1.0000\n",
            "Train Epoch: 3 [49600/60000] Loss: 0.000699 Acc: 1.0000\n",
            "Train Epoch: 3 [51200/60000] Loss: 0.007015 Acc: 1.0000\n",
            "Train Epoch: 3 [52800/60000] Loss: 0.000187 Acc: 1.0000\n",
            "Train Epoch: 3 [54400/60000] Loss: 0.035105 Acc: 1.0000\n",
            "Train Epoch: 3 [56000/60000] Loss: 0.000681 Acc: 1.0000\n",
            "Train Epoch: 3 [57600/60000] Loss: 0.004421 Acc: 1.0000\n",
            "Train Epoch: 3 [59200/60000] Loss: 0.002991 Acc: 1.0000\n",
            "Elapsed 198.00s, 49.50 s/epoch, 0.01 s/batch, ets 49.50s\n",
            "\n",
            "Test set: Average loss: 0.0486, Accuracy: 9850/10000 (98%)\n",
            "\n",
            "Train Epoch: 4 [1600/60000] Loss: 0.129553 Acc: 0.9375\n",
            "Train Epoch: 4 [3200/60000] Loss: 0.003385 Acc: 1.0000\n",
            "Train Epoch: 4 [4800/60000] Loss: 0.012819 Acc: 1.0000\n",
            "Train Epoch: 4 [6400/60000] Loss: 0.066233 Acc: 0.9375\n",
            "Train Epoch: 4 [8000/60000] Loss: 0.004750 Acc: 1.0000\n",
            "Train Epoch: 4 [9600/60000] Loss: 0.010190 Acc: 1.0000\n",
            "Train Epoch: 4 [11200/60000] Loss: 0.017952 Acc: 1.0000\n",
            "Train Epoch: 4 [12800/60000] Loss: 0.003944 Acc: 1.0000\n",
            "Train Epoch: 4 [14400/60000] Loss: 0.047046 Acc: 1.0000\n",
            "Train Epoch: 4 [16000/60000] Loss: 0.005605 Acc: 1.0000\n",
            "Train Epoch: 4 [17600/60000] Loss: 0.021951 Acc: 1.0000\n",
            "Train Epoch: 4 [19200/60000] Loss: 0.001213 Acc: 1.0000\n",
            "Train Epoch: 4 [20800/60000] Loss: 0.000502 Acc: 1.0000\n",
            "Train Epoch: 4 [22400/60000] Loss: 0.040109 Acc: 1.0000\n",
            "Train Epoch: 4 [24000/60000] Loss: 0.008291 Acc: 1.0000\n",
            "Train Epoch: 4 [25600/60000] Loss: 0.007183 Acc: 1.0000\n",
            "Train Epoch: 4 [27200/60000] Loss: 0.011633 Acc: 1.0000\n",
            "Train Epoch: 4 [28800/60000] Loss: 0.004509 Acc: 1.0000\n",
            "Train Epoch: 4 [30400/60000] Loss: 0.000302 Acc: 1.0000\n",
            "Train Epoch: 4 [32000/60000] Loss: 0.010425 Acc: 1.0000\n",
            "Train Epoch: 4 [33600/60000] Loss: 0.013063 Acc: 1.0000\n",
            "Train Epoch: 4 [35200/60000] Loss: 0.027069 Acc: 1.0000\n",
            "Train Epoch: 4 [36800/60000] Loss: 0.002017 Acc: 1.0000\n",
            "Train Epoch: 4 [38400/60000] Loss: 0.003688 Acc: 1.0000\n",
            "Train Epoch: 4 [40000/60000] Loss: 0.006581 Acc: 1.0000\n",
            "Train Epoch: 4 [41600/60000] Loss: 0.034709 Acc: 1.0000\n",
            "Train Epoch: 4 [43200/60000] Loss: 0.029863 Acc: 1.0000\n",
            "Train Epoch: 4 [44800/60000] Loss: 0.002420 Acc: 1.0000\n",
            "Train Epoch: 4 [46400/60000] Loss: 0.033973 Acc: 1.0000\n",
            "Train Epoch: 4 [48000/60000] Loss: 0.000510 Acc: 1.0000\n",
            "Train Epoch: 4 [49600/60000] Loss: 0.018852 Acc: 1.0000\n",
            "Train Epoch: 4 [51200/60000] Loss: 0.000977 Acc: 1.0000\n",
            "Train Epoch: 4 [52800/60000] Loss: 0.256752 Acc: 0.9375\n",
            "Train Epoch: 4 [54400/60000] Loss: 0.006163 Acc: 1.0000\n",
            "Train Epoch: 4 [56000/60000] Loss: 0.041068 Acc: 1.0000\n",
            "Train Epoch: 4 [57600/60000] Loss: 0.052050 Acc: 0.9375\n",
            "Train Epoch: 4 [59200/60000] Loss: 0.016518 Acc: 1.0000\n",
            "Elapsed 249.60s, 49.92 s/epoch, 0.01 s/batch, ets 0.00s\n",
            "\n",
            "Test set: Average loss: 0.0370, Accuracy: 9884/10000 (99%)\n",
            "\n",
            "Total time: 254.12, Best Loss: 0.037\n"
          ]
        }
      ]
    },
    {
      "cell_type": "code",
      "source": [
        "from dataclasses import dataclass\n",
        "@dataclass\n",
        "class Sample:\n",
        "  x: int = 10\n",
        "  y: int = 11"
      ],
      "metadata": {
        "id": "WycFHStx51pt"
      },
      "execution_count": null,
      "outputs": []
    },
    {
      "cell_type": "code",
      "source": [
        "sample = Sample()"
      ],
      "metadata": {
        "id": "XJf5wISlU1jw"
      },
      "execution_count": null,
      "outputs": []
    },
    {
      "cell_type": "code",
      "source": [
        "sample"
      ],
      "metadata": {
        "colab": {
          "base_uri": "https://localhost:8080/"
        },
        "id": "6hQv3OZZVLic",
        "outputId": "e329d610-c3bc-408d-ab21-2f73b5b1af7a"
      },
      "execution_count": null,
      "outputs": [
        {
          "output_type": "execute_result",
          "data": {
            "text/plain": [
              "Sample(x=10, y=11)"
            ]
          },
          "metadata": {},
          "execution_count": 6
        }
      ]
    },
    {
      "cell_type": "code",
      "source": [
        "class samplerepr:\n",
        "  def __init__(self, x, y):\n",
        "    self.x = 10\n",
        "    self.y = 11\n",
        "\n",
        "  def __repr__(self):\n",
        "   return f\"Point: x={self.x}, y={self.y}\""
      ],
      "metadata": {
        "id": "XKbI15JZVOp_"
      },
      "execution_count": null,
      "outputs": []
    },
    {
      "cell_type": "code",
      "source": [
        "sam = samplerepr(10, 11)\n",
        "sam"
      ],
      "metadata": {
        "colab": {
          "base_uri": "https://localhost:8080/"
        },
        "id": "FSd6KjUaVjo4",
        "outputId": "c4f6dfe4-b86d-4520-f6a4-c5d99e9fb4fd"
      },
      "execution_count": null,
      "outputs": [
        {
          "output_type": "execute_result",
          "data": {
            "text/plain": [
              "Point: x=10, y=11"
            ]
          },
          "metadata": {},
          "execution_count": 11
        }
      ]
    },
    {
      "cell_type": "code",
      "source": [
        "\n",
        "import os\n",
        "models = 'models'\n",
        "if not os.path.exists(models):\n",
        "    os.makedirs(models)\n",
        "\n",
        "model_file_name = 'lenet5_mnist.pt'\n",
        "\n",
        "model_path = os.path.join(models, model_file_name)\n",
        "\n",
        "# make sure you transfer the model to cpu.\n",
        "model.to('cpu')\n",
        "\n",
        "# save the state_dict\n",
        "torch.save(model.state_dict(), model_path)"
      ],
      "metadata": {
        "colab": {
          "base_uri": "https://localhost:8080/",
          "height": 211
        },
        "id": "gAXKOMWNVmOC",
        "outputId": "b82a5017-6e96-426b-fde7-3ec335524be9"
      },
      "execution_count": null,
      "outputs": [
        {
          "output_type": "error",
          "ename": "NameError",
          "evalue": "name 'model' is not defined",
          "traceback": [
            "\u001b[0;31m---------------------------------------------------------------------------\u001b[0m",
            "\u001b[0;31mNameError\u001b[0m                                 Traceback (most recent call last)",
            "\u001b[0;32m<ipython-input-13-5bb61fb0ea58>\u001b[0m in \u001b[0;36m<cell line: 0>\u001b[0;34m()\u001b[0m\n\u001b[1;32m      9\u001b[0m \u001b[0;34m\u001b[0m\u001b[0m\n\u001b[1;32m     10\u001b[0m \u001b[0;31m# make sure you transfer the model to cpu.\u001b[0m\u001b[0;34m\u001b[0m\u001b[0;34m\u001b[0m\u001b[0m\n\u001b[0;32m---> 11\u001b[0;31m \u001b[0mmodel\u001b[0m\u001b[0;34m.\u001b[0m\u001b[0mto\u001b[0m\u001b[0;34m(\u001b[0m\u001b[0;34m'cpu'\u001b[0m\u001b[0;34m)\u001b[0m\u001b[0;34m\u001b[0m\u001b[0;34m\u001b[0m\u001b[0m\n\u001b[0m\u001b[1;32m     12\u001b[0m \u001b[0;34m\u001b[0m\u001b[0m\n\u001b[1;32m     13\u001b[0m \u001b[0;31m# save the state_dict\u001b[0m\u001b[0;34m\u001b[0m\u001b[0;34m\u001b[0m\u001b[0m\n",
            "\u001b[0;31mNameError\u001b[0m: name 'model' is not defined"
          ]
        }
      ]
    },
    {
      "cell_type": "code",
      "source": [
        "models = 'models'\n",
        "\n",
        "if not os.path.exists(models):\n",
        "  os.makedirs(models)\n",
        "\n",
        "model_file_name = 'lenet5_mnist.pt'\n",
        "\n",
        "model_path = os.path.join(models, model_file_name)\n",
        "\n",
        "model.to('cpu')\n",
        "\n",
        "torch.save(model.state_dict(), model_path)"
      ],
      "metadata": {
        "colab": {
          "base_uri": "https://localhost:8080/",
          "height": 211
        },
        "id": "rRoSLzrOJt7g",
        "outputId": "3014d757-ad48-433e-e819-0d4dc69b408d"
      },
      "execution_count": null,
      "outputs": [
        {
          "output_type": "error",
          "ename": "NameError",
          "evalue": "name 'model' is not defined",
          "traceback": [
            "\u001b[0;31m---------------------------------------------------------------------------\u001b[0m",
            "\u001b[0;31mNameError\u001b[0m                                 Traceback (most recent call last)",
            "\u001b[0;32m<ipython-input-14-c8805359c62f>\u001b[0m in \u001b[0;36m<cell line: 0>\u001b[0;34m()\u001b[0m\n\u001b[1;32m      8\u001b[0m \u001b[0mmodel_path\u001b[0m \u001b[0;34m=\u001b[0m \u001b[0mos\u001b[0m\u001b[0;34m.\u001b[0m\u001b[0mpath\u001b[0m\u001b[0;34m.\u001b[0m\u001b[0mjoin\u001b[0m\u001b[0;34m(\u001b[0m\u001b[0mmodels\u001b[0m\u001b[0;34m,\u001b[0m \u001b[0mmodel_file_name\u001b[0m\u001b[0;34m)\u001b[0m\u001b[0;34m\u001b[0m\u001b[0;34m\u001b[0m\u001b[0m\n\u001b[1;32m      9\u001b[0m \u001b[0;34m\u001b[0m\u001b[0m\n\u001b[0;32m---> 10\u001b[0;31m \u001b[0mmodel\u001b[0m\u001b[0;34m.\u001b[0m\u001b[0mto\u001b[0m\u001b[0;34m(\u001b[0m\u001b[0;34m'cpu'\u001b[0m\u001b[0;34m)\u001b[0m\u001b[0;34m\u001b[0m\u001b[0;34m\u001b[0m\u001b[0m\n\u001b[0m\u001b[1;32m     11\u001b[0m \u001b[0;34m\u001b[0m\u001b[0m\n\u001b[1;32m     12\u001b[0m \u001b[0mtorch\u001b[0m\u001b[0;34m.\u001b[0m\u001b[0msave\u001b[0m\u001b[0;34m(\u001b[0m\u001b[0mmodel\u001b[0m\u001b[0;34m.\u001b[0m\u001b[0mstate_dict\u001b[0m\u001b[0;34m(\u001b[0m\u001b[0;34m)\u001b[0m\u001b[0;34m,\u001b[0m \u001b[0mmodel_path\u001b[0m\u001b[0;34m)\u001b[0m\u001b[0;34m\u001b[0m\u001b[0;34m\u001b[0m\u001b[0m\n",
            "\u001b[0;31mNameError\u001b[0m: name 'model' is not defined"
          ]
        }
      ]
    },
    {
      "cell_type": "code",
      "source": [
        "models = 'models'\n",
        "if not os.path.exists(models):\n",
        "  os.makedirs(models)\n",
        "\n",
        "  model_file_name = 'lenet5_mnist.pt'\n",
        "\n",
        "  model_path = os.path.join(models, model_file_name)\n",
        "\n",
        "  model.to('cpu')\n",
        "\n",
        "  torch.save(model.state_dict(), model_path)"
      ],
      "metadata": {
        "id": "MxAhNKmGIa6u"
      },
      "execution_count": null,
      "outputs": []
    },
    {
      "cell_type": "code",
      "source": [
        "# initialize the model\n",
        "lenet5_mnist = LeNet5()\n",
        "\n",
        "# loading the model and getting model parameters by using load_state_dict\n",
        "lenet5_mnist.load_state_dict(torch.load(model_path))"
      ],
      "metadata": {
        "colab": {
          "base_uri": "https://localhost:8080/",
          "height": 321
        },
        "id": "uHOpE3hdmd2F",
        "outputId": "a45861d4-563e-416d-d016-f027935f7b45"
      },
      "execution_count": null,
      "outputs": [
        {
          "output_type": "error",
          "ename": "FileNotFoundError",
          "evalue": "[Errno 2] No such file or directory: 'models/lenet5_mnist.pt'",
          "traceback": [
            "\u001b[0;31m---------------------------------------------------------------------------\u001b[0m",
            "\u001b[0;31mFileNotFoundError\u001b[0m                         Traceback (most recent call last)",
            "\u001b[0;32m<ipython-input-15-03cb3fa7338a>\u001b[0m in \u001b[0;36m<cell line: 0>\u001b[0;34m()\u001b[0m\n\u001b[1;32m      3\u001b[0m \u001b[0;34m\u001b[0m\u001b[0m\n\u001b[1;32m      4\u001b[0m \u001b[0;31m# loading the model and getting model parameters by using load_state_dict\u001b[0m\u001b[0;34m\u001b[0m\u001b[0;34m\u001b[0m\u001b[0m\n\u001b[0;32m----> 5\u001b[0;31m \u001b[0mlenet5_mnist\u001b[0m\u001b[0;34m.\u001b[0m\u001b[0mload_state_dict\u001b[0m\u001b[0;34m(\u001b[0m\u001b[0mtorch\u001b[0m\u001b[0;34m.\u001b[0m\u001b[0mload\u001b[0m\u001b[0;34m(\u001b[0m\u001b[0mmodel_path\u001b[0m\u001b[0;34m)\u001b[0m\u001b[0;34m)\u001b[0m\u001b[0;34m\u001b[0m\u001b[0;34m\u001b[0m\u001b[0m\n\u001b[0m",
            "\u001b[0;32m/usr/local/lib/python3.11/dist-packages/torch/serialization.py\u001b[0m in \u001b[0;36mload\u001b[0;34m(f, map_location, pickle_module, weights_only, mmap, **pickle_load_args)\u001b[0m\n\u001b[1;32m   1423\u001b[0m         \u001b[0mpickle_load_args\u001b[0m\u001b[0;34m[\u001b[0m\u001b[0;34m\"encoding\"\u001b[0m\u001b[0;34m]\u001b[0m \u001b[0;34m=\u001b[0m \u001b[0;34m\"utf-8\"\u001b[0m\u001b[0;34m\u001b[0m\u001b[0;34m\u001b[0m\u001b[0m\n\u001b[1;32m   1424\u001b[0m \u001b[0;34m\u001b[0m\u001b[0m\n\u001b[0;32m-> 1425\u001b[0;31m     \u001b[0;32mwith\u001b[0m \u001b[0m_open_file_like\u001b[0m\u001b[0;34m(\u001b[0m\u001b[0mf\u001b[0m\u001b[0;34m,\u001b[0m \u001b[0;34m\"rb\"\u001b[0m\u001b[0;34m)\u001b[0m \u001b[0;32mas\u001b[0m \u001b[0mopened_file\u001b[0m\u001b[0;34m:\u001b[0m\u001b[0;34m\u001b[0m\u001b[0;34m\u001b[0m\u001b[0m\n\u001b[0m\u001b[1;32m   1426\u001b[0m         \u001b[0;32mif\u001b[0m \u001b[0m_is_zipfile\u001b[0m\u001b[0;34m(\u001b[0m\u001b[0mopened_file\u001b[0m\u001b[0;34m)\u001b[0m\u001b[0;34m:\u001b[0m\u001b[0;34m\u001b[0m\u001b[0;34m\u001b[0m\u001b[0m\n\u001b[1;32m   1427\u001b[0m             \u001b[0;31m# The zipfile reader is going to advance the current file position.\u001b[0m\u001b[0;34m\u001b[0m\u001b[0;34m\u001b[0m\u001b[0m\n",
            "\u001b[0;32m/usr/local/lib/python3.11/dist-packages/torch/serialization.py\u001b[0m in \u001b[0;36m_open_file_like\u001b[0;34m(name_or_buffer, mode)\u001b[0m\n\u001b[1;32m    749\u001b[0m \u001b[0;32mdef\u001b[0m \u001b[0m_open_file_like\u001b[0m\u001b[0;34m(\u001b[0m\u001b[0mname_or_buffer\u001b[0m\u001b[0;34m,\u001b[0m \u001b[0mmode\u001b[0m\u001b[0;34m)\u001b[0m\u001b[0;34m:\u001b[0m\u001b[0;34m\u001b[0m\u001b[0;34m\u001b[0m\u001b[0m\n\u001b[1;32m    750\u001b[0m     \u001b[0;32mif\u001b[0m \u001b[0m_is_path\u001b[0m\u001b[0;34m(\u001b[0m\u001b[0mname_or_buffer\u001b[0m\u001b[0;34m)\u001b[0m\u001b[0;34m:\u001b[0m\u001b[0;34m\u001b[0m\u001b[0;34m\u001b[0m\u001b[0m\n\u001b[0;32m--> 751\u001b[0;31m         \u001b[0;32mreturn\u001b[0m \u001b[0m_open_file\u001b[0m\u001b[0;34m(\u001b[0m\u001b[0mname_or_buffer\u001b[0m\u001b[0;34m,\u001b[0m \u001b[0mmode\u001b[0m\u001b[0;34m)\u001b[0m\u001b[0;34m\u001b[0m\u001b[0;34m\u001b[0m\u001b[0m\n\u001b[0m\u001b[1;32m    752\u001b[0m     \u001b[0;32melse\u001b[0m\u001b[0;34m:\u001b[0m\u001b[0;34m\u001b[0m\u001b[0;34m\u001b[0m\u001b[0m\n\u001b[1;32m    753\u001b[0m         \u001b[0;32mif\u001b[0m \u001b[0;34m\"w\"\u001b[0m \u001b[0;32min\u001b[0m \u001b[0mmode\u001b[0m\u001b[0;34m:\u001b[0m\u001b[0;34m\u001b[0m\u001b[0;34m\u001b[0m\u001b[0m\n",
            "\u001b[0;32m/usr/local/lib/python3.11/dist-packages/torch/serialization.py\u001b[0m in \u001b[0;36m__init__\u001b[0;34m(self, name, mode)\u001b[0m\n\u001b[1;32m    730\u001b[0m \u001b[0;32mclass\u001b[0m \u001b[0m_open_file\u001b[0m\u001b[0;34m(\u001b[0m\u001b[0m_opener\u001b[0m\u001b[0;34m)\u001b[0m\u001b[0;34m:\u001b[0m\u001b[0;34m\u001b[0m\u001b[0;34m\u001b[0m\u001b[0m\n\u001b[1;32m    731\u001b[0m     \u001b[0;32mdef\u001b[0m \u001b[0m__init__\u001b[0m\u001b[0;34m(\u001b[0m\u001b[0mself\u001b[0m\u001b[0;34m,\u001b[0m \u001b[0mname\u001b[0m\u001b[0;34m,\u001b[0m \u001b[0mmode\u001b[0m\u001b[0;34m)\u001b[0m\u001b[0;34m:\u001b[0m\u001b[0;34m\u001b[0m\u001b[0;34m\u001b[0m\u001b[0m\n\u001b[0;32m--> 732\u001b[0;31m         \u001b[0msuper\u001b[0m\u001b[0;34m(\u001b[0m\u001b[0;34m)\u001b[0m\u001b[0;34m.\u001b[0m\u001b[0m__init__\u001b[0m\u001b[0;34m(\u001b[0m\u001b[0mopen\u001b[0m\u001b[0;34m(\u001b[0m\u001b[0mname\u001b[0m\u001b[0;34m,\u001b[0m \u001b[0mmode\u001b[0m\u001b[0;34m)\u001b[0m\u001b[0;34m)\u001b[0m\u001b[0;34m\u001b[0m\u001b[0;34m\u001b[0m\u001b[0m\n\u001b[0m\u001b[1;32m    733\u001b[0m \u001b[0;34m\u001b[0m\u001b[0m\n\u001b[1;32m    734\u001b[0m     \u001b[0;32mdef\u001b[0m \u001b[0m__exit__\u001b[0m\u001b[0;34m(\u001b[0m\u001b[0mself\u001b[0m\u001b[0;34m,\u001b[0m \u001b[0;34m*\u001b[0m\u001b[0margs\u001b[0m\u001b[0;34m)\u001b[0m\u001b[0;34m:\u001b[0m\u001b[0;34m\u001b[0m\u001b[0;34m\u001b[0m\u001b[0m\n",
            "\u001b[0;31mFileNotFoundError\u001b[0m: [Errno 2] No such file or directory: 'models/lenet5_mnist.pt'"
          ]
        }
      ]
    },
    {
      "cell_type": "code",
      "source": [
        "lenet5_mnist = LeNet5()\n",
        "\n",
        "lenet5_mnist.load_state_dict(torch.load(model_path)"
      ],
      "metadata": {
        "id": "SUWhFOdjKkwP"
      },
      "execution_count": null,
      "outputs": []
    },
    {
      "cell_type": "code",
      "source": [
        "lenet5_mnist = LeNet5()\n",
        "\n",
        "lenet5_mnist.load_state_dict(torch.load(model_path))"
      ],
      "metadata": {
        "id": "ot1NltdVJPvv"
      },
      "execution_count": null,
      "outputs": []
    },
    {
      "cell_type": "code",
      "source": [
        "def prediction(model, train_config, batch_input):\n",
        "\n",
        "    # turn off gradient-computation\n",
        "    with torch.no_grad():\n",
        "\n",
        "        # send model to cpu/cuda according to your system configuration\n",
        "        model.to(train_config.device)\n",
        "\n",
        "        # it is important to do model.eval() before prediction\n",
        "        model.eval()\n",
        "\n",
        "        data = batch_input.to(train_config.device)\n",
        "\n",
        "        output = model(data)\n",
        "\n",
        "        # get probability score using softmax\n",
        "        prob = F.softmax(output, dim=1)\n",
        "\n",
        "        # get the max probability\n",
        "        pred_prob = prob.data.max(dim=1)[0]\n",
        "\n",
        "        # get the index of the max probability\n",
        "        pred_index = prob.data.max(dim=1)[1]\n",
        "\n",
        "    return pred_index.cpu().numpy(), pred_prob.cpu().numpy()"
      ],
      "metadata": {
        "id": "7ABzdBoLmjfw"
      },
      "execution_count": null,
      "outputs": []
    },
    {
      "cell_type": "code",
      "source": [
        "batch_size = 5\n",
        "train_config = TrainingConfiguration()\n",
        "\n",
        "if torch.cuda.is_available():\n",
        "    train_config.device = \"cuda\"\n",
        "else:\n",
        "    train_config.device = \"cpu\"\n",
        "\n",
        "# load test data without image transformation\n",
        "test = torch.utils.data.DataLoader(\n",
        "    datasets.MNIST(root=train_config.data_root, train=False, download=True,\n",
        "                   transform=transforms.functional.to_tensor),\n",
        "    batch_size=batch_size,\n",
        "    shuffle=False,\n",
        "    num_workers=1\n",
        "    )\n",
        "\n",
        "image_transforms = transforms.Compose([\n",
        "    transforms.Resize((32, 32)),\n",
        "    transforms.ToTensor(),\n",
        "    transforms.Normalize((0.1307, ), (0.3081, ))\n",
        "    ])\n",
        "\n",
        "test_trans = torch.utils.data.DataLoader(\n",
        "    datasets.MNIST(root=train_config.data_root, train=False, download=True, transform=image_transforms),\n",
        "    batch_size=batch_size,\n",
        "    shuffle=False,\n",
        "    num_workers=1\n",
        "    )\n",
        "\n",
        "for data, _ in test_trans:\n",
        "    # pass the loaded model\n",
        "    pred, prob = prediction(lenet5_mnist, train_config, data)\n",
        "    break\n",
        "\n",
        "\n",
        "plt.rcParams[\"figure.figsize\"] = (3, 3)\n",
        "for images, _ in test:\n",
        "    for i, img in enumerate(images):\n",
        "        img = transforms.functional.to_pil_image(img)\n",
        "        plt.imshow(img, cmap='gray')\n",
        "        plt.gca().set_title('Prediction: {0}, Prob: {1:.2}'.format(pred[i], prob[i]))\n",
        "        plt.show()\n",
        "    break"
      ],
      "metadata": {
        "colab": {
          "base_uri": "https://localhost:8080/",
          "height": 1000
        },
        "id": "zul3cUpNmm74",
        "outputId": "8f8fa58d-d41f-486c-983a-4d93a1efe3dd"
      },
      "execution_count": null,
      "outputs": [
        {
          "output_type": "display_data",
          "data": {
            "text/plain": [
              "<Figure size 300x300 with 1 Axes>"
            ],
            "image/png": "[encoded data removed]"
          },
          "metadata": {}
        },
        {
          "output_type": "display_data",
          "data": {
            "text/plain": [
              "<Figure size 300x300 with 1 Axes>"
            ],
            "image/png": "[encoded data removed]"
          },
          "metadata": {}
        },
        {
          "output_type": "display_data",
          "data": {
            "text/plain": [
              "<Figure size 300x300 with 1 Axes>"
            ],
            "image/png": "[encoded data removed]"
          },
          "metadata": {}
        },
        {
          "output_type": "display_data",
          "data": {
            "text/plain": [
              "<Figure size 300x300 with 1 Axes>"
            ],
            "image/png": "[encoded data removed]"
          },
          "metadata": {}
        },
        {
          "output_type": "display_data",
          "data": {
            "text/plain": [
              "<Figure size 300x300 with 1 Axes>"
            ],
            "image/png": "[encoded data removed]"
          },
          "metadata": {}
        }
      ]
    },
    {
      "cell_type": "code",
      "source": [
        "import torch"
      ],
      "metadata": {
        "id": "qcCDpnuhmvHK"
      },
      "execution_count": null,
      "outputs": []
    },
    {
      "cell_type": "code",
      "source": [
        "import torch"
      ],
      "metadata": {
        "id": "se5nOno3rYOw"
      },
      "execution_count": null,
      "outputs": []
    },
    {
      "cell_type": "code",
      "source": [
        "import torch"
      ],
      "metadata": {
        "id": "_0q_slWea5-y"
      },
      "execution_count": null,
      "outputs": []
    },
    {
      "cell_type": "code",
      "source": [
        "import torch"
      ],
      "metadata": {
        "id": "zN0WUHLKq43A"
      },
      "execution_count": null,
      "outputs": []
    },
    {
      "cell_type": "code",
      "source": [],
      "metadata": {
        "id": "aiF-fOnU5ZLl"
      },
      "execution_count": null,
      "outputs": []
    }
  ],
  "metadata": {
    "colab": {
      "provenance": [],
      "authorship_tag": "ABX9TyOhKRQdyRCZM9q9z31WX4aq",
      "include_colab_link": true
    },
    "kernelspec": {
      "display_name": "Python 3",
      "name": "python3"
    },
    "language_info": {
      "name": "python"
    }
  },
  "nbformat": 4,
  "nbformat_minor": 0
}