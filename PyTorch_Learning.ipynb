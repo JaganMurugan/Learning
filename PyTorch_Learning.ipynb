{
  "nbformat": 4,
  "nbformat_minor": 0,
  "metadata": {
    "colab": {
      "provenance": [],
      "authorship_tag": "ABX9TyMax/DnfIHL2uG2GUAww43y",
      "include_colab_link": true
    },
    "kernelspec": {
      "name": "python3",
      "display_name": "Python 3"
    },
    "language_info": {
      "name": "python"
    }
  },
  "cells": [
    {
      "cell_type": "markdown",
      "metadata": {
        "id": "view-in-github",
        "colab_type": "text"
      },
      "source": [
        "<a href=\"https://colab.research.google.com/github/JaganMurugan/Learning/blob/main/PyTorch_Learning.ipynb\" target=\"_parent\"><img src=\"https://colab.research.google.com/assets/colab-badge.svg\" alt=\"Open In Colab\"/></a>"
      ]
    },
    {
      "cell_type": "code",
      "execution_count": 1,
      "metadata": {
        "id": "c31MVSjVRtoL"
      },
      "outputs": [],
      "source": [
        "from pathlib import Path\n",
        "import requests"
      ]
    },
    {
      "cell_type": "code",
      "source": [
        "DATA_PATH = Path(\"data\")\n",
        "PATH = DATA_PATH / \"mnist\""
      ],
      "metadata": {
        "id": "n83iWRdqR9FB"
      },
      "execution_count": 2,
      "outputs": []
    },
    {
      "cell_type": "code",
      "source": [
        "PATH.mkdir(parents=True, exist_ok=True)\n",
        "\n",
        "URL = \"https://github.com/pytorch/tutorials/raw/main/_static/\"\n",
        "FILENAME = \"mnist.pkl.gz\"\n",
        "\n",
        "if not (PATH / FILENAME).exists():\n",
        "  content = requests.get(URL + FILENAME).content\n",
        "  (PATH / FILENAME).open(\"wb\").write(content)"
      ],
      "metadata": {
        "id": "IlLw4-RgSMJe"
      },
      "execution_count": 3,
      "outputs": []
    },
    {
      "cell_type": "code",
      "source": [
        "import pickle"
      ],
      "metadata": {
        "id": "QxMVZ3ldTMLz"
      },
      "execution_count": 4,
      "outputs": []
    },
    {
      "cell_type": "code",
      "source": [
        "import gzip"
      ],
      "metadata": {
        "id": "jjCiZz60Usks"
      },
      "execution_count": 5,
      "outputs": []
    },
    {
      "cell_type": "code",
      "source": [
        "with gzip.open((PATH / FILENAME).as_posix(), \"rb\") as f:\n",
        "  ((x_train, y_train), (x_valid, y_valid), _) = pickle.load(f, encoding=\"latin-1\")"
      ],
      "metadata": {
        "id": "X6F5dtbhU15Q"
      },
      "execution_count": 6,
      "outputs": []
    },
    {
      "cell_type": "code",
      "source": [
        "from matplotlib import pyplot\n",
        "import numpy as np\n",
        "\n",
        "pyplot.imshow(x_train[0].reshape((28, 28)), cmap=\"gray\")\n",
        "print(x_train.shape)"
      ],
      "metadata": {
        "colab": {
          "base_uri": "https://localhost:8080/",
          "height": 448
        },
        "id": "yv0uaHDQVRZQ",
        "outputId": "16bafc6a-63aa-4d3d-83c6-df1f3418539d"
      },
      "execution_count": 7,
      "outputs": [
        {
          "output_type": "stream",
          "name": "stdout",
          "text": [
            "(50000, 784)\n"
          ]
        },
        {
          "output_type": "display_data",
          "data": {
            "text/plain": [
              "<Figure size 640x480 with 1 Axes>"
            ],
            "image/png": "[encoded data removed]"
          },
          "metadata": {}
        }
      ]
    },
    {
      "cell_type": "code",
      "source": [
        "import torch\n",
        "x_train, y_train, x_valid, y_valid = map(\n",
        "    torch.tensor, (x_train, y_train, x_valid, y_valid)\n",
        ")\n",
        "\n",
        "n, c = x_train.shape\n"
      ],
      "metadata": {
        "id": "r9dm-nrSV29I"
      },
      "execution_count": 8,
      "outputs": []
    },
    {
      "cell_type": "code",
      "source": [
        "x_train"
      ],
      "metadata": {
        "colab": {
          "base_uri": "https://localhost:8080/"
        },
        "id": "L4j_eMvXxipx",
        "outputId": "f41b9e10-d598-4514-81c1-4e550d96bbe7"
      },
      "execution_count": null,
      "outputs": [
        {
          "output_type": "execute_result",
          "data": {
            "text/plain": [
              "tensor([[0., 0., 0.,  ..., 0., 0., 0.],\n",
              "        [0., 0., 0.,  ..., 0., 0., 0.],\n",
              "        [0., 0., 0.,  ..., 0., 0., 0.],\n",
              "        ...,\n",
              "        [0., 0., 0.,  ..., 0., 0., 0.],\n",
              "        [0., 0., 0.,  ..., 0., 0., 0.],\n",
              "        [0., 0., 0.,  ..., 0., 0., 0.]])"
            ]
          },
          "metadata": {},
          "execution_count": 12
        }
      ]
    },
    {
      "cell_type": "code",
      "source": [
        "import torch\n",
        "import math\n",
        "\n",
        "weights = torch.randn(784, 10) / math.sqrt(784)\n",
        "weights.requires_grad_()\n",
        "bias = torch.zeros(10, requires_grad=True)"
      ],
      "metadata": {
        "id": "Vp2PIgIdpgpx"
      },
      "execution_count": 9,
      "outputs": []
    },
    {
      "cell_type": "code",
      "source": [
        "import torch"
      ],
      "metadata": {
        "id": "JwX7mZVwpyj9"
      },
      "execution_count": null,
      "outputs": []
    },
    {
      "cell_type": "code",
      "source": [
        "x = torch.tensor([[[1, 2, 3, 8], [4, 5, 6, 8]], [[7, 8, 9, 85], [11, 12,13, 8]]])"
      ],
      "metadata": {
        "id": "vg-VP14YWnSG"
      },
      "execution_count": null,
      "outputs": []
    },
    {
      "cell_type": "code",
      "source": [
        "x[0][1][0]"
      ],
      "metadata": {
        "colab": {
          "base_uri": "https://localhost:8080/"
        },
        "id": "SygEpp1eyIVe",
        "outputId": "651e3881-1a17-4e06-fed7-6e4d2c7fda4e"
      },
      "execution_count": null,
      "outputs": [
        {
          "output_type": "execute_result",
          "data": {
            "text/plain": [
              "tensor(4)"
            ]
          },
          "metadata": {},
          "execution_count": 24
        }
      ]
    },
    {
      "cell_type": "code",
      "source": [
        "x.shape[0]"
      ],
      "metadata": {
        "colab": {
          "base_uri": "https://localhost:8080/"
        },
        "id": "_hkYmJ5OyOkQ",
        "outputId": "865c2f64-1c67-4f96-c47b-75b1aade3e11"
      },
      "execution_count": null,
      "outputs": [
        {
          "output_type": "execute_result",
          "data": {
            "text/plain": [
              "2"
            ]
          },
          "metadata": {},
          "execution_count": 27
        }
      ]
    },
    {
      "cell_type": "code",
      "source": [
        "y_train"
      ],
      "metadata": {
        "colab": {
          "base_uri": "https://localhost:8080/"
        },
        "id": "x_LX9PArztb7",
        "outputId": "7980e0c0-429f-48a2-9abb-8ba444b4a865"
      },
      "execution_count": null,
      "outputs": [
        {
          "output_type": "execute_result",
          "data": {
            "text/plain": [
              "tensor([5, 0, 4,  ..., 8, 4, 8])"
            ]
          },
          "metadata": {},
          "execution_count": 28
        }
      ]
    },
    {
      "cell_type": "code",
      "source": [
        "y_train[0:64].shape"
      ],
      "metadata": {
        "colab": {
          "base_uri": "https://localhost:8080/"
        },
        "id": "2sI_yDI11z1v",
        "outputId": "eb760243-3f4d-4352-e2ba-813a3db4aaab"
      },
      "execution_count": null,
      "outputs": [
        {
          "output_type": "execute_result",
          "data": {
            "text/plain": [
              "torch.Size([64])"
            ]
          },
          "metadata": {},
          "execution_count": 31
        }
      ]
    },
    {
      "cell_type": "code",
      "source": [
        "def log_softmax(x):\n",
        "  return x - x.exp().sum(-1)"
      ],
      "metadata": {
        "id": "_iQuyhYq13Cs"
      },
      "execution_count": null,
      "outputs": []
    },
    {
      "cell_type": "code",
      "source": [
        "x = torch.randn((64, 10))\n",
        "x"
      ],
      "metadata": {
        "colab": {
          "base_uri": "https://localhost:8080/"
        },
        "id": "U8uDplZyECX9",
        "outputId": "a697af0b-3ef5-4b8a-9f00-bd0b0d630755"
      },
      "execution_count": null,
      "outputs": [
        {
          "output_type": "execute_result",
          "data": {
            "text/plain": [
              "tensor([[ 2.3555e+00, -9.8861e-01,  5.3985e-01, -3.2126e-01,  7.7404e-01,\n",
              "          2.5238e-02,  5.8146e-01, -2.7437e-01, -2.7254e-01,  1.8154e+00],\n",
              "        [ 1.0604e-02, -2.7259e-01, -2.4404e-01,  1.0931e-01,  2.0152e-01,\n",
              "          2.6962e+00, -1.2238e+00, -1.0675e+00,  1.1627e+00,  8.2021e-01],\n",
              "        [-5.3917e-02,  1.0145e-01, -3.2064e-01, -5.4313e-01,  5.3472e-01,\n",
              "          1.1912e-03,  6.6665e-01,  3.2747e-01, -8.6364e-01,  1.2034e-02],\n",
              "        [-1.8694e-01, -3.5789e-01, -8.6985e-01, -4.1959e-01,  3.4692e-02,\n",
              "          6.1837e-01, -3.4661e-01,  1.5570e-01, -1.0395e+00, -1.9334e+00],\n",
              "        [ 7.5115e-01, -1.1211e+00, -9.6062e-02,  1.9825e-01, -7.5977e-01,\n",
              "          1.3049e+00, -1.1118e+00,  8.3637e-01, -2.2615e-01, -7.0039e-01],\n",
              "        [ 6.7601e-01,  1.3958e+00, -1.6793e-01,  1.5120e+00,  4.1840e-02,\n",
              "         -3.6805e-01,  2.2317e+00, -1.8656e-01,  1.0043e+00, -1.8496e+00],\n",
              "        [ 4.5319e-01,  1.2833e+00,  5.7091e-01,  5.2903e-02,  2.7616e-02,\n",
              "          8.2481e-01, -6.3714e-01,  8.3041e-02, -2.5121e+00, -5.2057e-02],\n",
              "        [-2.9692e-01,  6.1610e-01,  1.1150e+00, -5.1163e-01, -9.2579e-01,\n",
              "          6.2781e-01,  1.1432e+00,  1.4734e+00, -7.3545e-01, -5.5332e-01],\n",
              "        [ 1.2639e+00,  1.0361e+00,  8.0471e-01, -2.9059e-01,  1.2779e+00,\n",
              "          7.2973e-01, -1.3665e+00,  1.4277e+00,  1.1786e+00, -8.9899e-01],\n",
              "        [-9.4751e-01,  9.9661e-01,  4.6165e-01, -9.6949e-01,  3.2147e-01,\n",
              "          2.6581e-01,  9.6335e-01, -1.8778e-01,  2.7231e-01,  1.0828e+00],\n",
              "        [-2.5790e+00, -3.9984e-01,  1.0295e+00,  4.5324e-01,  1.2220e+00,\n",
              "         -6.8366e-01, -2.5634e-01, -1.1506e+00, -6.4861e-01, -1.4456e+00],\n",
              "        [ 8.8154e-01, -2.3125e-01,  1.3495e+00, -8.4990e-01, -7.3380e-01,\n",
              "         -2.0818e-01,  4.5773e-01, -1.5253e-01,  4.6836e-02, -3.4694e-01],\n",
              "        [-1.3108e+00, -9.2087e-01, -1.3068e-01,  1.7172e+00,  1.2363e+00,\n",
              "          1.2189e+00,  1.9092e+00,  4.4929e-01, -5.1367e-01,  2.2742e-01],\n",
              "        [-1.1317e+00,  1.4412e-01, -5.2794e-01,  2.2487e-01, -2.5599e-01,\n",
              "         -1.1950e-01,  3.3218e-01, -1.2988e-01,  4.4276e-02,  7.4286e-02],\n",
              "        [ 1.3121e-01,  1.3976e+00,  2.1194e-01, -1.5259e+00, -1.4277e+00,\n",
              "         -1.8774e+00, -6.3381e-01, -8.3869e-02, -3.5902e-01, -6.4248e-01],\n",
              "        [-8.0748e-02,  1.0548e+00, -1.0613e+00, -8.7532e-01, -1.7454e-01,\n",
              "          1.6380e+00, -4.8756e-01,  3.6812e-01,  5.1209e-01,  5.6053e-01],\n",
              "        [ 6.3223e-01,  4.6147e-01,  2.7692e-01,  7.6464e-01, -9.8549e-02,\n",
              "          1.0727e+00,  1.2207e+00, -6.9081e-01, -7.7969e-01, -1.0904e+00],\n",
              "        [ 1.0605e+00, -8.3857e-01, -2.3601e-01, -4.1749e-01,  2.3435e-01,\n",
              "          1.6835e+00,  1.6015e+00,  1.3105e-01,  1.0165e+00,  4.5828e-01],\n",
              "        [-1.1109e+00, -1.0186e+00,  1.9281e+00, -3.0505e-01, -4.5294e-01,\n",
              "          7.3211e-01,  8.4942e-01,  1.1851e+00, -1.7324e-01,  1.1906e+00],\n",
              "        [ 1.2649e+00,  1.9958e+00, -1.2732e+00, -1.6276e+00,  6.7542e-01,\n",
              "          2.1151e+00,  7.8804e-01,  3.0818e-01, -6.0564e-01, -4.7938e-01],\n",
              "        [ 4.4587e-01, -5.0435e-01, -2.2707e-01,  1.2383e+00,  4.5899e-01,\n",
              "         -1.1264e+00,  1.0126e+00, -1.8733e-01, -6.0134e-01, -2.0803e+00],\n",
              "        [ 2.3230e+00,  9.6592e-01, -4.3465e-01, -1.3595e-01,  8.0080e-01,\n",
              "          1.4891e+00, -5.6622e-01, -2.5064e+00,  1.3134e+00, -7.0394e-01],\n",
              "        [ 1.6989e+00,  2.8496e-01,  1.2823e+00,  1.0534e+00,  1.1777e+00,\n",
              "         -1.0910e+00,  1.1534e+00, -4.7378e-01,  9.0856e-01,  5.5990e-01],\n",
              "        [ 1.8576e-01, -3.3863e-01, -9.7419e-01,  3.9187e-01,  1.8992e-02,\n",
              "         -1.2943e+00, -3.9975e-01, -4.3092e-01,  3.8856e-01,  1.4433e+00],\n",
              "        [-1.5266e-01,  4.9846e-01, -3.3860e-01,  2.8679e-01, -8.2239e-01,\n",
              "          1.0212e+00,  1.9502e+00,  7.0052e-02,  1.5014e-01,  7.5036e-01],\n",
              "        [ 1.6332e+00, -4.2627e-01,  1.2786e-01, -2.2834e-01,  3.8292e-03,\n",
              "         -1.9643e-02, -7.8285e-01, -1.1005e+00,  1.3116e+00,  1.0380e+00],\n",
              "        [ 3.5711e-02, -1.0927e+00, -8.5310e-01, -1.0970e+00,  4.5196e-01,\n",
              "         -7.5081e-01, -3.9595e-01, -5.5804e-01, -1.4477e+00, -9.8450e-01],\n",
              "        [-1.4137e+00,  1.4222e+00, -9.2884e-01, -1.4402e-01, -7.9205e-01,\n",
              "         -2.3989e+00,  1.7536e+00,  1.1430e-01, -3.5811e-01,  9.6588e-01],\n",
              "        [ 6.3599e-01, -7.4024e-02,  7.8761e-01, -4.5083e-01, -3.3451e-02,\n",
              "          3.2469e-01,  1.7510e+00,  9.0782e-01, -1.1358e+00, -1.3691e+00],\n",
              "        [ 1.6259e+00, -9.8345e-02, -9.2123e-02,  1.3442e+00, -1.5316e+00,\n",
              "          1.3498e-01, -1.7294e+00,  3.0859e-01,  5.4077e-01, -1.7610e-01],\n",
              "        [ 5.4193e-01, -4.0959e-01,  4.1292e-01,  5.0599e-01,  6.9094e-01,\n",
              "         -1.5661e-01, -8.7968e-01, -1.2428e+00, -8.9515e-01, -5.6445e-01],\n",
              "        [ 1.0352e+00,  8.5902e-01, -5.9242e-01,  1.4767e-01,  5.9722e-01,\n",
              "         -6.7038e-01,  5.1862e-01,  8.1032e-02,  4.7486e-02,  8.2868e-01],\n",
              "        [ 4.8332e-01, -1.6364e-01, -3.8042e-01,  2.1868e-03,  5.3255e-02,\n",
              "          2.9142e-01, -1.1879e+00, -1.3656e-01,  2.5092e-01, -1.5718e+00],\n",
              "        [ 1.2868e-01, -1.7597e-01, -1.4022e+00, -1.1685e+00, -3.9545e-01,\n",
              "          9.8520e-01,  1.0157e+00,  8.9609e-02, -6.8836e-01,  1.3769e+00],\n",
              "        [ 6.0798e-01, -4.2465e-01, -1.2996e+00,  7.3446e-02, -3.1193e+00,\n",
              "          3.8583e-01,  1.3014e+00, -1.0803e+00, -4.8556e-01, -1.9849e-01],\n",
              "        [-6.0551e-01,  7.2366e-01,  5.7990e-01, -1.1084e-01, -2.3743e-01,\n",
              "          3.7451e-01,  1.8068e+00, -4.6388e-01,  9.7069e-01, -6.5767e-01],\n",
              "        [ 1.3038e+00,  1.7144e-01,  3.9695e-01, -1.2653e-01, -4.4707e-01,\n",
              "         -1.3531e-01,  8.2821e-01, -1.4091e+00, -3.4551e-01,  1.1027e+00],\n",
              "        [ 1.0217e+00,  2.2139e-01,  1.7317e-01, -2.1417e-01, -1.5744e+00,\n",
              "         -8.0564e-01, -1.6590e-01,  3.5079e-01,  1.0960e+00,  1.4470e-01],\n",
              "        [-7.9904e-01,  2.2627e-01,  3.0266e-01, -2.7369e-01,  1.9540e+00,\n",
              "         -3.3311e-01,  1.0974e+00, -1.3747e+00, -3.8156e-02, -3.0574e+00],\n",
              "        [-6.3979e-01,  1.3608e+00, -2.3768e+00, -8.3081e-01, -1.4021e+00,\n",
              "          5.0043e-01, -1.6468e-01, -1.1030e-01, -7.7378e-01, -3.3813e-02],\n",
              "        [ 1.9703e+00, -9.0868e-01,  1.4586e+00, -1.2152e+00,  3.5156e-03,\n",
              "          3.7462e-01, -1.5437e+00, -1.2242e+00,  1.1407e-01, -2.6040e-01],\n",
              "        [-2.5475e-01, -2.9161e-01, -6.5528e-01,  1.2274e+00, -3.8065e-01,\n",
              "         -1.4880e-01,  1.0653e-01, -1.7375e+00, -1.2742e+00, -5.0890e-01],\n",
              "        [-1.1668e+00, -1.1262e+00,  7.7619e-01,  2.3916e+00, -3.3752e-02,\n",
              "          8.1799e-01, -2.8278e+00,  9.9682e-01,  3.2181e-01, -3.2744e-01],\n",
              "        [ 8.9905e-02, -3.4308e-01,  4.5198e-01,  2.4407e+00, -1.2804e+00,\n",
              "          4.9158e-01, -1.4377e+00, -3.1464e-01,  1.5662e+00,  7.4404e-02],\n",
              "        [-3.5559e-01,  1.0127e+00,  1.0262e+00, -3.5187e-01,  1.8294e+00,\n",
              "         -7.2517e-01,  3.7502e-01, -9.8479e-02, -2.5578e+00, -1.8617e+00],\n",
              "        [-1.4986e+00, -1.1063e+00,  7.2994e-01,  1.1880e-01,  9.3172e-01,\n",
              "         -6.1661e-01, -7.4129e-01,  2.1844e-02, -4.3288e-01, -1.8905e+00],\n",
              "        [ 1.2763e+00,  7.8059e-01, -1.1558e+00,  3.6939e-01, -1.1522e+00,\n",
              "          1.2941e+00, -4.4625e-01,  1.2023e+00,  5.4549e-01,  1.1723e-01],\n",
              "        [ 1.6373e+00,  2.0699e-01,  9.2017e-01,  1.4547e-01, -1.1176e+00,\n",
              "          2.6199e+00, -8.1632e-01, -6.6283e-01, -9.9247e-01, -1.3203e-01],\n",
              "        [ 2.9514e-01,  2.7767e+00,  2.7301e-02,  2.9172e-01,  2.0863e-01,\n",
              "          2.5963e-02,  6.9057e-01, -6.7588e-01,  2.5507e+00,  6.4663e-01],\n",
              "        [-1.9632e-01, -1.3991e+00,  2.5325e-01, -8.3959e-01,  7.1747e-01,\n",
              "          1.6972e+00, -1.2524e+00, -1.3890e+00,  1.1309e-01,  1.5151e+00],\n",
              "        [ 4.9750e-02, -4.0780e-01, -2.4340e+00,  1.5862e-01,  4.0753e-01,\n",
              "          1.7294e-01, -6.0450e-01, -2.3068e+00,  1.0897e+00, -2.3054e-01],\n",
              "        [ 5.0749e-01,  1.1910e+00, -3.5345e-01, -9.8372e-01,  1.4010e+00,\n",
              "          9.5877e-01,  5.6377e-01,  1.2325e-02, -2.4335e-01,  4.7717e-01],\n",
              "        [-5.6244e-01, -6.1668e-01, -6.4039e-01,  1.3915e+00, -1.3355e+00,\n",
              "          9.8082e-01,  1.6208e-01, -1.0207e-01, -1.0394e+00, -3.1564e-01],\n",
              "        [ 6.3417e-01, -2.0988e+00, -3.5871e-01,  2.4236e-01,  1.1835e+00,\n",
              "          1.9894e-01, -2.2996e-01,  1.2517e-01, -6.4780e-02, -2.6696e-01],\n",
              "        [ 4.7760e-01,  1.1414e+00, -2.2144e+00, -4.6296e-01, -2.9538e-01,\n",
              "          1.0303e+00,  6.4718e-01,  3.8595e-01,  8.0587e-01,  1.1286e+00],\n",
              "        [-2.8755e-01, -4.0231e-01, -6.3811e-01,  5.8579e-01,  4.2634e-01,\n",
              "         -1.6199e+00, -1.4520e+00,  7.7913e-01,  1.2092e+00,  6.4710e-01],\n",
              "        [-5.8951e-02, -1.8373e-01,  1.7032e-01, -4.9764e-01, -7.2752e-01,\n",
              "         -7.0653e-01,  9.2823e-01,  2.5742e-01,  1.7439e+00, -2.6840e-01],\n",
              "        [ 1.2103e+00,  2.1757e+00,  1.8405e-01,  1.3778e+00, -3.2949e-01,\n",
              "         -1.4340e+00,  4.9264e-01,  1.5921e+00,  2.0167e+00,  2.3886e-01],\n",
              "        [ 8.3217e-01, -4.5548e-02, -1.0260e+00,  8.3976e-01,  4.9952e-01,\n",
              "         -1.5181e+00, -5.8456e-01, -6.9456e-01, -7.5111e-01,  8.3302e-02],\n",
              "        [-1.9284e-01,  2.1504e+00,  9.1601e-01, -2.9908e-01,  1.2394e+00,\n",
              "          1.7495e+00, -3.4657e-01,  9.9476e-01,  6.0628e-01,  2.7999e-01],\n",
              "        [-1.7561e+00, -8.8604e-01, -1.7483e+00,  1.3281e+00, -2.0381e+00,\n",
              "          4.0084e-01, -8.0804e-01, -2.8994e-01, -8.4094e-01,  6.0448e-01],\n",
              "        [ 3.5911e-01, -3.9582e-01, -3.4350e-02, -2.1957e+00,  4.5911e-02,\n",
              "          8.9223e-01, -6.3001e-01, -2.3863e+00,  4.0128e-01, -2.3599e+00],\n",
              "        [-1.1799e+00, -3.7797e-01, -1.6406e+00,  6.3656e-01, -2.9446e-01,\n",
              "         -3.3144e-01, -7.3089e-01, -5.8370e-01, -2.9235e-01, -2.1977e-01],\n",
              "        [ 2.4627e-02,  1.0380e+00, -6.8204e-01, -3.8051e-01, -1.1475e+00,\n",
              "         -1.5954e+00, -9.1392e-01,  1.7649e+00,  8.9515e-01,  1.1753e+00]])"
            ]
          },
          "metadata": {},
          "execution_count": 37
        }
      ]
    },
    {
      "cell_type": "code",
      "source": [
        "x.exp().sum(-1)"
      ],
      "metadata": {
        "colab": {
          "base_uri": "https://localhost:8080/"
        },
        "id": "JmYsWa4fECdy",
        "outputId": "1f0be065-a841-4d4a-eddc-75cbccf0a177"
      },
      "execution_count": null,
      "outputs": [
        {
          "output_type": "execute_result",
          "data": {
            "text/plain": [
              "tensor([26.0039, 25.8249, 10.8379,  7.8700, 12.6592, 26.1529, 13.9613, 17.0689,\n",
              "        23.0857, 15.4617, 10.8670, 12.9770, 24.1092,  9.3756,  9.7065, 16.0209,\n",
              "        15.4504, 21.8624, 20.7590, 26.3581, 12.5739, 25.8764, 24.8756, 12.0975,\n",
              "        19.1475, 17.0157,  6.0291, 16.4166, 16.8181, 16.1916, 10.0844, 15.3202,\n",
              "         9.2194, 14.2047, 10.8040, 17.4093, 15.0056, 13.0910, 15.8500, 10.0226,\n",
              "        17.0296,  9.1682, 21.8420, 23.6023, 16.2561,  9.1322, 18.3089, 26.3030,\n",
              "        39.2622, 16.5011, 10.0811, 17.8607, 11.7489, 12.0977, 17.7392, 13.1475,\n",
              "        14.8529, 33.6235, 10.4104, 28.4267,  9.6118,  8.8830,  7.1277, 17.4867])"
            ]
          },
          "metadata": {},
          "execution_count": 40
        }
      ]
    },
    {
      "cell_type": "code",
      "source": [
        "import torch\n",
        "\n",
        "x = torch.tensor([[1.0, 2.0], [3.0, 4.0]])\n",
        "result = x.sum(-2)\n",
        "result\n"
      ],
      "metadata": {
        "colab": {
          "base_uri": "https://localhost:8080/"
        },
        "id": "N1K7TvGHEMCU",
        "outputId": "af7e5691-93cf-414f-a8ce-a6649ceda2b2"
      },
      "execution_count": null,
      "outputs": [
        {
          "output_type": "execute_result",
          "data": {
            "text/plain": [
              "tensor([4., 6.])"
            ]
          },
          "metadata": {},
          "execution_count": 44
        }
      ]
    },
    {
      "cell_type": "code",
      "source": [
        "def nll(input, target):\n",
        "  pass"
      ],
      "metadata": {
        "id": "RLDUUyUGFnFs"
      },
      "execution_count": 10,
      "outputs": []
    },
    {
      "cell_type": "code",
      "source": [
        "x = torch.tensor([\n",
        "    [  # Batch 0\n",
        "        [[1, 2], [3, 4]],   # Channel 0\n",
        "        [[5, 6], [7, 8]]    # Channel 1\n",
        "    ],\n",
        "    [  # Batch 1\n",
        "        [[9, 10], [11, 12]],   # Channel 0\n",
        "        [[13, 14], [15, 16]]   # Channel 1\n",
        "    ]\n",
        "])"
      ],
      "metadata": {
        "id": "DFQZQtAvfCR9"
      },
      "execution_count": 11,
      "outputs": []
    },
    {
      "cell_type": "code",
      "source": [
        "x.sum(2)"
      ],
      "metadata": {
        "colab": {
          "base_uri": "https://localhost:8080/"
        },
        "id": "QbdwhPeQh9c8",
        "outputId": "d29c264c-04f4-4af8-a7e1-091d3578a5ef"
      },
      "execution_count": 28,
      "outputs": [
        {
          "output_type": "execute_result",
          "data": {
            "text/plain": [
              "tensor([[[ 4,  6],\n",
              "         [12, 14]],\n",
              "\n",
              "        [[20, 22],\n",
              "         [28, 30]]])"
            ]
          },
          "metadata": {},
          "execution_count": 28
        }
      ]
    },
    {
      "cell_type": "code",
      "source": [
        "yb = y_train[0:64]"
      ],
      "metadata": {
        "id": "OtgpwXq6h-ss"
      },
      "execution_count": 29,
      "outputs": []
    },
    {
      "cell_type": "code",
      "source": [
        "yb"
      ],
      "metadata": {
        "colab": {
          "base_uri": "https://localhost:8080/"
        },
        "id": "VaczI-UVl3mV",
        "outputId": "6ca2f4b4-0bb5-4cff-c6e3-cfa6fe8269e6"
      },
      "execution_count": 30,
      "outputs": [
        {
          "output_type": "execute_result",
          "data": {
            "text/plain": [
              "tensor([5, 0, 4, 1, 9, 2, 1, 3, 1, 4, 3, 5, 3, 6, 1, 7, 2, 8, 6, 9, 4, 0, 9, 1,\n",
              "        1, 2, 4, 3, 2, 7, 3, 8, 6, 9, 0, 5, 6, 0, 7, 6, 1, 8, 7, 9, 3, 9, 8, 5,\n",
              "        9, 3, 3, 0, 7, 4, 9, 8, 0, 9, 4, 1, 4, 4, 6, 0])"
            ]
          },
          "metadata": {},
          "execution_count": 30
        }
      ]
    },
    {
      "cell_type": "code",
      "source": [
        "yb.shape"
      ],
      "metadata": {
        "colab": {
          "base_uri": "https://localhost:8080/"
        },
        "id": "rZP-z49knEsX",
        "outputId": "db9949bb-91fa-498c-b558-6c58eacbbc25"
      },
      "execution_count": 31,
      "outputs": [
        {
          "output_type": "execute_result",
          "data": {
            "text/plain": [
              "torch.Size([64])"
            ]
          },
          "metadata": {},
          "execution_count": 31
        }
      ]
    },
    {
      "cell_type": "code",
      "source": [
        "yb.shape[0]"
      ],
      "metadata": {
        "colab": {
          "base_uri": "https://localhost:8080/"
        },
        "id": "sJVemlxMnX1K",
        "outputId": "429f2943-7626-4476-93fe-02d103bd42fd"
      },
      "execution_count": 32,
      "outputs": [
        {
          "output_type": "execute_result",
          "data": {
            "text/plain": [
              "64"
            ]
          },
          "metadata": {},
          "execution_count": 32
        }
      ]
    },
    {
      "cell_type": "code",
      "source": [
        "range(64)"
      ],
      "metadata": {
        "colab": {
          "base_uri": "https://localhost:8080/"
        },
        "id": "jpAn1LgMna4K",
        "outputId": "6b3d12ee-bc05-46e7-bc42-90019a365ef5"
      },
      "execution_count": 33,
      "outputs": [
        {
          "output_type": "execute_result",
          "data": {
            "text/plain": [
              "range(0, 64)"
            ]
          },
          "metadata": {},
          "execution_count": 33
        }
      ]
    },
    {
      "cell_type": "code",
      "source": [
        "print(range(64))"
      ],
      "metadata": {
        "colab": {
          "base_uri": "https://localhost:8080/"
        },
        "id": "ZVNkD8OUneX3",
        "outputId": "0497224d-f1b2-4bd2-9089-e6e89f51a1a6"
      },
      "execution_count": 34,
      "outputs": [
        {
          "output_type": "stream",
          "name": "stdout",
          "text": [
            "range(0, 64)\n"
          ]
        }
      ]
    },
    {
      "cell_type": "code",
      "source": [
        "b = [range(64), yb]\n",
        "b"
      ],
      "metadata": {
        "colab": {
          "base_uri": "https://localhost:8080/"
        },
        "id": "k70409c_niyD",
        "outputId": "79c32ef0-1bb2-4482-c9e8-0d39a165b8ca"
      },
      "execution_count": 36,
      "outputs": [
        {
          "output_type": "execute_result",
          "data": {
            "text/plain": [
              "[range(0, 64),\n",
              " tensor([5, 0, 4, 1, 9, 2, 1, 3, 1, 4, 3, 5, 3, 6, 1, 7, 2, 8, 6, 9, 4, 0, 9, 1,\n",
              "         1, 2, 4, 3, 2, 7, 3, 8, 6, 9, 0, 5, 6, 0, 7, 6, 1, 8, 7, 9, 3, 9, 8, 5,\n",
              "         9, 3, 3, 0, 7, 4, 9, 8, 0, 9, 4, 1, 4, 4, 6, 0])]"
            ]
          },
          "metadata": {},
          "execution_count": 36
        }
      ]
    },
    {
      "cell_type": "code",
      "source": [
        "import torch"
      ],
      "metadata": {
        "id": "lGC4UiygntE2"
      },
      "execution_count": 1,
      "outputs": []
    },
    {
      "cell_type": "code",
      "source": [
        "import torch"
      ],
      "metadata": {
        "id": "GIHidvgOcxh7"
      },
      "execution_count": 1,
      "outputs": []
    },
    {
      "cell_type": "code",
      "source": [
        "from IPython.core.debugger import set_trace\n",
        "\n",
        "lr = 0.5\n",
        "epochs = 2\n",
        "\n",
        "for epoch in range(epochs):\n",
        "  for i in range((n-1) // bs + 1):\n",
        "\n",
        "    set_trace()\n",
        "\n",
        "    start_i = i * bs\n",
        "    end_i = start_i + bs"
      ],
      "metadata": {
        "id": "qJHHfFPhHtDA"
      },
      "execution_count": null,
      "outputs": []
    },
    {
      "cell_type": "code",
      "source": [],
      "metadata": {
        "id": "YoOnU_qIn5F1"
      },
      "execution_count": null,
      "outputs": []
    },
    {
      "cell_type": "code",
      "source": [
        "range(5)"
      ],
      "metadata": {
        "colab": {
          "base_uri": "https://localhost:8080/"
        },
        "id": "fYB8YrQql1v6",
        "outputId": "d81888d9-6fe6-446d-9190-349965de156a"
      },
      "execution_count": 1,
      "outputs": [
        {
          "output_type": "execute_result",
          "data": {
            "text/plain": [
              "range(0, 5)"
            ]
          },
          "metadata": {},
          "execution_count": 1
        }
      ]
    },
    {
      "cell_type": "code",
      "source": [
        "for i in range(5):\n",
        "  print(i)"
      ],
      "metadata": {
        "colab": {
          "base_uri": "https://localhost:8080/"
        },
        "id": "ftRqkLjRl3Oe",
        "outputId": "5e1924ba-c381-46a9-da36-9d662c6bfd69"
      },
      "execution_count": 2,
      "outputs": [
        {
          "output_type": "stream",
          "name": "stdout",
          "text": [
            "0\n",
            "1\n",
            "2\n",
            "3\n",
            "4\n"
          ]
        }
      ]
    },
    {
      "cell_type": "code",
      "source": [
        "import numpy as np\n",
        "\n",
        "class NearestNeighbor(object):\n",
        "  def __init__(self):\n",
        "    pass\n",
        "\n",
        "  def train(self, X, y):\n",
        "\n",
        "    self.Xtr = X\n",
        "    self.ytr = y\n",
        "\n",
        "  def predict(self, X):\n",
        "    num_test = X.shape[0]\n",
        "\n",
        "    Ypred = np.zeros(num_test, dtype = self.ytr.dtype)"
      ],
      "metadata": {
        "id": "ifG9DHMWl76u"
      },
      "execution_count": 2,
      "outputs": []
    },
    {
      "cell_type": "code",
      "source": [
        "import torch\n",
        "\n",
        "torch.rand(100)"
      ],
      "metadata": {
        "colab": {
          "base_uri": "https://localhost:8080/"
        },
        "id": "VsctsrxXoGbJ",
        "outputId": "a3246fb0-3253-43f0-cd61-6846a8dee028"
      },
      "execution_count": 1,
      "outputs": [
        {
          "output_type": "execute_result",
          "data": {
            "text/plain": [
              "tensor([0.1858, 0.5853, 0.4868, 0.4952, 0.2494, 0.5123, 0.8838, 0.3392, 0.9091,\n",
              "        0.1329, 0.0663, 0.5756, 0.9602, 0.8950, 0.5769, 0.0959, 0.0276, 0.6728,\n",
              "        0.1603, 0.4564, 0.2575, 0.6973, 0.2574, 0.4563, 0.7043, 0.4766, 0.6783,\n",
              "        0.4724, 0.0739, 0.5089, 0.3954, 0.5134, 0.8935, 0.6881, 0.1722, 0.2047,\n",
              "        0.5565, 0.4164, 0.9052, 0.6322, 0.0888, 0.1148, 0.3557, 0.7895, 0.1296,\n",
              "        0.1070, 0.4428, 0.6043, 0.7989, 0.7988, 0.7386, 0.6079, 0.3687, 0.0635,\n",
              "        0.2639, 0.7093, 0.6385, 0.5218, 0.1914, 0.3070, 0.6110, 0.4748, 0.6962,\n",
              "        0.0255, 0.9159, 0.8848, 0.9850, 0.7374, 0.6217, 0.8407, 0.6559, 0.6660,\n",
              "        0.9134, 0.6652, 0.0876, 0.8600, 0.0425, 0.1994, 0.9001, 0.5709, 0.1595,\n",
              "        0.6889, 0.9569, 0.2752, 0.6399, 0.2308, 0.7934, 0.8809, 0.2393, 0.9643,\n",
              "        0.1845, 0.2195, 0.2783, 0.8893, 0.6165, 0.2033, 0.3843, 0.3035, 0.9421,\n",
              "        0.3652])"
            ]
          },
          "metadata": {},
          "execution_count": 1
        }
      ]
    },
    {
      "cell_type": "code",
      "source": [
        "torch.randint(10, (5,))"
      ],
      "metadata": {
        "colab": {
          "base_uri": "https://localhost:8080/"
        },
        "id": "6Z0CaC1LFZXK",
        "outputId": "894feac1-6849-407a-c260-e665775105ce"
      },
      "execution_count": 2,
      "outputs": [
        {
          "output_type": "execute_result",
          "data": {
            "text/plain": [
              "tensor([9, 5, 9, 6, 4])"
            ]
          },
          "metadata": {},
          "execution_count": 2
        }
      ]
    },
    {
      "cell_type": "code",
      "source": [],
      "metadata": {
        "id": "f5sicGmMGN0v"
      },
      "execution_count": null,
      "outputs": []
    }
  ]
}