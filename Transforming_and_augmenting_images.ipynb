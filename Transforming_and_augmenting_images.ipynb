{
  "nbformat": 4,
  "nbformat_minor": 0,
  "metadata": {
    "colab": {
      "provenance": [],
      "authorship_tag": "ABX9TyOo6eWguzCa5I1KciVcYxXC",
      "include_colab_link": true
    },
    "kernelspec": {
      "name": "python3",
      "display_name": "Python 3"
    },
    "language_info": {
      "name": "python"
    }
  },
  "cells": [
    {
      "cell_type": "markdown",
      "metadata": {
        "id": "view-in-github",
        "colab_type": "text"
      },
      "source": [
        "<a href=\"https://colab.research.google.com/github/JaganMurugan/Learning/blob/main/Transforming_and_augmenting_images.ipynb\" target=\"_parent\"><img src=\"https://colab.research.google.com/assets/colab-badge.svg\" alt=\"Open In Colab\"/></a>"
      ]
    },
    {
      "cell_type": "code",
      "execution_count": 1,
      "metadata": {
        "id": "yjDllkj1Fjur"
      },
      "outputs": [],
      "source": [
        "import torch\n",
        "from torchvision.transforms import v2"
      ]
    },
    {
      "cell_type": "code",
      "source": [
        "H, W = 32, 32\n",
        "img = torch.randint(0, 256, size=(3, H, W), dtype=torch.uint8)"
      ],
      "metadata": {
        "id": "6HnNs1h0FxGP"
      },
      "execution_count": 3,
      "outputs": []
    },
    {
      "cell_type": "code",
      "source": [
        "transforms = v2.Compose([\n",
        "    v2.RandomResizedCrop(size=(224, 224), antialias=True),\n",
        "    v2.RandomHorizontalFlip(p=0.5),\n",
        "    v2.ToDtype(torch.float32, scale=True),\n",
        "    v2.Normalize(mean=[0.485, 0.456, 0.406], std=[0.229, 0.224, 0.225])\n",
        "\n",
        "\n",
        "])"
      ],
      "metadata": {
        "id": "DlTVDKNtGYdF"
      },
      "execution_count": 6,
      "outputs": []
    },
    {
      "cell_type": "code",
      "source": [
        "img = transforms(img)"
      ],
      "metadata": {
        "id": "G6sJu5FqHLLs"
      },
      "execution_count": 7,
      "outputs": []
    },
    {
      "cell_type": "code",
      "source": [],
      "metadata": {
        "id": "o-E97rgcHhai"
      },
      "execution_count": null,
      "outputs": []
    }
  ]
}