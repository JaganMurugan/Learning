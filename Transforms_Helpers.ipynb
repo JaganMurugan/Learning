{
  "nbformat": 4,
  "nbformat_minor": 0,
  "metadata": {
    "colab": {
      "provenance": [],
      "authorship_tag": "ABX9TyP2rpo1fQDGsJAaWrjSlZaj",
      "include_colab_link": true
    },
    "kernelspec": {
      "name": "python3",
      "display_name": "Python 3"
    },
    "language_info": {
      "name": "python"
    }
  },
  "cells": [
    {
      "cell_type": "markdown",
      "metadata": {
        "id": "view-in-github",
        "colab_type": "text"
      },
      "source": [
        "<a href=\"https://colab.research.google.com/github/JaganMurugan/Learning/blob/main/Transforms_Helpers.ipynb\" target=\"_parent\"><img src=\"https://colab.research.google.com/assets/colab-badge.svg\" alt=\"Open In Colab\"/></a>"
      ]
    },
    {
      "cell_type": "code",
      "execution_count": 1,
      "metadata": {
        "id": "mM6ZsEE-5CXL"
      },
      "outputs": [],
      "source": [
        "import matplotlib.pyplot as plt\n",
        "import torch\n",
        "from torchvision.utils import draw_bounding_boxes, draw_segmentation_masks\n",
        "from torchvision import tv_tensors\n",
        "from torchvision.transforms import v2\n",
        "from torchvision.transforms.v2 import functional as F"
      ]
    },
    {
      "cell_type": "code",
      "source": [
        "def plot(imgs, row_title=None, bbox_width=3, **imshow_kwargs):\n",
        "  if not isinstance(imgs[0], list):\n",
        "    # Make a 2d grid even if there's just 1 row\n",
        "    imgs = [imgs]"
      ],
      "metadata": {
        "id": "_mIorjTB5gZ2"
      },
      "execution_count": 2,
      "outputs": []
    },
    {
      "cell_type": "code",
      "source": [],
      "metadata": {
        "id": "1NqsNPTL6pt8"
      },
      "execution_count": null,
      "outputs": []
    }
  ]
}