{
  "nbformat": 4,
  "nbformat_minor": 0,
  "metadata": {
    "colab": {
      "provenance": [],
      "authorship_tag": "ABX9TyMl7Pf+44jtKxforCsGdinl",
      "include_colab_link": true
    },
    "kernelspec": {
      "name": "python3",
      "display_name": "Python 3"
    },
    "language_info": {
      "name": "python"
    }
  },
  "cells": [
    {
      "cell_type": "markdown",
      "metadata": {
        "id": "view-in-github",
        "colab_type": "text"
      },
      "source": [
        "<a href=\"https://colab.research.google.com/github/JaganMurugan/Learning/blob/main/Untitled11.ipynb\" target=\"_parent\"><img src=\"https://colab.research.google.com/assets/colab-badge.svg\" alt=\"Open In Colab\"/></a>"
      ]
    },
    {
      "cell_type": "code",
      "source": [
        "import torch"
      ],
      "metadata": {
        "id": "-i_qIHn787CN"
      },
      "execution_count": null,
      "outputs": []
    },
    {
      "cell_type": "code",
      "source": [
        "import torch"
      ],
      "metadata": {
        "id": "paxSMlhACZFw"
      },
      "execution_count": null,
      "outputs": []
    },
    {
      "cell_type": "code",
      "source": [
        "import os\n",
        "import torch\n",
        "import numpy as np\n",
        "import torch.nn as nn\n",
        "import torch.nn.functional as F"
      ],
      "metadata": {
        "id": "Pa3nxgLCCvhK"
      },
      "execution_count": null,
      "outputs": []
    },
    {
      "cell_type": "code",
      "source": [
        "torch.manual_seed(0)"
      ],
      "metadata": {
        "colab": {
          "base_uri": "https://localhost:8080/"
        },
        "id": "GFF6aTq8DKyK",
        "outputId": "9ab2555c-263d-43ac-f4c1-da6afca389b1"
      },
      "execution_count": null,
      "outputs": [
        {
          "output_type": "execute_result",
          "data": {
            "text/plain": [
              "<torch._C.Generator at 0x7eb4c442fb50>"
            ]
          },
          "metadata": {},
          "execution_count": 3
        }
      ]
    },
    {
      "cell_type": "code",
      "source": [
        "import torch"
      ],
      "metadata": {
        "id": "L2Qf8Yq35Eaa"
      },
      "execution_count": null,
      "outputs": []
    },
    {
      "cell_type": "code",
      "source": [
        "import torch"
      ],
      "metadata": {
        "id": "gHxVcmY-4FFy"
      },
      "execution_count": null,
      "outputs": []
    },
    {
      "cell_type": "code",
      "source": [
        "import gymnasium as gym"
      ],
      "metadata": {
        "id": "jJV9n3R24R1g"
      },
      "execution_count": null,
      "outputs": []
    },
    {
      "cell_type": "code",
      "source": [
        "import torch"
      ],
      "metadata": {
        "id": "SxNhxkRo4jEW"
      },
      "execution_count": null,
      "outputs": []
    },
    {
      "cell_type": "code",
      "source": [
        "env = gym.make('CartPole-v1')"
      ],
      "metadata": {
        "id": "eTw1Pcqq4szq"
      },
      "execution_count": null,
      "outputs": []
    },
    {
      "cell_type": "code",
      "source": [
        "from torchvision import datasets, models\n",
        "from torch.utils.data import Dataset, DataLoader"
      ],
      "metadata": {
        "id": "kJCp-GjnJskG"
      },
      "execution_count": null,
      "outputs": []
    },
    {
      "cell_type": "code",
      "source": [
        "from torchvision.transforms import ToTensor"
      ],
      "metadata": {
        "id": "TnAEjO_oKnqI"
      },
      "execution_count": null,
      "outputs": []
    },
    {
      "cell_type": "code",
      "source": [
        "training_data = datasets.FashionMNIST(\n",
        "    root = \"data\",\n",
        "    download = True,\n",
        "\n",
        ")"
      ],
      "metadata": {
        "colab": {
          "base_uri": "https://localhost:8080/"
        },
        "id": "OY8s8nVhKCFh",
        "outputId": "73840acb-f59d-4772-a6c9-9c2cbd42e3eb"
      },
      "execution_count": null,
      "outputs": [
        {
          "output_type": "stream",
          "name": "stderr",
          "text": [
            "100%|██████████| 26.4M/26.4M [00:01<00:00, 17.1MB/s]\n",
            "100%|██████████| 29.5k/29.5k [00:00<00:00, 271kB/s]\n",
            "100%|██████████| 4.42M/4.42M [00:00<00:00, 5.04MB/s]\n",
            "100%|██████████| 5.15k/5.15k [00:00<00:00, 10.3MB/s]\n"
          ]
        }
      ]
    },
    {
      "cell_type": "code",
      "source": [
        "training_data = datasets.FashionMNIST(\n",
        "    root = \"data\",\n",
        "    download = True,\n",
        "    train = True,\n",
        "    transform = ToTensor()\n",
        ")\n",
        "\n",
        "test_data = datasets.FashionMNIST(\n",
        "    root = \"data\",\n",
        "    download = True,\n",
        "    train = False,\n",
        "    transform = ToTensor()\n",
        ")"
      ],
      "metadata": {
        "id": "X26cuA82Kz8q",
        "colab": {
          "base_uri": "https://localhost:8080/"
        },
        "outputId": "54b45030-0981-4387-e81d-04ea5a7504d1"
      },
      "execution_count": null,
      "outputs": [
        {
          "output_type": "stream",
          "name": "stderr",
          "text": [
            "100%|██████████| 26.4M/26.4M [00:02<00:00, 11.2MB/s]\n",
            "100%|██████████| 29.5k/29.5k [00:00<00:00, 201kB/s]\n",
            "100%|██████████| 4.42M/4.42M [00:01<00:00, 3.76MB/s]\n",
            "100%|██████████| 5.15k/5.15k [00:00<00:00, 10.4MB/s]\n"
          ]
        }
      ]
    },
    {
      "cell_type": "code",
      "source": [
        "train_loader = DataLoader(training_data, batch_size=64, shuffle=True)\n",
        "test_loader = DataLoader(test_data, batch_size=64, shuffle=True)"
      ],
      "metadata": {
        "id": "LiE_BRNEL4Yb"
      },
      "execution_count": null,
      "outputs": []
    },
    {
      "cell_type": "code",
      "source": [
        "import torch.nn as nn\n",
        "\n",
        "class MyModel(nn.Module):\n",
        "  def __init__(self):\n",
        "    super().__init__()\n",
        "    self.flatten = nn.Flatten()\n",
        "    self.linear_relu_stack = nn.Sequential(\n",
        "        nn.Linear(28*28, 512),\n",
        "        nn.ReLU(),\n",
        "        nn.Linear(512, 512),\n",
        "        nn.ReLU(),\n",
        "        nn.Linear(512, 10),\n",
        "        nn.ReLU()\n",
        "    )\n",
        "\n",
        "  def forward(self, x):\n",
        "    x = self.flatten(x)\n",
        "    logits = self.linear_relu_stack(x)\n",
        "    return logits\n",
        "\n"
      ],
      "metadata": {
        "id": "NyqKTv3IMXHd"
      },
      "execution_count": null,
      "outputs": []
    },
    {
      "cell_type": "code",
      "source": [
        "model = MyModel()"
      ],
      "metadata": {
        "id": "kYfnbV6QOovx"
      },
      "execution_count": null,
      "outputs": []
    },
    {
      "cell_type": "code",
      "source": [
        "model"
      ],
      "metadata": {
        "colab": {
          "base_uri": "https://localhost:8080/"
        },
        "id": "WCEyumJBOyGt",
        "outputId": "fe39443a-6733-455f-9d74-562b47955a49"
      },
      "execution_count": null,
      "outputs": [
        {
          "output_type": "execute_result",
          "data": {
            "text/plain": [
              "MyModel(\n",
              "  (linear_relu_stack): Sequential(\n",
              "    (0): Linear(in_features=784, out_features=512, bias=True)\n",
              "    (1): ReLU()\n",
              "    (2): Linear(in_features=512, out_features=512, bias=True)\n",
              "    (3): ReLU()\n",
              "    (4): Linear(in_features=512, out_features=10, bias=True)\n",
              "    (5): ReLU()\n",
              "  )\n",
              ")"
            ]
          },
          "metadata": {},
          "execution_count": 13
        }
      ]
    },
    {
      "cell_type": "code",
      "source": [
        "def train_loop(dataloader, model, loss_fn, optimizer):\n",
        "  size = len(dataloader.dataset)\n",
        "\n",
        "  model.train()\n",
        "\n",
        "\n",
        "\n",
        "\n",
        "\n"
      ],
      "metadata": {
        "id": "TQw0cCjUO1fA"
      },
      "execution_count": null,
      "outputs": []
    },
    {
      "cell_type": "code",
      "source": [
        "def train_loop(dataloader, model, loss_fn, optimizer):\n",
        "  size = len(dataloader.dataset)\n",
        "\n",
        "  model.train()\n",
        "\n",
        "  for batch, (X, y) in enumerate(dataloader):\n",
        "    pred = model(X)\n",
        "    loss = loss_fn(pred, y)\n",
        "\n",
        "    loss.backward()\n",
        "    optimizer.step()\n",
        "    optimizer.zero_grad()\n",
        "\n",
        "    if batch % 100 == 0:\n",
        "      loss, current = loss.item(), batch * dataloader.batch_size  + len(X)\n",
        "      print(f\"Loss: {loss:>7f} [{current:>6d}/{size:>6d}]\")\n",
        "\n",
        "def test_loop(dataloader, model, loss_fn):\n",
        "\n",
        "  model.eval()\n",
        "  with torch.no_grad():\n",
        "    for X,y in dataloader:\n",
        "      pred = model(X)\n",
        "      loss = loss_fn(pred, y)\n",
        "      loss += loss\n",
        "\n",
        "\n"
      ],
      "metadata": {
        "id": "ISC770c7Jnfw"
      },
      "execution_count": null,
      "outputs": []
    },
    {
      "cell_type": "code",
      "source": [
        "import torch"
      ],
      "metadata": {
        "id": "1Sjyebzyw9cS"
      },
      "execution_count": null,
      "outputs": []
    },
    {
      "cell_type": "code",
      "source": [
        "ones = torch.ones((5,2,3))\n",
        "ones"
      ],
      "metadata": {
        "colab": {
          "base_uri": "https://localhost:8080/"
        },
        "id": "ewQ5L8vrxBbt",
        "outputId": "e1fa8e67-8ebd-42ed-9e1c-5add2a3712f1"
      },
      "execution_count": null,
      "outputs": [
        {
          "output_type": "execute_result",
          "data": {
            "text/plain": [
              "tensor([[[1., 1., 1.],\n",
              "         [1., 1., 1.]],\n",
              "\n",
              "        [[1., 1., 1.],\n",
              "         [1., 1., 1.]],\n",
              "\n",
              "        [[1., 1., 1.],\n",
              "         [1., 1., 1.]],\n",
              "\n",
              "        [[1., 1., 1.],\n",
              "         [1., 1., 1.]],\n",
              "\n",
              "        [[1., 1., 1.],\n",
              "         [1., 1., 1.]]])"
            ]
          },
          "metadata": {},
          "execution_count": 28
        }
      ]
    },
    {
      "cell_type": "code",
      "source": [
        "ones.size()[0]"
      ],
      "metadata": {
        "colab": {
          "base_uri": "https://localhost:8080/"
        },
        "id": "7C6AnEIhxKjL",
        "outputId": "4fef45d7-fe6b-436a-edca-c1cf32ef8298"
      },
      "execution_count": null,
      "outputs": [
        {
          "output_type": "execute_result",
          "data": {
            "text/plain": [
              "5"
            ]
          },
          "metadata": {},
          "execution_count": 31
        }
      ]
    },
    {
      "cell_type": "code",
      "source": [
        "import torch.optim as optim\n"
      ],
      "metadata": {
        "id": "Ksu35NqSPhQr"
      },
      "execution_count": null,
      "outputs": []
    },
    {
      "cell_type": "code",
      "source": [
        "\n",
        "\n",
        "lr_rate = 0.01\n",
        "epoch = 10\n",
        "\n",
        "optimizer = optim.SGD(model.parameters(), lr_rate)\n",
        "loss_fn = nn.CrossEntropyLoss()\n",
        "\n",
        "for t in range(epoch):\n",
        "  print(f\"Epoch {t+1}:\\n------------------------------\")\n",
        "  train_loop(train_loader, model, loss_fn, optimizer)\n",
        "  test_loop(test_loader, model, loss_fn)\n",
        "\n",
        "print(\"END\")"
      ],
      "metadata": {
        "id": "2jKQr-ZrP2Gm",
        "colab": {
          "base_uri": "https://localhost:8080/"
        },
        "outputId": "fd9bfb5e-0102-4a27-9590-b9d67609f008"
      },
      "execution_count": null,
      "outputs": [
        {
          "output_type": "stream",
          "name": "stdout",
          "text": [
            "Epoch 1:\n",
            "------------------------------\n",
            "Loss: 1.051682 [    64/ 60000]\n",
            "Loss: 0.972531 [  6464/ 60000]\n",
            "Loss: 0.837446 [ 12864/ 60000]\n",
            "Loss: 0.973508 [ 19264/ 60000]\n",
            "Loss: 1.092872 [ 25664/ 60000]\n",
            "Loss: 0.798729 [ 32064/ 60000]\n",
            "Loss: 0.916924 [ 38464/ 60000]\n",
            "Loss: 0.898720 [ 44864/ 60000]\n",
            "Loss: 1.094058 [ 51264/ 60000]\n",
            "Loss: 0.896210 [ 57664/ 60000]\n",
            "Epoch 2:\n",
            "------------------------------\n",
            "Loss: 1.051157 [    64/ 60000]\n",
            "Loss: 0.967497 [  6464/ 60000]\n",
            "Loss: 1.028163 [ 12864/ 60000]\n",
            "Loss: 0.746188 [ 19264/ 60000]\n",
            "Loss: 1.158723 [ 25664/ 60000]\n",
            "Loss: 0.761840 [ 32064/ 60000]\n",
            "Loss: 0.774916 [ 38464/ 60000]\n",
            "Loss: 0.854738 [ 44864/ 60000]\n",
            "Loss: 0.844779 [ 51264/ 60000]\n",
            "Loss: 1.014191 [ 57664/ 60000]\n",
            "Epoch 3:\n",
            "------------------------------\n",
            "Loss: 0.972929 [    64/ 60000]\n",
            "Loss: 0.847022 [  6464/ 60000]\n",
            "Loss: 0.822174 [ 12864/ 60000]\n",
            "Loss: 0.813129 [ 19264/ 60000]\n",
            "Loss: 0.901160 [ 25664/ 60000]\n",
            "Loss: 1.303654 [ 32064/ 60000]\n",
            "Loss: 0.848036 [ 38464/ 60000]\n",
            "Loss: 0.817286 [ 44864/ 60000]\n",
            "Loss: 0.978415 [ 51264/ 60000]\n",
            "Loss: 0.892743 [ 57664/ 60000]\n",
            "Epoch 4:\n",
            "------------------------------\n",
            "Loss: 0.915945 [    64/ 60000]\n",
            "Loss: 0.854466 [  6464/ 60000]\n",
            "Loss: 0.966031 [ 12864/ 60000]\n",
            "Loss: 1.130680 [ 19264/ 60000]\n",
            "Loss: 0.899818 [ 25664/ 60000]\n",
            "Loss: 0.850693 [ 32064/ 60000]\n",
            "Loss: 0.859104 [ 38464/ 60000]\n",
            "Loss: 0.873475 [ 44864/ 60000]\n",
            "Loss: 0.835376 [ 51264/ 60000]\n",
            "Loss: 1.079463 [ 57664/ 60000]\n",
            "Epoch 5:\n",
            "------------------------------\n",
            "Loss: 0.980633 [    64/ 60000]\n",
            "Loss: 0.963159 [  6464/ 60000]\n",
            "Loss: 0.679309 [ 12864/ 60000]\n",
            "Loss: 0.810617 [ 19264/ 60000]\n",
            "Loss: 1.092894 [ 25664/ 60000]\n",
            "Loss: 0.797572 [ 32064/ 60000]\n",
            "Loss: 0.854605 [ 38464/ 60000]\n",
            "Loss: 0.978864 [ 44864/ 60000]\n",
            "Loss: 0.873001 [ 51264/ 60000]\n",
            "Loss: 0.857789 [ 57664/ 60000]\n",
            "Epoch 6:\n",
            "------------------------------\n",
            "Loss: 0.770497 [    64/ 60000]\n",
            "Loss: 0.854186 [  6464/ 60000]\n",
            "Loss: 0.814798 [ 12864/ 60000]\n",
            "Loss: 1.047513 [ 19264/ 60000]\n",
            "Loss: 1.124976 [ 25664/ 60000]\n",
            "Loss: 0.963368 [ 32064/ 60000]\n",
            "Loss: 0.818982 [ 38464/ 60000]\n",
            "Loss: 0.617268 [ 44864/ 60000]\n",
            "Loss: 0.901737 [ 51264/ 60000]\n",
            "Loss: 0.953489 [ 57664/ 60000]\n",
            "Epoch 7:\n",
            "------------------------------\n",
            "Loss: 0.730301 [    64/ 60000]\n",
            "Loss: 0.656691 [  6464/ 60000]\n",
            "Loss: 0.973111 [ 12864/ 60000]\n",
            "Loss: 1.010658 [ 19264/ 60000]\n",
            "Loss: 0.885666 [ 25664/ 60000]\n",
            "Loss: 0.961850 [ 32064/ 60000]\n",
            "Loss: 0.794973 [ 38464/ 60000]\n",
            "Loss: 0.715130 [ 44864/ 60000]\n",
            "Loss: 0.952536 [ 51264/ 60000]\n",
            "Loss: 0.876840 [ 57664/ 60000]\n",
            "Epoch 8:\n",
            "------------------------------\n",
            "Loss: 0.963134 [    64/ 60000]\n",
            "Loss: 1.019186 [  6464/ 60000]\n",
            "Loss: 0.930872 [ 12864/ 60000]\n",
            "Loss: 0.628514 [ 19264/ 60000]\n",
            "Loss: 0.919262 [ 25664/ 60000]\n",
            "Loss: 0.633508 [ 32064/ 60000]\n",
            "Loss: 1.169953 [ 38464/ 60000]\n",
            "Loss: 0.886289 [ 44864/ 60000]\n",
            "Loss: 1.045641 [ 51264/ 60000]\n",
            "Loss: 0.931748 [ 57664/ 60000]\n",
            "Epoch 9:\n",
            "------------------------------\n",
            "Loss: 0.673746 [    64/ 60000]\n",
            "Loss: 0.907739 [  6464/ 60000]\n",
            "Loss: 0.930373 [ 12864/ 60000]\n",
            "Loss: 1.159042 [ 19264/ 60000]\n",
            "Loss: 0.725277 [ 25664/ 60000]\n",
            "Loss: 0.740743 [ 32064/ 60000]\n",
            "Loss: 0.654965 [ 38464/ 60000]\n",
            "Loss: 0.953767 [ 44864/ 60000]\n",
            "Loss: 0.902252 [ 51264/ 60000]\n",
            "Loss: 1.054201 [ 57664/ 60000]\n",
            "Epoch 10:\n",
            "------------------------------\n",
            "Loss: 0.684055 [    64/ 60000]\n",
            "Loss: 0.691033 [  6464/ 60000]\n",
            "Loss: 0.992882 [ 12864/ 60000]\n",
            "Loss: 0.699958 [ 19264/ 60000]\n",
            "Loss: 0.798324 [ 25664/ 60000]\n",
            "Loss: 0.601971 [ 32064/ 60000]\n",
            "Loss: 0.761916 [ 38464/ 60000]\n",
            "Loss: 0.954623 [ 44864/ 60000]\n",
            "Loss: 0.484440 [ 51264/ 60000]\n",
            "Loss: 0.829667 [ 57664/ 60000]\n",
            "END\n"
          ]
        }
      ]
    },
    {
      "cell_type": "code",
      "source": [
        "@dataclass\n",
        "class SystemConfiguration:\n",
        "  seed: int = 42\n",
        "  cudnn_benchmark_enabled: bool = True\n",
        "  cudnn_deterministic: bool = True\n"
      ],
      "metadata": {
        "id": "0IUKev1r-1SP"
      },
      "execution_count": null,
      "outputs": []
    },
    {
      "cell_type": "code",
      "source": [
        "from dataclasses import dataclass"
      ],
      "metadata": {
        "id": "NKo7QwV-xd6d"
      },
      "execution_count": null,
      "outputs": []
    },
    {
      "cell_type": "code",
      "source": [
        "def setup_system(system_config: SystemConfiguration) -> None:\n",
        "  torch.manul_seed(system_cofig.seed)\n",
        "  if torch.cuda.is_available():\n",
        "    torch.backends.cudnn_bechmark_enabled = system_config.cudnn_benchmark_enabled\n",
        "    torch.backends.cudnn.deterministic = system_config.cudnn_deterministic"
      ],
      "metadata": {
        "id": "5FOcqGpQxcJJ"
      },
      "execution_count": null,
      "outputs": []
    },
    {
      "cell_type": "code",
      "source": [
        "def train(\n",
        "    train_config: TrainingConfiguration, model: nn.Module, optimizer: torch.optim.optimizer,\n",
        "    train_loader: torch.utils.data.DataLoader, epoch_idx: int\n",
        ") -> None:\n",
        "  model.train()\n",
        "\n",
        "  batch_loss = np.array([])\n",
        "\n",
        "  batch_acc = np.array([])\n",
        "\n",
        "  for batch_idx, (data, target) in enumerate(train_loader):\n",
        "\n",
        "    indx_target = target.clone()\n",
        "\n",
        "    data = data.to(train_cofig.device)\n",
        "\n",
        "    target = target.to(train_config.device)\n",
        "\n",
        "    optimizer.zero_grad()\n",
        "\n",
        "    output = model(data)\n",
        "\n",
        "    loss = F.cross_entropy(output, target)\n",
        "\n",
        "    loss.backward()\n",
        "\n",
        "    batch_loss = np.append(batch_loss, [loss.item()])\n",
        "\n",
        "    prob = F.softmax(output, dim=1)\n",
        "\n",
        "    pred"
      ],
      "metadata": {
        "id": "Y1tvuO0hQiN_"
      },
      "execution_count": null,
      "outputs": []
    },
    {
      "cell_type": "code",
      "source": [
        "class Net(nn.Module):\n",
        "  def __init__(self, n_classes):\n",
        "    super(Net, self).__init__()\n",
        "    self.conv1 = nn.Conv2d(3, 32, 3, 1)\n",
        "    self.conv2 = nn.Conv2d(32, 64, 3, 1)\n",
        "    self.conv3 = nn.Conv2d(64, 32, 3, 1)\n",
        "    self.con4 = nn.Conv2d(32, 32, 3, 1)\n",
        "    self.fc1 = nn.Linear(10368, 2048)\n",
        "    self.fc2 = nn.Linear(2048, 128)\n",
        "    self.fc3 = nn.Linear(128, n_classes)\n",
        "\n",
        "  def forward(self, x):\n",
        "    x = self.conv1(x)\n",
        "    x = F.relu(x)\n",
        "    x = self.conv2(x)\n",
        "    x = F.reul(x)\n",
        "    x = F.max_pool2d(x, 2)\n",
        "    x = self.conv3(x)\n",
        "    x = F.relu(x)\n",
        "    x = F.max_pool2d(x, 2)\n",
        "\n",
        "    x = self.conv4(x)\n",
        "    x = F.relu(x)\n",
        "    x = F.max_pool2d(x, 2)\n",
        "\n",
        "    x = torch.flatten(x, 1)\n",
        "    x = self.fc1(x)\n",
        "    x = F.relu(x)\n",
        "    x = self.fc2(x)\n",
        "    x = F.relu(x)\n",
        "    x = self.fc3(x)\n",
        "\n",
        "    return x"
      ],
      "metadata": {
        "id": "MzmCVnASPLAV"
      },
      "execution_count": null,
      "outputs": []
    },
    {
      "cell_type": "code",
      "source": [
        "from torchvision import datasets, transforms\n",
        "\n",
        "preprocess = transforms.Compose([transforms.Resize((196, 196)), transforms.CenterCrop((160, 160)),\n",
        "                                 transforms.ToTensor()])\n",
        "data_root = r\"caltech_subset\"\n",
        "\n",
        "train_data_path = os.path.join(data_root, 'train')\n",
        "test_data_path = os.path.join(data_root, 'test')\n",
        "\n",
        "train_loader = torch.utils.data.DataLoader(\n",
        "    datasets.ImageFolder(root=train_data_path, transform=preprocess),\n",
        "    batch_size=16,\n",
        "    shuffle=True,\n",
        "    num_workers=2\n",
        ")\n",
        "\n",
        "test_loader = torch.util.data.DataLoader(\n",
        "    datasets.ImageFolder(root=test_data_path, transform=preprocess),\n",
        "    batch_size=16,\n",
        "    shuffle=False,\n",
        "    num_workers=2\n",
        ")"
      ],
      "metadata": {
        "id": "ej4G1wDcOfk9"
      },
      "execution_count": null,
      "outputs": []
    },
    {
      "cell_type": "code",
      "source": [
        "import torch"
      ],
      "metadata": {
        "id": "IQ6IeulEbn2m"
      },
      "execution_count": null,
      "outputs": []
    },
    {
      "cell_type": "code",
      "source": [
        "import matplotlib.pyplot as plt\n",
        "\n",
        "plt.rcParams[\"figure.figsize\"] = (16, 10)"
      ],
      "metadata": {
        "id": "A-wIzyiazmtd"
      },
      "execution_count": null,
      "outputs": []
    },
    {
      "cell_type": "code",
      "source": [
        "def sumofn(n):\n",
        "  return (n * (n+1))/2\n"
      ],
      "metadata": {
        "id": "viKbXAxvAvRm"
      },
      "execution_count": null,
      "outputs": []
    },
    {
      "cell_type": "code",
      "source": [
        "sumofn(10)"
      ],
      "metadata": {
        "colab": {
          "base_uri": "https://localhost:8080/"
        },
        "id": "lTNP-cIEAvbT",
        "outputId": "88a4199e-2b3c-471b-fa47-0142c86c8287"
      },
      "execution_count": null,
      "outputs": [
        {
          "output_type": "execute_result",
          "data": {
            "text/plain": [
              "55.0"
            ]
          },
          "metadata": {},
          "execution_count": 2
        }
      ]
    },
    {
      "cell_type": "code",
      "source": [
        "n = int(input(\"Enter n:\"))\n",
        "n"
      ],
      "metadata": {
        "colab": {
          "base_uri": "https://localhost:8080/"
        },
        "id": "J8jfV0jaBIEI",
        "outputId": "471d2eef-4d5e-405c-e9a9-55436a201427"
      },
      "execution_count": null,
      "outputs": [
        {
          "name": "stdout",
          "output_type": "stream",
          "text": [
            "Enter n:5\n"
          ]
        },
        {
          "output_type": "execute_result",
          "data": {
            "text/plain": [
              "5"
            ]
          },
          "metadata": {},
          "execution_count": 3
        }
      ]
    },
    {
      "cell_type": "code",
      "source": [
        "n = int(input(\"Enter input number:\"))\n",
        "\n",
        "i = 0\n",
        "while n>0:\n",
        "  n = n// 10\n",
        "  i +=1\n",
        "\n",
        "print(i)\n",
        "\n"
      ],
      "metadata": {
        "colab": {
          "base_uri": "https://localhost:8080/"
        },
        "id": "tZXjhifGEbHa",
        "outputId": "a4504518-dc47-4c0c-cf65-313be1f0dec2"
      },
      "execution_count": null,
      "outputs": [
        {
          "output_type": "stream",
          "name": "stdout",
          "text": [
            "Enter input number:564\n",
            "3\n"
          ]
        }
      ]
    },
    {
      "cell_type": "code",
      "source": [
        "n = str(input(\"Enter the input:\"))\n",
        "\n",
        "length = len(n)\n",
        "\n",
        "number = int(n)\n",
        "if number < 10:\n",
        "  print(\"yes\")\n",
        "\n",
        "else:\n",
        "  reverse =\"\"\n",
        "  for i in range(length - 1, -1, -1):\n",
        "    reverse = reverse + n[i]\n",
        "\n",
        "  if reverse == n:\n",
        "    print(\"yes\")\n",
        "  else:\n",
        "    print(\"No\")"
      ],
      "metadata": {
        "colab": {
          "base_uri": "https://localhost:8080/"
        },
        "id": "7TYZtPGVMW_1",
        "outputId": "34c24211-7213-4d4b-e52e-cb5f0d5565f7"
      },
      "execution_count": null,
      "outputs": [
        {
          "output_type": "stream",
          "name": "stdout",
          "text": [
            "Enter the input:233\n",
            "No\n"
          ]
        }
      ]
    },
    {
      "cell_type": "code",
      "source": [
        "15 % 12"
      ],
      "metadata": {
        "id": "HSL3DJrDP1R5",
        "colab": {
          "base_uri": "https://localhost:8080/"
        },
        "outputId": "cb08cb74-48cd-4d59-9677-6261b7cc3f99"
      },
      "execution_count": null,
      "outputs": [
        {
          "output_type": "execute_result",
          "data": {
            "text/plain": [
              "3"
            ]
          },
          "metadata": {},
          "execution_count": 2
        }
      ]
    },
    {
      "cell_type": "markdown",
      "metadata": {
        "id": "7f336910"
      },
      "source": [
        "# Task\n",
        "Explain the error in the selected code, fix it if possible, and incorporate the changes. If not, diagnose the error."
      ]
    },
    {
      "cell_type": "markdown",
      "metadata": {
        "id": "74149d4e"
      },
      "source": [
        "## Inspect `len` variable\n",
        "\n",
        "### Subtask:\n",
        "Add a code cell to display the current value and type of the variable `len` to confirm if it is an integer.\n"
      ]
    },
    {
      "cell_type": "markdown",
      "metadata": {
        "id": "dca1d2f9"
      },
      "source": [
        "**Reasoning**:\n",
        "The subtask is to display the value and type of the variable `len`. This can be done in a single code cell.\n",
        "\n"
      ]
    },
    {
      "cell_type": "code",
      "metadata": {
        "colab": {
          "base_uri": "https://localhost:8080/"
        },
        "id": "a75080e1",
        "outputId": "d1fc705c-1cc7-48c8-c43a-f2f741c62bf8"
      },
      "source": [
        "print(len)\n",
        "print(type(len))"
      ],
      "execution_count": null,
      "outputs": [
        {
          "output_type": "stream",
          "name": "stdout",
          "text": [
            "3\n",
            "<class 'int'>\n"
          ]
        }
      ]
    },
    {
      "cell_type": "markdown",
      "metadata": {
        "id": "11eec454"
      },
      "source": [
        "## Rerun the corrected cell\n",
        "\n",
        "### Subtask:\n",
        "After confirming that `len` is indeed an integer, advise the user to rerun the corrected code cell (cell_id: 7TYZtPGVMW_1).\n"
      ]
    },
    {
      "cell_type": "markdown",
      "metadata": {
        "id": "3e83c179"
      },
      "source": [
        "## Summary:\n",
        "\n",
        "### Data Analysis Key Findings\n",
        "\n",
        "*   The variable `len` was found to be an integer with a value of 3, overwriting the built-in `len` function.\n",
        "*   This redefinition caused a `TypeError` when the built-in `len` function was called later in the code.\n",
        "*   The variable causing the conflict was successfully renamed to `length` in the corrected code.\n",
        "\n",
        "### Insights or Next Steps\n",
        "\n",
        "*   When writing code, avoid using names that are already used by built-in Python functions to prevent unexpected errors.\n",
        "*   Rerunning the corrected code cell should now execute successfully without the `TypeError`.\n"
      ]
    }
  ]
}